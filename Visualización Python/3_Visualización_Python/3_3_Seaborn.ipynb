{
 "cells": [
  {
   "cell_type": "markdown",
   "metadata": {},
   "source": [
    "# SEABORN"
   ]
  },
  {
   "cell_type": "code",
   "execution_count": null,
   "metadata": {},
   "outputs": [],
   "source": [
    "# Generamos un dataset artificial\n",
    "import string\n",
    "import numpy as np\n",
    "import pandas as pd\n",
    "\n",
    "letters = ['TRIAL', 'ESTANDAR', 'PREMIUM']\n",
    "cuenta = [np.random.choice(letters) for i in range(0, 100)]\n",
    "valores = np.random.randn(100)\n",
    "acceso = np.random.randint(10, 100, 100)\n",
    "\n",
    "usuarios = pd.DataFrame({\n",
    "    'TIPO_CUENTA': cuenta,\n",
    "    'VALOR_CUENTA': valores,\n",
    "    'ACCESO_CUENTA': acceso\n",
    "})\n",
    "\n",
    "usuarios.head()"
   ]
  },
  {
   "cell_type": "code",
   "execution_count": null,
   "metadata": {},
   "outputs": [],
   "source": [
    "usuarios.describe()"
   ]
  },
  {
   "cell_type": "code",
   "execution_count": null,
   "metadata": {},
   "outputs": [],
   "source": [
    "(usuarios.TIPO_CUENTA.value_counts() / len(usuarios)) * 100"
   ]
  },
  {
   "cell_type": "markdown",
   "metadata": {},
   "source": [
    "**Seaborn** actúa como un interfaz de alto nivel sobre **Matplotlib** para visualización de datos, se especializa en realizar gráficas de forma más sencilla y con necesidad de menos código que con Matplotlib.\n",
    "\n",
    "La especialidad de esta librería se basa en la generación de gráficos estadísticos, aunque, las principales funcionalidades que podemos encontrarnos son:\n",
    "* Una API orientada a encontrar las relaciones entre múltiples variables de un dataset.\n",
    "* Gran soporte dedicado a variables categóricas para mostrar sus estadísticas.\n",
    "* Capacidad de comparar diferentes tipos de distribuciones.\n",
    "* Estimación y visualización automática de regresión lineal.\n",
    "* Posibilidad de obtener los múltiples facets de una variable.\n",
    "\n",
    "NOTA: Se recomienda tener importado Pandas para poder realizar operaciones sobre los datasets además de visualización. También se recomienda siempre trabajar junto con pyplot\n",
    "\n",
    "Importamos las librerías"
   ]
  },
  {
   "cell_type": "code",
   "execution_count": null,
   "metadata": {},
   "outputs": [],
   "source": [
    "from matplotlib import pyplot as plt\n",
    "%matplotlib inline\n",
    "\n",
    "import seaborn as sns"
   ]
  },
  {
   "cell_type": "markdown",
   "metadata": {},
   "source": [
    "Lo primero que vamos a hacer es mostrar la simplicidad de seaborn a través de un gráfico de nube de puntos y su regresión lineal. Esta acción la realizamos con una única función <code>**lmplot**</code>, los parámetros principales que necesitará la fucnión son **x**, **y**, **data**"
   ]
  },
  {
   "cell_type": "code",
   "execution_count": null,
   "metadata": {},
   "outputs": [],
   "source": [
    "sns.lmplot(x=\"VALOR_CUENTA\", y = 'ACCESO_CUENTA', data = usuarios)"
   ]
  },
  {
   "cell_type": "markdown",
   "metadata": {},
   "source": [
    "Una de las curiosidades de Seaborn es que, al ser de alto nivel, integra varias funciones al mismo tiempo, en la gráfica anterior vemos 3, nube de puntos, línea de ajuste y el smooth, no obstante, para pintar solamente una nube de puntos, tenemos que desactivar parámetros, en este caso **fit_reg** toma valores True o False, lo desactivamos."
   ]
  },
  {
   "cell_type": "code",
   "execution_count": null,
   "metadata": {},
   "outputs": [],
   "source": [
    "sns.lmplot(x=\"VALOR_CUENTA\", y = 'ACCESO_CUENTA', \n",
    "           data = usuarios, fit_reg=False)"
   ]
  },
  {
   "cell_type": "markdown",
   "metadata": {},
   "source": [
    "De un modo similar a ggplot, podemos mostrar el color de la gráfica en función de otra varaible, en este caso, vamos a mostrar el color por los 3 niveles de la variable TIPO_CUENTA, para mostrar el color utilizamos el parámetro **hue**"
   ]
  },
  {
   "cell_type": "code",
   "execution_count": null,
   "metadata": {},
   "outputs": [],
   "source": [
    "sns.lmplot(x=\"VALOR_CUENTA\", y = 'ACCESO_CUENTA', \n",
    "           data = usuarios, hue = 'TIPO_CUENTA', \n",
    "           fit_reg=False, legend=True, legend_out=True)"
   ]
  },
  {
   "cell_type": "markdown",
   "metadata": {},
   "source": [
    "### Pregunta.\n",
    "\n",
    "Si ahora en la visualización anterior, volvemos a gregar `fit_reg=True`, ¿Cómo se realizará la regresión lineal?"
   ]
  },
  {
   "cell_type": "code",
   "execution_count": null,
   "metadata": {},
   "outputs": [],
   "source": []
  },
  {
   "cell_type": "markdown",
   "metadata": {},
   "source": [
    "Algunos tipos de gráfico, no toman parámetros obligatorios x e y, por lo que podemos pasar todo el dataset completo."
   ]
  },
  {
   "cell_type": "code",
   "execution_count": null,
   "metadata": {},
   "outputs": [],
   "source": [
    "sns.boxplot(data=usuarios)"
   ]
  },
  {
   "cell_type": "code",
   "execution_count": null,
   "metadata": {},
   "outputs": [],
   "source": [
    "sns.violinplot(data=usuarios)"
   ]
  },
  {
   "cell_type": "markdown",
   "metadata": {},
   "source": [
    "No obstante, podemos siempre definir los conjuntos de datos que queremos mostrar en la gráfica."
   ]
  },
  {
   "cell_type": "code",
   "execution_count": null,
   "metadata": {},
   "outputs": [],
   "source": [
    "sns.violinplot(x=usuarios.TIPO_CUENTA, \n",
    "               y=usuarios.VALOR_CUENTA, \n",
    "               data=usuarios)"
   ]
  },
  {
   "cell_type": "markdown",
   "metadata": {},
   "source": [
    "También podemos definir un tipo de colores propio. Simplemente tenemos que pasar una lista con los valores al parámetro **palette**"
   ]
  },
  {
   "cell_type": "code",
   "execution_count": null,
   "metadata": {},
   "outputs": [],
   "source": [
    "sns.boxplot(x=usuarios.TIPO_CUENTA, \n",
    "            y=usuarios.VALOR_CUENTA, \n",
    "            data=usuarios,\n",
    "            palette=['red', 'blue', 'green'])"
   ]
  },
  {
   "cell_type": "markdown",
   "metadata": {},
   "source": [
    "Una característica muy importante de Seaborn es que nos permite solapar gráficas entre sí, vamos a utilizar nuestro anterior boxplot y añadiremos otro tipo de gráfica que muestra la dispersión de los puntos reflejando la estructura de un boxplot, utilizaremos <code>**swarmplot**</code>"
   ]
  },
  {
   "cell_type": "code",
   "execution_count": null,
   "metadata": {},
   "outputs": [],
   "source": [
    "sns.boxplot(x=usuarios.TIPO_CUENTA, \n",
    "            y=usuarios.VALOR_CUENTA, \n",
    "            data=usuarios,\n",
    "            palette=['red', 'blue', 'green'],\n",
    "            saturation=0.3)\n",
    "\n",
    "sns.swarmplot(x=usuarios.TIPO_CUENTA, \n",
    "              y=usuarios.VALOR_CUENTA, \n",
    "              data=usuarios, \n",
    "              color='k')"
   ]
  },
  {
   "cell_type": "markdown",
   "metadata": {},
   "source": [
    "Algunos colores que podemos utilizar en Seaborn: https://python-graph-gallery.com/100-calling-a-color-with-seaborn/"
   ]
  },
  {
   "cell_type": "code",
   "execution_count": null,
   "metadata": {},
   "outputs": [],
   "source": [
    "sns.boxplot(x=usuarios.TIPO_CUENTA, \n",
    "            y=usuarios.VALOR_CUENTA, \n",
    "            data=usuarios,\n",
    "            palette=['olive', 'teal', 'indigo'],\n",
    "            saturation=0.5)\n",
    "\n",
    "sns.swarmplot(x=usuarios.TIPO_CUENTA, \n",
    "              y=usuarios.VALOR_CUENTA, \n",
    "              data=usuarios, \n",
    "              color='darkred')"
   ]
  },
  {
   "cell_type": "markdown",
   "metadata": {},
   "source": [
    "Podemos añadir títulos y texto para los ejes x e y del mismo modo que con pyplot."
   ]
  },
  {
   "cell_type": "code",
   "execution_count": null,
   "metadata": {},
   "outputs": [],
   "source": [
    "sns.boxplot(x=usuarios.TIPO_CUENTA, \n",
    "            y=usuarios.VALOR_CUENTA, \n",
    "            data=usuarios,\n",
    "            palette=['red', 'blue', 'green'],\n",
    "            saturation=0.3)\n",
    "\n",
    "sns.swarmplot(x=usuarios.TIPO_CUENTA, \n",
    "              y=usuarios.VALOR_CUENTA, \n",
    "              data=usuarios, \n",
    "              color='k')\n",
    "\n",
    "plt.title('Valor de la cuenta por tipo')\n",
    "plt.xlabel('TIPO DE CUENTA')\n",
    "plt.ylabel('VALOR DE LA CUENTA')\n",
    "plt.show()"
   ]
  },
  {
   "cell_type": "markdown",
   "metadata": {},
   "source": [
    "Tal y como hemos mencionado anteriormente, al ser una librería de alto nivel integra diferentes operaciones sobre una misma gráfica. Veremos en el siguiente ejemplo con <code>**histplot**</code> como realizar sin esfuerzo un histograma."
   ]
  },
  {
   "cell_type": "code",
   "execution_count": null,
   "metadata": {},
   "outputs": [],
   "source": [
    "sns.distplot(a=usuarios.VALOR_CUENTA, color='blue')"
   ]
  },
  {
   "cell_type": "markdown",
   "metadata": {},
   "source": [
    "Otra característica de Seaborn es poder representar gráficamente de una forma sencilla la frecuenica de las variables con <code>**countplot**</code>"
   ]
  },
  {
   "cell_type": "code",
   "execution_count": null,
   "metadata": {},
   "outputs": [],
   "source": [
    "sns.countplot(x='TIPO_CUENTA', data=usuarios)"
   ]
  },
  {
   "cell_type": "markdown",
   "metadata": {},
   "source": [
    "Al igual que con ggplot, también podemos realizar *faceting* y mostrar sub-gráficas por cada valor de una variable, ya sea categórica o numérica. La función encargada para realizar esta acción es <code>**catplot**</code>"
   ]
  },
  {
   "cell_type": "code",
   "execution_count": null,
   "metadata": {},
   "outputs": [],
   "source": [
    "df = sns.load_dataset(\"titanic\")\n",
    "sns.catplot(data=df, x=\"age\", y=\"class\")"
   ]
  },
  {
   "cell_type": "code",
   "execution_count": null,
   "metadata": {},
   "outputs": [],
   "source": [
    "sns.catplot(data=df, x=\"age\", y=\"class\", hue=\"sex\", kind=\"boxen\")"
   ]
  },
  {
   "cell_type": "code",
   "execution_count": null,
   "metadata": {},
   "outputs": [],
   "source": [
    "g = sns.catplot(\n",
    "    data=df, x=\"who\", y=\"survived\", col=\"class\",\n",
    "    kind=\"bar\", height=4, aspect=.6,\n",
    ")\n",
    "g.set_axis_labels(\"\", \"Survival Rate\")\n",
    "g.set_xticklabels([\"Men\", \"Women\", \"Children\"])"
   ]
  },
  {
   "cell_type": "markdown",
   "metadata": {},
   "source": [
    "Otra característica importante también mencionada al principio del contenido, es que Seaborn está integrado con varias funciones de pandas, en este caso, realizaremos una visualización en base a una matriz de correlación con <code>**heatmap**</code>.\n",
    "\n",
    "Como tenemos muy pocas variables numéricas en nuestro dataset, vamos a generar algunas más.\n",
    "\n",
    "Nota: Se recomieda ver el siguiente enlace para conocer los diferentes mapas de colores con: https://matplotlib.org/3.2.0/tutorials/colors/colormaps.html"
   ]
  },
  {
   "cell_type": "code",
   "execution_count": null,
   "metadata": {},
   "outputs": [],
   "source": [
    "new_df = usuarios.copy()\n",
    "\n",
    "new_df['SQUARE'] = new_df.VALOR_CUENTA**2\n",
    "new_df['CUBIC'] = new_df.VALOR_CUENTA**3\n",
    "new_df['NEW_INTS_1'] = np.random.randint(10, 100, 100)\n",
    "new_df['NEW_INTS_2'] = np.random.randint(10, 100, 100)"
   ]
  },
  {
   "cell_type": "code",
   "execution_count": null,
   "metadata": {},
   "outputs": [],
   "source": [
    "sns.heatmap(new_df.corr(), cmap='Greys')"
   ]
  },
  {
   "cell_type": "markdown",
   "metadata": {},
   "source": [
    "Seaborn también dispone de la opción de realizar diagramas *pairs* o matrices de visualización, la función encargada de ello es <code>**pairplot**</code>"
   ]
  },
  {
   "cell_type": "code",
   "execution_count": null,
   "metadata": {},
   "outputs": [],
   "source": [
    "sns.pairplot(data=new_df, hue='TIPO_CUENTA')"
   ]
  },
  {
   "cell_type": "markdown",
   "metadata": {},
   "source": [
    "Finalmente, mostraremos cómo realizar gráficos conjuntos, es decir, por una parte mostrar una nube de puntos entre dos variables y, al mismo tiempo estar mostrando sus distribuciones. Para este tipo de visualización, disponemos de <code>**joinplot**</code>"
   ]
  },
  {
   "cell_type": "code",
   "execution_count": null,
   "metadata": {},
   "outputs": [],
   "source": [
    "sns.jointplot(x='ACCESO_CUENTA', y='VALOR_CUENTA', data=new_df, kind='reg')"
   ]
  },
  {
   "cell_type": "markdown",
   "metadata": {},
   "source": [
    "En caso de que tengamos datos históricos podemos representarlos con `lineplot`"
   ]
  },
  {
   "cell_type": "code",
   "execution_count": null,
   "metadata": {},
   "outputs": [],
   "source": [
    "flights = sns.load_dataset(\"flights\")\n",
    "flights.head()"
   ]
  },
  {
   "cell_type": "code",
   "execution_count": null,
   "metadata": {},
   "outputs": [],
   "source": [
    "flights_wide = flights.pivot(\"year\", \"month\", \"passengers\")\n",
    "flights_wide.head()"
   ]
  },
  {
   "cell_type": "code",
   "execution_count": null,
   "metadata": {},
   "outputs": [],
   "source": [
    "sns.lineplot(data=flights_wide)"
   ]
  },
  {
   "cell_type": "code",
   "execution_count": null,
   "metadata": {},
   "outputs": [],
   "source": [
    "sns.lineplot(data=flights, x=\"year\", y=\"passengers\")"
   ]
  }
 ],
 "metadata": {
  "kernelspec": {
   "display_name": "Python 3 (ipykernel)",
   "language": "python",
   "name": "python3"
  },
  "language_info": {
   "codemirror_mode": {
    "name": "ipython",
    "version": 3
   },
   "file_extension": ".py",
   "mimetype": "text/x-python",
   "name": "python",
   "nbconvert_exporter": "python",
   "pygments_lexer": "ipython3",
   "version": "3.10.9"
  }
 },
 "nbformat": 4,
 "nbformat_minor": 2
}
