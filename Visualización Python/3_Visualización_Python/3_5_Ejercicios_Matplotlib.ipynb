{
 "cells": [
  {
   "cell_type": "markdown",
   "metadata": {},
   "source": [
    "# Exercises - Matplotlib\n",
    "\n",
    "We have a database (company_sales_data.csv) that include information of total amounts about different products by month, the data contains summarized year of sales, the shape of data is 12x9, with the following columns:\n",
    "* month_number: Month number\n",
    "* facecream: Sales of face cream products\n",
    "* facewash: Sales of face wash products\n",
    "* toothpaste: Sales of tooth paste products\n",
    "* bathingsoap: Sales of bathing soaps products\n",
    "* shampoo: Sales of shampoo \n",
    "* moisturizer: Sales of moisturizer\n",
    "* total_units: Total units sold by month\n",
    "* total_profit:  General profit by month\n",
    "\n",
    "With the dataset information, do the following:\n",
    "* Read Total profit of all months and show it using a line plot\n",
    "* Get total profit of all months and show line plot with the following Style properties:\n",
    "    + Line Style dotted and Line-color should be red\n",
    "    + Show legend at the lower right location.\n",
    "    + X label name = Month Number\n",
    "    + Y label name = Sold units number\n",
    "    + Add a circle marker.\n",
    "    + Line marker color as read\n",
    "    + Line width should be 3\n",
    "* Read all product sales data and show it using a multiline plot\n",
    "* Repeat the same analysis as the previous chart but with subplots\n",
    "* Read toothpaste sales data of each month and show it using a scatter plot\n",
    "* Read face cream and facewash product sales data and show it using the bar chart. The bar chart should display the number of units sold per month for each product. Add a separate bar for each product in the same chart.\n",
    "* Read sales data of bathing soap of all months and show it using a bar chart\n",
    "* Read the total profit of each month and show it using the histogram to see the most common profit ranges\n",
    "* Calculate total sale data for last year for each product and show it using a Pie chart\n",
    "* Read Bathing soap facewash of all months and display it using the Subplot of type bar\n",
    "* Read all product sales data and show it using the stack plot\n"
   ]
  },
  {
   "cell_type": "code",
   "execution_count": null,
   "metadata": {},
   "outputs": [],
   "source": [
    "import pandas as pd\n",
    "import matplotlib.pyplot as plt  "
   ]
  },
  {
   "cell_type": "code",
   "execution_count": null,
   "metadata": {},
   "outputs": [],
   "source": [
    "df = pd.read_csv(\"company_sales_data.csv\")"
   ]
  },
  {
   "cell_type": "code",
   "execution_count": null,
   "metadata": {},
   "outputs": [],
   "source": [
    "df.head()"
   ]
  },
  {
   "cell_type": "code",
   "execution_count": null,
   "metadata": {},
   "outputs": [],
   "source": [
    "df.info()"
   ]
  },
  {
   "cell_type": "code",
   "execution_count": null,
   "metadata": {},
   "outputs": [],
   "source": [
    "df.describe()"
   ]
  },
  {
   "cell_type": "code",
   "execution_count": null,
   "metadata": {},
   "outputs": [],
   "source": [
    "# Let's take a look to the means of each product\n",
    "df.groupby([\"month_number\"]).mean()"
   ]
  },
  {
   "cell_type": "markdown",
   "metadata": {},
   "source": [
    "Read Total profit of all months and show it using a line plot"
   ]
  },
  {
   "cell_type": "code",
   "execution_count": null,
   "metadata": {},
   "outputs": [],
   "source": [
    "plt.rcParams['figure.figsize'] = [15, 8]\n",
    "\n",
    "plt.plot(df.month_number, df.total_profit, \n",
    "         label = 'Month-wise Profit data of last year', \n",
    "         marker = 'o', \n",
    "         color = \"darkgreen\")\n",
    "\n",
    "for value in range(df.shape[0]):\n",
    "    plt.text(df.month_number[value], df.total_profit[value] +1, str(df.total_profit[value]))\n",
    "    \n",
    "plt.xlabel('Month number')\n",
    "plt.ylabel('Profit in dollar')\n",
    "plt.xticks(df.month_number)\n",
    "plt.title('Company profit per month')\n",
    "plt.yticks([100000, 200000, 300000, 400000, 500000])\n",
    "plt.show()"
   ]
  },
  {
   "cell_type": "markdown",
   "metadata": {},
   "source": [
    "Get total profit of all months and show line plot with the following Style properties:\n",
    "* Line Style dotted and Line-color should be red\n",
    "* Show legend at the lower right location.\n",
    "* X label name = Month Number\n",
    "* Y label name = Sold units number\n",
    "* Add a circle marker.\n",
    "* Line marker color as read\n",
    "* Line width should be 3"
   ]
  },
  {
   "cell_type": "code",
   "execution_count": null,
   "metadata": {},
   "outputs": [],
   "source": [
    "plt.plot(df.month_number, df.total_profit, label = 'Profit data of last year', \n",
    "      color='r', marker='o', markerfacecolor='k', \n",
    "      linestyle='--', linewidth=3)\n",
    "\n",
    "for value in range(df.shape[0]):\n",
    "    plt.text(df.month_number[value], df.total_profit[value] +1, str(df.total_profit[value]))\n",
    "    \n",
    "plt.xlabel('Month Number')\n",
    "plt.ylabel('Profit in dollar')\n",
    "plt.legend(loc='lower right')\n",
    "plt.title('Company Sales data of last year')\n",
    "plt.xticks(df.month_number)\n",
    "plt.yticks([100000, 200000, 300000, 400000, 500000])\n",
    "plt.show()"
   ]
  },
  {
   "cell_type": "markdown",
   "metadata": {},
   "source": [
    "Read all product sales data and show it using a multiline plot"
   ]
  },
  {
   "cell_type": "code",
   "execution_count": null,
   "metadata": {},
   "outputs": [],
   "source": [
    "monthList            = df['month_number'].tolist()\n",
    "faceCremSalesData    = df['facecream'].tolist()\n",
    "faceWashSalesData    = df['facewash'].tolist()\n",
    "toothPasteSalesData  = df['toothpaste'].tolist()\n",
    "bathingsoapSalesData = df['bathingsoap'].tolist()\n",
    "shampooSalesData     = df['shampoo'].tolist()\n",
    "moisturizerSalesData = df['moisturizer'].tolist()\n",
    "\n",
    "plt.plot(monthList, faceCremSalesData,   label = 'Face cream Sales Data', marker='o', linewidth=3)\n",
    "plt.plot(monthList, faceWashSalesData,   label = 'Face Wash Sales Data',  marker='o', linewidth=3)   \n",
    "plt.plot(monthList, toothPasteSalesData, label = 'ToothPaste Sales Data', marker='o', linewidth=3)\n",
    "plt.plot(monthList, bathingsoapSalesData, label = 'ToothPaste Sales Data', marker='o', linewidth=3)\n",
    "plt.plot(monthList, shampooSalesData, label = 'ToothPaste Sales Data', marker='o', linewidth=3)\n",
    "plt.plot(monthList, moisturizerSalesData, label = 'ToothPaste Sales Data', marker='o', linewidth=3)\n",
    "\n",
    "plt.xlabel('Month Number')\n",
    "plt.ylabel('Sales units in number')\n",
    "plt.legend(loc='upper left')\n",
    "plt.xticks(monthList)\n",
    "plt.yticks([1000, 2000, 4000, 6000, 8000, 10000, 12000, 15000, 18000])\n",
    "plt.title('Sales data')\n",
    "plt.show()"
   ]
  },
  {
   "cell_type": "markdown",
   "metadata": {},
   "source": [
    "Repeat the same analysis as the previous chart but with subplots"
   ]
  },
  {
   "cell_type": "code",
   "execution_count": null,
   "metadata": {},
   "outputs": [],
   "source": [
    "fig, ax = plt.subplots(6,1, figsize=(15,25))\n",
    "\n",
    "ax[0].plot(monthList, faceCremSalesData,   label = 'Face cream Sales Data', marker='o', linewidth=3, color = \"r\")\n",
    "for value in range(df.shape[0]):\n",
    "    ax[0].text(monthList[value], faceCremSalesData[value] +1.5, str(faceCremSalesData[value]))\n",
    "\n",
    "ax[1].plot(monthList, faceWashSalesData,   label = 'Face Wash Sales Data',  marker='o', linewidth=3, color = \"g\")  \n",
    "for value in range(df.shape[0]):\n",
    "    ax[1].text(monthList[value], faceWashSalesData[value] +1.5, str(faceWashSalesData[value]))\n",
    "    \n",
    "ax[2].plot(monthList, toothPasteSalesData, label = 'ToothPaste Sales Data', marker='o', linewidth=3, color = \"b\")\n",
    "for value in range(df.shape[0]):\n",
    "    ax[2].text(monthList[value], toothPasteSalesData[value] +1.5, str(toothPasteSalesData[value]))\n",
    "    \n",
    "ax[3].plot(monthList, bathingsoapSalesData, label = 'ToothPaste Sales Data', marker='o', linewidth=3, color = \"purple\")\n",
    "for value in range(df.shape[0]):\n",
    "    ax[3].text(monthList[value], bathingsoapSalesData[value] +1.5, str(bathingsoapSalesData[value]))\n",
    "    \n",
    "ax[4].plot(monthList, shampooSalesData, label = 'ToothPaste Sales Data', marker='o', linewidth=3, color = \"black\")\n",
    "for value in range(df.shape[0]):\n",
    "    ax[4].text(monthList[value], shampooSalesData[value] +1.5, str(shampooSalesData[value]))\n",
    "    \n",
    "ax[5].plot(monthList, moisturizerSalesData, label = 'ToothPaste Sales Data', marker='o', linewidth=3, color = \"darkorange\")\n",
    "for value in range(df.shape[0]):\n",
    "    ax[5].text(monthList[value], moisturizerSalesData[value] +1.5, str(moisturizerSalesData[value]))\n",
    "\n",
    "ax[0].legend(loc=4) \n",
    "ax[1].legend(loc=4) \n",
    "ax[2].legend(loc=4) \n",
    "ax[3].legend(loc=4) \n",
    "ax[4].legend(loc=4) \n",
    "ax[5].legend(loc=4) "
   ]
  },
  {
   "cell_type": "markdown",
   "metadata": {},
   "source": [
    "Read toothpaste sales data of each month and show it using a scatter plot"
   ]
  },
  {
   "cell_type": "code",
   "execution_count": null,
   "metadata": {},
   "outputs": [],
   "source": [
    "plt.scatter(df.month_number, df.toothpaste, label = 'Tooth paste Sales data')\n",
    "for value in range(df.shape[0]):\n",
    "    plt.text(df.month_number[value]+.15, df.toothpaste[value] +1.5, str(df.toothpaste[value]))\n",
    "    \n",
    "plt.xlabel('Month Number')\n",
    "plt.ylabel('Number of units Sold')\n",
    "plt.legend(loc='upper left')\n",
    "plt.title(' Tooth paste Sales data')\n",
    "plt.xticks(df.month_number)\n",
    "plt.grid(True, linewidth= 1, linestyle=\"--\")\n",
    "plt.show()"
   ]
  },
  {
   "cell_type": "markdown",
   "metadata": {},
   "source": [
    "Read face cream and facewash product sales data and show it using the bar chart. The bar chart should display the number of units sold per month for each product. Add a separate bar for each product in the same chart."
   ]
  },
  {
   "cell_type": "code",
   "execution_count": null,
   "metadata": {},
   "outputs": [],
   "source": [
    "fig, ax = plt.subplots(1,1, figsize=(15,8))\n",
    "\n",
    "ax.bar([a-0.25 for a in df.month_number], faceCremSalesData, \n",
    "       width= 0.25, label = 'Face Cream sales data', align='edge', color = \"darkred\")\n",
    "for value in range(df.shape[0]):\n",
    "    ax.text(df.month_number[value]+.10, faceCremSalesData[value] +1.5, str(faceCremSalesData[value]))\n",
    "    \n",
    "ax.bar([a+0.25 for a in df.month_number], faceWashSalesData, \n",
    "       width= -0.25, label = 'Face Wash sales data', align='edge', color = \"darkgreen\")\n",
    "for value in range(df.shape[0]):\n",
    "    ax.text(df.month_number[value]+.10, faceWashSalesData[value] +1.5, str(faceWashSalesData[value]))\n",
    "    \n",
    "plt.xlabel('Month Number')\n",
    "plt.ylabel('Sales units in number')\n",
    "plt.legend(loc='upper left')\n",
    "plt.title(' Sales data')\n",
    "\n",
    "plt.xticks(df.month_number)\n",
    "plt.grid(True, linewidth= 1, linestyle=\"--\")\n",
    "plt.title('Facewash and facecream sales data')\n",
    "plt.show()"
   ]
  },
  {
   "cell_type": "markdown",
   "metadata": {},
   "source": [
    "Read sales data of bathing soap of all months and show it using a bar chart"
   ]
  },
  {
   "cell_type": "code",
   "execution_count": null,
   "metadata": {},
   "outputs": [],
   "source": [
    "from matplotlib.pyplot import cm\n",
    "import numpy as np\n",
    "\n",
    "plt.bar(df.month_number, df.bathingsoap, color = cm.rainbow(np.linspace(0, 1, len(df.month_number))))\n",
    "for value in range(df.shape[0]):\n",
    "    plt.text(df.month_number[value]-0.25,  df.bathingsoap[value]+1, str(df.bathingsoap[value]))\n",
    "    \n",
    "plt.xlabel('Month Number')\n",
    "plt.ylabel('Sales units in number')\n",
    "plt.title(' Sales data')\n",
    "plt.xticks(df.month_number)\n",
    "plt.grid(True, linewidth= 1, linestyle=\"--\")\n",
    "plt.title('bathingsoap sales data')\n",
    "plt.show()"
   ]
  },
  {
   "cell_type": "markdown",
   "metadata": {},
   "source": [
    "Read the total profit of each month and show it using the histogram to see the most common profit ranges"
   ]
  },
  {
   "cell_type": "code",
   "execution_count": null,
   "metadata": {},
   "outputs": [],
   "source": [
    "profitList = df ['total_profit'].tolist()\n",
    "profit_range = [150000, 175000, 200000, 225000, 250000, 300000, 350000]\n",
    "plt.hist(profitList, profit_range, label = 'Profit data')\n",
    "plt.xlabel('profit range in dollar')\n",
    "plt.ylabel('Actual Profit in dollar')\n",
    "plt.legend(loc='upper left')\n",
    "plt.xticks(profit_range)\n",
    "plt.title('Profit data')\n",
    "plt.show()"
   ]
  },
  {
   "cell_type": "markdown",
   "metadata": {},
   "source": [
    "Calculate total sale data for last year for each product and show it using a Pie chart"
   ]
  },
  {
   "cell_type": "code",
   "execution_count": null,
   "metadata": {},
   "outputs": [],
   "source": [
    "labels = ['FaceCream', 'FaseWash', 'ToothPaste', 'Bathing soap', 'Shampoo', 'Moisturizer']\n",
    "salesData   = [df ['facecream'].sum(), df ['facewash'].sum(), df ['toothpaste'].sum(), \n",
    "               df ['bathingsoap'].sum(), df ['shampoo'].sum(), df ['moisturizer'].sum()\n",
    "              ]\n",
    "plt.axis(\"equal\")\n",
    "plt.pie(salesData, labels=labels, autopct='%1.1f%%')\n",
    "plt.legend(loc='lower right')\n",
    "plt.title('Sales data')\n",
    "plt.show()"
   ]
  },
  {
   "cell_type": "markdown",
   "metadata": {},
   "source": [
    "Read Bathing soap facewash of all months and display it using the Subplot of type bar"
   ]
  },
  {
   "cell_type": "code",
   "execution_count": null,
   "metadata": {},
   "outputs": [],
   "source": [
    "df.columns"
   ]
  },
  {
   "cell_type": "code",
   "execution_count": null,
   "metadata": {},
   "outputs": [],
   "source": [
    "df[[\"facewash\", \"bathingsoap\"]].plot(kind=\"barh\", subplots=True)\n",
    "plt.show()"
   ]
  },
  {
   "cell_type": "markdown",
   "metadata": {},
   "source": [
    "Read all product sales data and show it using the stack plot"
   ]
  },
  {
   "cell_type": "code",
   "execution_count": null,
   "metadata": {},
   "outputs": [],
   "source": [
    "plt.plot([],[],color='m', label='face Cream', linewidth=5)\n",
    "plt.plot([],[],color='c', label='Face wash', linewidth=5)\n",
    "plt.plot([],[],color='r', label='Tooth paste', linewidth=5)\n",
    "plt.plot([],[],color='k', label='Bathing soap', linewidth=5)\n",
    "plt.plot([],[],color='g', label='Shampoo', linewidth=5)\n",
    "plt.plot([],[],color='y', label='Moisturizer', linewidth=5)\n",
    "\n",
    "plt.stackplot(monthList, faceCremSalesData, faceWashSalesData, toothPasteSalesData, \n",
    "              bathingsoapSalesData, shampooSalesData, moisturizerSalesData, \n",
    "              colors=['m','c','r','k','g','y'])\n",
    "\n",
    "plt.xlabel('Month Number')\n",
    "plt.ylabel('Sales unints in Number')\n",
    "plt.title('Alll product sales data using stack plot')\n",
    "plt.legend(loc='upper left')\n",
    "plt.show()"
   ]
  }
 ],
 "metadata": {
  "kernelspec": {
   "display_name": "Python 3 (ipykernel)",
   "language": "python",
   "name": "python3"
  },
  "language_info": {
   "codemirror_mode": {
    "name": "ipython",
    "version": 3
   },
   "file_extension": ".py",
   "mimetype": "text/x-python",
   "name": "python",
   "nbconvert_exporter": "python",
   "pygments_lexer": "ipython3",
   "version": "3.10.9"
  }
 },
 "nbformat": 4,
 "nbformat_minor": 4
}
