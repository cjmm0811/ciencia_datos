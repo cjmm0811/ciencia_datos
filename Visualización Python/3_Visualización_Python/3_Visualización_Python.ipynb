{
 "cells": [
  {
   "cell_type": "markdown",
   "id": "0827b06b",
   "metadata": {},
   "source": [
    "# Matplotlib\n",
    "\n",
    "Es una de las librerías de visualización en Python por excelencia. Se basa en trabajar las visualizaciones desde sucesión de funciones, es decir, vamos lanzando funciones desde su módulo `plot()` que visualizamos la gráfica con la función `show()`\n",
    "\n",
    "+ Documentación de Matplotlib: https://matplotlib.org/\n",
    "+ Tutorial de Matplotlib: https://matplotlib.org/stable/tutorials/index\n",
    "+ Galería de visualizaciones: https://matplotlib.org/stable/gallery/index\n",
    "\n",
    "## Creando nuestro primer gráfico\n",
    "\n",
    "Lo primero que haremos será importar matplotlib, para trabajar con las funciones _plotting_ desde Python importaremos el módulo pyplot, generalmente Matplotlib, también se conoce con un alias __plt__\n",
    "\n",
    "```python\n",
    "import matplotlib.pyplot as plt\n",
    "```\n",
    "\n",
    "Una vez importado Matplotlib, para generar nuestra primera visualización, tomaremos dos listas, posteriormente, la función que se encarga de generar un gráfico es `plot()` por defecto, plot hasta que vayamos descubriendo otro tipo de visualizaciones genera un diagrama de líneas."
   ]
  },
  {
   "cell_type": "code",
   "execution_count": null,
   "id": "26191806",
   "metadata": {},
   "outputs": [],
   "source": [
    "import matplotlib.pyplot as plt"
   ]
  },
  {
   "cell_type": "code",
   "execution_count": null,
   "id": "92bef133",
   "metadata": {},
   "outputs": [],
   "source": [
    "# Datos\n",
    "x = [1, 2, 3, 4, 5]\n",
    "y = [2, 4, 12, 8, 10]\n",
    "\n",
    "# Crear el gráfico de línea\n",
    "plt.plot(x, y) # X es el eje horizontal X e Y, el eje vertical Y\n",
    "\n",
    "# Mostrar el gráfico\n",
    "plt.show()"
   ]
  },
  {
   "cell_type": "markdown",
   "id": "c113a3cb",
   "metadata": {},
   "source": [
    "¿Qué función tiene `show()`? - Prueba a dividir la visualización en dos celdas ¿Qué ocurre?"
   ]
  },
  {
   "cell_type": "code",
   "execution_count": null,
   "id": "f96f3c6a",
   "metadata": {},
   "outputs": [],
   "source": []
  },
  {
   "cell_type": "markdown",
   "id": "15e69771",
   "metadata": {},
   "source": [
    "Una vez comprendido como lanzar nuestro primer gráfico de líneas podemos ir añadiendo más elementos, desde la filosofía de Matplotlib, es simplemente ir añadiendo más funciones, por ejemplo:\n",
    "+ __`plt.xlabel`__ - Añade texto en el eje horizontal X\n",
    "+ __`plt.ylabel`__ - Añade texto en el eje vertical Y\n",
    "+ __`plt.title`__ - Añade el título de la visualización\n",
    "+ __`plt.legend`__ - Añade una leyenda a la visualización (requiere que hayamos empleado el parámetro `label`en la función `plot`)\n",
    "\n",
    "Así mismo, la función `plot` acepta varios parámetros como por ejemplo:\n",
    "+ `linestyle` - Modifica el tipo de línea que estamos desplegando https://matplotlib.org/stable/gallery/lines_bars_and_markers/linestyles.html\n",
    "+ `marker` - Modifica sobre las líneas el tipo de marcador que se emplea https://matplotlib.org/stable/api/markers_api.html\n",
    "+ `color` - Color de la línea https://matplotlib.org/stable/gallery/color/named_colors.html \n",
    "+ `label` - Añade texto en la visualización para desplegarlo en la leyenda.\n",
    "\n",
    "Documentación de la función `plot`: https://matplotlib.org/stable/api/_as_gen/matplotlib.pyplot.plot.html"
   ]
  },
  {
   "cell_type": "code",
   "execution_count": null,
   "id": "9e31d3d5",
   "metadata": {},
   "outputs": [],
   "source": [
    "# Personalizar etiquetas y título\n",
    "plt.xlabel('Eje X')\n",
    "plt.ylabel('Eje Y')\n",
    "plt.title('Gráfico de Línea')\n",
    "\n",
    "# Personalizar estilo de línea y marcadores\n",
    "plt.plot(x, y, \n",
    "         linestyle = '--', \n",
    "         marker    = 'o', \n",
    "         color     = 'b', \n",
    "         label     = 'Línea de Ejemplo')\n",
    "\n",
    "# Agregar leyenda\n",
    "plt.legend()\n",
    "\n",
    "# Mostrar el gráfico\n",
    "plt.show()"
   ]
  },
  {
   "cell_type": "markdown",
   "id": "8aa5869f",
   "metadata": {},
   "source": [
    "También es posible añadir más de un vector a la visualización."
   ]
  },
  {
   "cell_type": "code",
   "execution_count": null,
   "id": "5a3d48bc",
   "metadata": {},
   "outputs": [],
   "source": [
    "import numpy as np \n",
    "\n",
    "v1 = np.linspace(-2, 2, 200)\n",
    "v2 = v1**2\n",
    "v3 = v1**3"
   ]
  },
  {
   "cell_type": "code",
   "execution_count": null,
   "id": "91262438",
   "metadata": {},
   "outputs": [],
   "source": [
    "# Personalizar etiquetas y título\n",
    "plt.xlabel('Eje X')\n",
    "plt.ylabel('Eje Y')\n",
    "plt.title('Gráfico de Línea')\n",
    "\n",
    "# Personalizar estilo de línea y marcadores\n",
    "plt.plot(v1, \n",
    "         linestyle = '-', \n",
    "         color     = 'red', \n",
    "         label     = 'Vector 1 (Original)')\n",
    "\n",
    "plt.plot(v2, \n",
    "         linestyle = '--', \n",
    "         color     = 'brown', \n",
    "         label     = 'Vector 2 (Al cuadrado)')\n",
    "\n",
    "plt.plot(v3, \n",
    "         linestyle = '-.', \n",
    "         color     = 'purple', \n",
    "         label     = 'Vector 3 (Al cubo)')\n",
    "\n",
    "# Agregar leyenda\n",
    "plt.legend()\n",
    "\n",
    "# Mostrar el gráfico\n",
    "plt.show()"
   ]
  },
  {
   "cell_type": "markdown",
   "id": "22466a58",
   "metadata": {},
   "source": [
    "## Múltiples visualizaciones\n",
    "\n",
    "En Matplotlib se utiliza para crear subgráficos, es decir, dividir la ventana de representación en partes más pequeñas y colocar gráficos individuales en cada una de esas partes.\n",
    "\n",
    "La sintaxis básica de subplot es la siguiente:\n",
    "```python\n",
    "plt.subplot(filas, columnas, índice)\n",
    "```\n",
    "\n",
    "En donde:\n",
    "+ `filas`: El número de filas que tendrá la cuadrícula (parámetro fijo)\n",
    "+ `columnas`: El número de columnas que tendrá la cuadrícula (parámetro fijo)\n",
    "+ `índice`: El índice de cada subgráfico actual de la cuadrícula.\n",
    "\n",
    "Por ejemplo, si tienes una cuadrícula de subgráficos con 2 filas y 2 columnas, puedes especificar cada subgráfico con índices del 1 al 4."
   ]
  },
  {
   "cell_type": "code",
   "execution_count": null,
   "id": "322edcf4",
   "metadata": {},
   "outputs": [],
   "source": [
    "x = np.linspace(0, 2 * np.pi, 100)\n",
    "y1 = np.sin(x)\n",
    "y2 = np.cos(x)"
   ]
  },
  {
   "cell_type": "code",
   "execution_count": null,
   "id": "32249443",
   "metadata": {},
   "outputs": [],
   "source": [
    "# Crear subgráficos\n",
    "plt.subplot(2, 1, 1)  # 2 filas, 1 columna, primer subgráfico\n",
    "plt.plot(x, y1)\n",
    "plt.title('Gráfico de Seno')\n",
    "\n",
    "plt.subplot(2, 1, 2)  # 2 filas, 1 columna, segundo subgráfico\n",
    "plt.plot(x, y2)\n",
    "plt.title('Gráfico de Coseno')\n",
    "\n",
    "# Ajustar diseño y mostrar gráficos\n",
    "plt.tight_layout()\n",
    "plt.show()"
   ]
  },
  {
   "cell_type": "code",
   "execution_count": null,
   "id": "23c9d388",
   "metadata": {},
   "outputs": [],
   "source": [
    "# Crear subgráficos\n",
    "plt.subplot(2, 2, 1)  # 2 filas, 1 columna, primer subgráfico\n",
    "plt.plot(v1, \n",
    "         linestyle = '-', \n",
    "         color     = 'red')\n",
    "plt.title('Vector 1 (Original)')\n",
    "\n",
    "plt.subplot(2, 2, 2)  # 2 filas, 1 columna, segundo subgráfico\n",
    "plt.plot(v2, \n",
    "         linestyle = '--', \n",
    "         color     = 'brown')\n",
    "plt.title('Vector 2 (Al cuadrado)')\n",
    "\n",
    "plt.subplot(2, 2, 3)\n",
    "plt.plot(v3, \n",
    "         linestyle = '-.', \n",
    "         color     = 'purple')\n",
    "plt.title('Vector 3 (Al cubo)')\n",
    "\n",
    "plt.subplot(2, 2, 4)\n",
    "plt.plot(x, y1, \n",
    "         linestyle = ':', \n",
    "         color     = 'blue')\n",
    "plt.title(\"Gráfico de Seno\")\n",
    "\n",
    "# Ajustar diseño y mostrar gráficos\n",
    "plt.tight_layout() # Recomendable para no solapar títulos\n",
    "                   #  y cualquier elemento de texto, es decir,\n",
    "                   #  que no se solapen los gráficos\n",
    "plt.show()"
   ]
  },
  {
   "cell_type": "code",
   "execution_count": null,
   "id": "f1287cce",
   "metadata": {},
   "outputs": [],
   "source": [
    "import pandas as pd\n",
    "\n",
    "df = pd.read_csv(\"housing_California.csv\")"
   ]
  },
  {
   "cell_type": "code",
   "execution_count": null,
   "id": "e923f36c",
   "metadata": {},
   "outputs": [],
   "source": [
    "plt.scatter(x = df.population, y = df.total_bedrooms)\n",
    "plt.xlabel(\"Capacidad del hotel\")\n",
    "plt.ylabel(\"Total de dormitorios\")\n",
    "plt.title(\"Relación sobre la capacidad del hotel ~ total de dormitorios\")\n",
    "plt.show()"
   ]
  },
  {
   "cell_type": "code",
   "execution_count": null,
   "id": "c4a2a7ff",
   "metadata": {},
   "outputs": [],
   "source": [
    "plt.bar(x = df.ocean_proximity, height=df.total_bedrooms)\n",
    "plt.xlabel(\"Ubicación del hotel\")\n",
    "plt.ylabel(\"Total de dormitorios\")\n",
    "plt.title(\"Capacidad hotelera por ubicación\")\n",
    "plt.show()"
   ]
  },
  {
   "cell_type": "markdown",
   "id": "2b209971",
   "metadata": {},
   "source": [
    "# Seaborn\n",
    "\n",
    "__Seaborn__ es una biblioteca de visualización de datos en Python basada en Matplotlib. Está diseñada para hacer que la creación de gráficos estadísticos atractivos y informativos sea más fácil. Seaborn proporciona una interfaz de alto nivel para crear visualizaciones estadísticas atractivas y, al mismo tiempo, aprovecha la flexibilidad de Matplotlib. \n",
    "\n",
    "En otras palabras... Seaborn permite crear múltiples visualizaciones desde una misma línea de código y es capaz de emplear sintaxis de Matplotlib\n",
    "\n",
    "+ Documentación: https://seaborn.pydata.org/\n",
    "+ Tutorial: https://seaborn.pydata.org/tutorial.html \n",
    "+ Galería: https://seaborn.pydata.org/examples/index.html\n",
    "\n",
    "Seaborn, es otra de las librerías que tiene un alias, en este caso __sns__\n",
    "\n",
    "```python\n",
    "import seaborn as sns\n",
    "```"
   ]
  },
  {
   "cell_type": "code",
   "execution_count": null,
   "id": "eac86a54",
   "metadata": {},
   "outputs": [],
   "source": [
    "import seaborn as sns\n",
    "import matplotlib.pyplot as plt\n",
    "\n",
    "# Cargar un conjunto de datos de ejemplo\n",
    "tips = sns.load_dataset(\"tips\")\n",
    "tips"
   ]
  },
  {
   "cell_type": "code",
   "execution_count": null,
   "id": "9aa30b75",
   "metadata": {},
   "outputs": [],
   "source": [
    "# Crear un diagrama de dispersión con línea de regresión\n",
    "sns.lmplot(x=\"total_bill\", y=\"tip\", data=tips, )\n",
    "\n",
    "# Mostrar el gráfico\n",
    "plt.show()"
   ]
  },
  {
   "cell_type": "markdown",
   "id": "6a324fa4",
   "metadata": {},
   "source": [
    "¿Y si quiero desactivar esa línea de regresión? - Explorar el parámetro `fit_reg`"
   ]
  },
  {
   "cell_type": "code",
   "execution_count": null,
   "id": "79600c98",
   "metadata": {},
   "outputs": [],
   "source": [
    "# Cargar un conjunto de datos de ejemplo\n",
    "tips = sns.load_dataset(\"tips\")\n",
    "\n",
    "# Crear un diagrama de dispersión con línea de regresión\n",
    "sns.lmplot(x=\"total_bill\", y=\"tip\", data=tips, fit_reg=False)\n",
    "\n",
    "# Mostrar el gráfico\n",
    "plt.show()"
   ]
  },
  {
   "cell_type": "markdown",
   "id": "24ac5b20",
   "metadata": {},
   "source": [
    "Una de las grandes facilidades que tiene Seaborn, es el uso de variables categóricas como separadores, es decir, puede generar un punto, barra, línea, etc. A través del color de cada categoría. Esto se consigue desde el parámetro  `hue`"
   ]
  },
  {
   "cell_type": "code",
   "execution_count": null,
   "id": "deacd805",
   "metadata": {},
   "outputs": [],
   "source": [
    "# Cargar un conjunto de datos de ejemplo\n",
    "tips = sns.load_dataset(\"tips\")\n",
    "\n",
    "# Crear un diagrama de dispersión con línea de regresión\n",
    "sns.lmplot(x       = \"total_bill\", \n",
    "           y       = \"tip\", \n",
    "           data    = tips, \n",
    "           fit_reg = False,\n",
    "           hue     = \"sex\")\n",
    "\n",
    "# Mostrar el gráfico\n",
    "plt.show()"
   ]
  },
  {
   "cell_type": "code",
   "execution_count": null,
   "id": "9479b37b",
   "metadata": {},
   "outputs": [],
   "source": [
    "# Cargar un conjunto de datos de ejemplo\n",
    "tips = sns.load_dataset(\"tips\")\n",
    "\n",
    "# Crear un diagrama de dispersión con línea de regresión\n",
    "sns.lmplot(x       = \"total_bill\", \n",
    "           y       = \"tip\", \n",
    "           data    = tips, \n",
    "           fit_reg = True,\n",
    "           hue     = \"sex\")\n",
    "\n",
    "# Mostrar el gráfico\n",
    "plt.show()"
   ]
  },
  {
   "cell_type": "code",
   "execution_count": null,
   "id": "accbfd66",
   "metadata": {},
   "outputs": [],
   "source": [
    "# Cargar un conjunto de datos de ejemplo\n",
    "tips = sns.load_dataset(\"tips\")\n",
    "\n",
    "# Crear un diagrama de dispersión con línea de regresión\n",
    "sns.lmplot(x       = \"total_bill\", \n",
    "           y       = \"tip\", \n",
    "           data    = tips, \n",
    "           fit_reg = False,\n",
    "           hue     = \"size\")\n",
    "\n",
    "# Mostrar el gráfico\n",
    "plt.show()"
   ]
  },
  {
   "cell_type": "code",
   "execution_count": null,
   "id": "f0d1a5ee",
   "metadata": {},
   "outputs": [],
   "source": [
    "# Otro ejemplo\n",
    "sns.lmplot(x=\"total_bill\", y=\"tip\", hue=\"sex\", \n",
    "           data=tips, markers=[\"o\", \"s\"], \n",
    "           palette=\"Set1\", # Paletas de colores https://seaborn.pydata.org/tutorial/color_palettes.html\n",
    "           aspect=1.5 # Aumentamos el tamaño de la visualización\n",
    "          )\n",
    "\n",
    "plt.title('Diagrama de Dispersión con Ajustes Estilizados')\n",
    "plt.show()"
   ]
  },
  {
   "cell_type": "markdown",
   "id": "b3072f43",
   "metadata": {},
   "source": [
    "## Catplot\n",
    "\n",
    "Para mostrar la distribución de una variable, en función de una serie de categorías, es posible emplear la función `catplot` para mostrar diseños tipo diagrama de caja y bigotes así como violin-plot"
   ]
  },
  {
   "cell_type": "code",
   "execution_count": null,
   "id": "86cc8b14",
   "metadata": {},
   "outputs": [],
   "source": [
    "# Diagrama de caja y violín para comparar la distribución de propinas\n",
    "sns.catplot(x=\"day\", y=\"tip\", data=tips, kind=\"boxen\", palette=\"Set2\")\n",
    "plt.title('Distribución de Propinas por Día')\n",
    "plt.show()"
   ]
  },
  {
   "cell_type": "markdown",
   "id": "2477f1b1",
   "metadata": {},
   "source": [
    "## Heatmap\n",
    "\n",
    "Un tipo de visualización muy empleado, especialmente para mostrar la correlación lineal de las variables numéricas de un conjunto de datos. A través de la función `heatmap`"
   ]
  },
  {
   "cell_type": "code",
   "execution_count": null,
   "id": "dea776c9",
   "metadata": {
    "scrolled": true
   },
   "outputs": [],
   "source": [
    "sns.heatmap(tips.corr(numeric_only=True), annot=True, cmap=\"coolwarm\")\n",
    "plt.title('Matriz de Correlación')\n",
    "plt.show()"
   ]
  },
  {
   "cell_type": "markdown",
   "id": "42a52e30",
   "metadata": {},
   "source": [
    "## Diagrama de barras"
   ]
  },
  {
   "cell_type": "code",
   "execution_count": null,
   "id": "d2719b32",
   "metadata": {
    "scrolled": true
   },
   "outputs": [],
   "source": [
    "sns.barplot(x=\"day\", y=\"total_bill\", hue=\"time\", \n",
    "            data=tips)\n",
    "\n",
    "plt.title('Total de Factura por Día y Hora')\n",
    "plt.show()"
   ]
  },
  {
   "cell_type": "markdown",
   "id": "67bc1fe8",
   "metadata": {},
   "source": [
    "## Diagrama de pares\n",
    "\n",
    "Los llamados `pairplot` o diagramas de pares son muy útiles para tener un primer vistazo del cojunto de datos, generan una cuadrícula de visualización de todas las variables numéricas contra todas las variables numéricas, como siempre, en Seaborn, a través del parámetro `hue` es posible desagregar toda la visualización a través de una variable categórica."
   ]
  },
  {
   "cell_type": "code",
   "execution_count": null,
   "id": "4f28ce38",
   "metadata": {},
   "outputs": [],
   "source": [
    "sns.pairplot(tips, hue=\"sex\", palette=\"husl\")\n",
    "plt.suptitle('Diagrama de Pares', y=1.02)\n",
    "plt.show()"
   ]
  },
  {
   "cell_type": "markdown",
   "id": "dda6c690",
   "metadata": {},
   "source": [
    "# Anexo Plotly - Plotly Express\n",
    "\n",
    "__Plotly Express__ es un tipo de librería de visualización que se caracteriza principalmente por realizar visualizaciones de tipo dinámico, es decir, son interactivas, al pasar el mouse por encima de la visualización, esta nos devolverá información de forma dinámica (esta información se conoce como _tooltips_) \n",
    "\n",
    "Plotly, no lo tenemos instalado por defecto desde una distribución de Anaconda, debemos instalarlo de la siguiente manera:\n",
    "\n",
    "```python\n",
    "!pip install plotly\n",
    "```\n",
    "\n",
    "Plotly es posible emplearlo desde su versión general (Plotly) o, desde funciones de alto nivel (Plotly Express)\n",
    "\n",
    "+ Documentación: https://plotly.com/graphing-libraries/ \n",
    "+ Tutorial: https://plotly.com/python/plotly-fundamentals/\n",
    "+ Galería: https://plotly.com/python/\n",
    "\n",
    "Para trabajar con la versión express, debemos importarla desde el alias __px__\n",
    "\n",
    "```python\n",
    "import plotly.express as px\n",
    "```\n",
    "\n",
    "### Primera visualización - Nube de puntos"
   ]
  },
  {
   "cell_type": "code",
   "execution_count": null,
   "id": "288588d6",
   "metadata": {},
   "outputs": [],
   "source": [
    "import plotly.express as px"
   ]
  },
  {
   "cell_type": "code",
   "execution_count": null,
   "id": "33fb9c03",
   "metadata": {},
   "outputs": [],
   "source": [
    "# Definimos una lista para generar un diagrama de líneas\n",
    "x = [200, 250, 225, 300, 330, 400, 270, 260,]\n",
    "y = [10, 20, 30, 22, 44, 25, 9, 31]"
   ]
  },
  {
   "cell_type": "code",
   "execution_count": null,
   "id": "f19c1115",
   "metadata": {
    "scrolled": true
   },
   "outputs": [],
   "source": [
    "px.scatter(x = x, y = y, title=\"Ejemplo visualización\")"
   ]
  },
  {
   "cell_type": "code",
   "execution_count": null,
   "id": "af8c75c8",
   "metadata": {},
   "outputs": [],
   "source": [
    "# Otro ejemplo, cargamos de nuevo tips\n",
    "tips = sns.load_dataset(\"tips\")\n",
    "\n",
    "# Crear un gráfico de dispersión interactivo con Plotly Express\n",
    "fig = px.scatter(tips, x=\"total_bill\", y=\"tip\", \n",
    "                 color = \"sex\",\n",
    "                 size  = \"size\", \n",
    "                 title = \"Monto total de propinas en función del sexo\")\n",
    "fig.show()\n"
   ]
  },
  {
   "cell_type": "markdown",
   "id": "341cd21d",
   "metadata": {},
   "source": [
    "### Entendiendo los Graph Objects\n",
    "\n",
    "Los __Graph Objects__ de son clases de bajo nivel que permiten un mayor control y personalización sobre los gráficos que se crean con Plotly, para definir la visualización tendremos que configurar los siguientes espacios gráficos:\n",
    "+ Figure: Inicializar visualización\n",
    "+ Layout: Estilos de la visualización como título, etiquetas, etc.\n",
    "+ Trace: Tipo específico de visualización\n",
    "\n",
    "https://plotly.com/python/graph-objects/"
   ]
  },
  {
   "cell_type": "code",
   "execution_count": null,
   "id": "a962bf80",
   "metadata": {},
   "outputs": [],
   "source": [
    "import pandas as pd\n",
    "import numpy as np"
   ]
  },
  {
   "cell_type": "code",
   "execution_count": null,
   "id": "93eaf7dc",
   "metadata": {},
   "outputs": [],
   "source": [
    "data = {\n",
    "    \"Ingresos\" : np.sort(np.random.randint(10, 170, 100)),\n",
    "    \"Gastos\"   : np.sort(np.random.randint(20, 150, 100)),\n",
    "    \"Ventas Netas\"   : np.sort(np.random.randint(30, 150, 100)),\n",
    "    \"Ventas Brutas\"  : np.sort(np.random.randint(20, 170, 100))\n",
    "}\n",
    "\n",
    "df = pd.DataFrame(data)"
   ]
  },
  {
   "cell_type": "code",
   "execution_count": null,
   "id": "ae38e8c4",
   "metadata": {},
   "outputs": [],
   "source": [
    "import plotly.graph_objects as go\n",
    "\n",
    "# Figure: Inicializar visualización\n",
    "# Layout: Estilos de la visualización como título, etiquetas, etc.\n",
    "# Trace: Tipo específico de visualización"
   ]
  },
  {
   "cell_type": "code",
   "execution_count": null,
   "id": "e748a60f",
   "metadata": {
    "scrolled": true
   },
   "outputs": [],
   "source": [
    "# Creamos Trace\n",
    "trace_0 = go.Scatter(x = df[\"Ingresos\"], y = df[\"Gastos\"])\n",
    "trace_1 = go.Scatter(x = df[\"Ventas Brutas\"], y = df[\"Ventas Netas\"])\n",
    "\n",
    "# Creamos Layout\n",
    "layout = go.Layout(title=\"Análisis Financiero\",\n",
    "                  xaxis = dict(title = \"Finanzas 1\"),\n",
    "                  yaxis = dict(title = \"Finanzas 2\"))\n",
    "\n",
    "# Creamos la Figure\n",
    "fig = go.Figure(\n",
    "    data   = [trace_0, trace_1], \n",
    "    layout = layout)\n",
    "\n",
    "fig.show()"
   ]
  },
  {
   "cell_type": "markdown",
   "id": "afad966b",
   "metadata": {},
   "source": [
    "Otro ejemplo con datos bursátiles de Facebook"
   ]
  },
  {
   "cell_type": "code",
   "execution_count": null,
   "id": "c5708d3f",
   "metadata": {},
   "outputs": [],
   "source": [
    "fb = pd.read_csv(\"FB.csv\")\n",
    "fb.head()"
   ]
  },
  {
   "cell_type": "code",
   "execution_count": null,
   "id": "3d3342d8",
   "metadata": {},
   "outputs": [],
   "source": [
    "# Creamos Trace\n",
    "trace_0 = go.Scatter(x = fb.Date, y = fb.Close, name = \"Precio de Cierre\")\n",
    "trace_1 = go.Scatter(x = fb.Date, y = fb.Open, name = \"Precio de Apretura\")\n",
    "trace_2 = go.Scatter(x = fb.Date, y = fb.High, name = \"Precio de más alto\")\n",
    "trace_3 = go.Scatter(x = fb.Date, y = fb.Low, name = \"Precio de más bajo\")\n",
    "\n",
    "# Creamos Layout\n",
    "layout = go.Layout(title=\"Precios de apertura y cierre de Facebook\",\n",
    "                  xaxis = dict(title = \"Serie temporal\"),\n",
    "                  yaxis = dict(title = \"Precio apertura - cierre\"))\n",
    "\n",
    "# Creamos la Figure\n",
    "fig = go.Figure(\n",
    "    data   = [trace_0, trace_1, trace_2, trace_3], \n",
    "    layout = layout)\n",
    "\n",
    "fig.show()"
   ]
  },
  {
   "cell_type": "markdown",
   "id": "c120ce83",
   "metadata": {},
   "source": [
    "## Tipo geográfico\n",
    "\n",
    "Para mostrar un tipo de gráfico geográfico, vamos a utilizar el conjunto de datos \"gapminder\", que contiene información sobre indicadores económicos, demográficos y de salud para varios países a lo largo del tiempo. \n",
    "\n",
    "Vamos a crear un gráfico de dispersión geográfico para visualizar la relación entre la expectativa de vida y el PIB per cápita para diferentes países.\n",
    "\n",
    "Para crear crear un mapa de tipo geográfico con Plotly es necesario utilizar la función `scatter_geo` que se encargará de inicializar un tipo de mapa según el parámetro `projection` pero, es necesario que en el parámetro `locations` pasemos información válida de tipo geográfico como coordenadas, o códigos ISO de países.\n",
    "\n",
    "https://plotly.com/python-api-reference/generated/plotly.express.scatter_geo\n"
   ]
  },
  {
   "cell_type": "code",
   "execution_count": null,
   "id": "50192842",
   "metadata": {},
   "outputs": [],
   "source": [
    "# Cargamos el cojunto de datos de Gapminder\n",
    "gapminder = px.data.gapminder()\n",
    "gapminder.head()"
   ]
  },
  {
   "cell_type": "code",
   "execution_count": null,
   "id": "2bca43c1",
   "metadata": {},
   "outputs": [],
   "source": [
    "# Mapa de tipo geográfico\n",
    "fig = px.scatter_geo(gapminder,                # Cojunto de datos\n",
    "                     locations  = \"iso_alpha\", # Códigos ISO-3 de los países\n",
    "                     size       = \"pop\",       # Tamaño de los puntos según la población\n",
    "                     hover_name = \"country\",   # Etiqueta que aparecerá al pasar el ratón (tooltips)\n",
    "                     animation_frame = \"year\", # Animación a lo largo del tiempo\n",
    "                     projection = \"natural earth\",  # Proyección del mapa\n",
    "                     title      = \"Relación entre Expectativa de Vida, PIB per Cápita y Población por País\")\n",
    "\n",
    "fig.show()"
   ]
  },
  {
   "cell_type": "markdown",
   "id": "c443c6d5",
   "metadata": {},
   "source": [
    "## Plotly Dash\n",
    "\n",
    "Pese a la sensillez y popularidad de herramientas como PowerBI o Tableau para realizar cuadros de mando, desde Python, con Plotly Dash es posible también crear cuadros de mando controlando todo el código fuente, existe una versión Open Source, así como Enterprise.\n",
    "\n",
    "https://plotly.com/examples/"
   ]
  }
 ],
 "metadata": {
  "kernelspec": {
   "display_name": "Python 3 (ipykernel)",
   "language": "python",
   "name": "python3"
  },
  "language_info": {
   "codemirror_mode": {
    "name": "ipython",
    "version": 3
   },
   "file_extension": ".py",
   "mimetype": "text/x-python",
   "name": "python",
   "nbconvert_exporter": "python",
   "pygments_lexer": "ipython3",
   "version": "3.10.9"
  }
 },
 "nbformat": 4,
 "nbformat_minor": 5
}
