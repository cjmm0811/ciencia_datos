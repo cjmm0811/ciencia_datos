{
 "cells": [
  {
   "cell_type": "markdown",
   "metadata": {},
   "source": [
    "# MATPLOTLIB\n",
    "\n",
    "**Matplotlib** es una librería para la creación de gráficos estáticos estadísticos o animados en Python.  Nos permite customizar prácticamente cualquier elemento de una visualización de datos.\n",
    "\n",
    "En **Matplotlib** todo el desarrollo gráfico lo realizaremos a través del interfaz de **Pyplot**. \n",
    "\n",
    "En **Pyplot** toda la representación gráfica se realiza de forma secuencial, es decir, una nueva función supone una alteración en la gráfica actual y así sucesivamente.\n",
    "\n",
    "Al igual que muchas librerías de python, pyplot es comúnmente utilizada bajo un alias **plt**, comenzaremos importando la librería."
   ]
  },
  {
   "cell_type": "code",
   "execution_count": null,
   "metadata": {},
   "outputs": [],
   "source": [
    "import matplotlib.pyplot as plt"
   ]
  },
  {
   "cell_type": "markdown",
   "metadata": {},
   "source": [
    "Realizaremos una gráfica muy simple para comenzar, pintar los elementos de una lista"
   ]
  },
  {
   "cell_type": "code",
   "execution_count": null,
   "metadata": {},
   "outputs": [],
   "source": [
    "lista = [1, 5, 10, 15, 20, 25, 30]"
   ]
  },
  {
   "cell_type": "markdown",
   "metadata": {},
   "source": [
    "Lo primero que haremos para realizar una gráfica es llamar a la función <code>**plot**</code>"
   ]
  },
  {
   "cell_type": "code",
   "execution_count": null,
   "metadata": {},
   "outputs": [],
   "source": [
    "# Comenzamos una visualización\n",
    "plt.plot(lista)"
   ]
  },
  {
   "cell_type": "markdown",
   "metadata": {},
   "source": [
    "Vemos que simplemente mostramos cada valor de índice con su valor correspondiente valor de la lista.\n",
    "\n",
    "Podemos agregarle algunos elementos de estilo como etiquetas al eje *y*, y al eje *x*. Para ello, agregamos un nuevo componente con <code>**ylabel**</code> o <code>**xlabel**</code>"
   ]
  },
  {
   "cell_type": "code",
   "execution_count": null,
   "metadata": {},
   "outputs": [],
   "source": [
    "plt.ylabel('Valores de la lista')\n",
    "plt.xlabel('Valores de índice')"
   ]
  },
  {
   "cell_type": "markdown",
   "metadata": {},
   "source": [
    "Como podemos comprobar no aparece nada de la lista anterior, para que pyplot tome en cuenta todos los elementos que estamos agregando a una gráfica y los muestre correctamente por pantalla, tenemos que definir donde acaba nuestra gráfica con la función <code>**show**</code>"
   ]
  },
  {
   "cell_type": "code",
   "execution_count": null,
   "metadata": {},
   "outputs": [],
   "source": [
    "plt.plot(lista)\n",
    "plt.ylabel('Valores de la lista')\n",
    "plt.xlabel('Valores de índice')\n",
    "plt.show()"
   ]
  },
  {
   "cell_type": "markdown",
   "metadata": {},
   "source": [
    "Ahora que ya sabemos imprimir algo básico como una lista contra su propio índice, vamos a realizar una modificación y en lugar de mostrar en el eje x el índice mostraremos otra lista con valores diferentes."
   ]
  },
  {
   "cell_type": "code",
   "execution_count": null,
   "metadata": {},
   "outputs": [],
   "source": [
    "lista_2 = [4, 5, 8, 3, 15, 12, 9]\n",
    "\n",
    "plt.plot(lista, lista_2)\n",
    "plt.ylabel('Valores de la lista')\n",
    "plt.xlabel('Valores de índice')\n",
    "plt.show()"
   ]
  },
  {
   "cell_type": "markdown",
   "metadata": {},
   "source": [
    "### Ejercicio 1\n",
    "\n",
    "Representa las siguientes listas con `pyplot`, nota, la segunda lista será el índice."
   ]
  },
  {
   "cell_type": "code",
   "execution_count": null,
   "metadata": {},
   "outputs": [],
   "source": [
    "ejercicio_lista1 = [10, 100, 1000, 10000, 100000]\n",
    "ejercicio_lista2 = [4, 8, 12, 6, 40]"
   ]
  },
  {
   "cell_type": "markdown",
   "metadata": {},
   "source": [
    "#### Solución"
   ]
  },
  {
   "cell_type": "code",
   "execution_count": null,
   "metadata": {},
   "outputs": [],
   "source": [
    "# En clase"
   ]
  },
  {
   "cell_type": "markdown",
   "metadata": {},
   "source": [
    "En vista de esta nueva gráfica, es importante resaltar algo:\n",
    "* El eje de abscisas horizontal **x** toma el valor del primer parámetro (en su ausencia será el índice de la lista)\n",
    "* El eje de abscisas vertical **y** toma el valor del segundo parámetro.\n",
    "\n",
    "En algunas ocasiones, podemos necesitar unos ejes más amplios o reducidos para nuestras gráficas para ello podemos realizar una nueva lista que contenga 4 valores:\n",
    "* Eje inicio x\n",
    "* Eje fin x\n",
    "* Eje inicio y\n",
    "* Eje fin y\n",
    "\n",
    "Estos valores los pasaremos al parámetro <code>**axis**</code>"
   ]
  },
  {
   "cell_type": "code",
   "execution_count": null,
   "metadata": {},
   "outputs": [],
   "source": [
    "lista_eje = [0, 40, 0, 20]\n",
    "\n",
    "plt.plot(lista, lista_2)\n",
    "plt.axis(lista_eje)\n",
    "plt.ylabel('Valores de la lista')\n",
    "plt.xlabel('Valores de índice')\n",
    "plt.show()"
   ]
  },
  {
   "cell_type": "markdown",
   "metadata": {},
   "source": [
    "Finalmente, sobre nuestra primera gráfica, podemos decidir cambiar el color, esto se realiza desde el parámetro **plot**, tras los argumentos de entrada de los ejes x e y, podemos definir el color a través del parámetro <code>**color**</code>"
   ]
  },
  {
   "cell_type": "code",
   "execution_count": null,
   "metadata": {},
   "outputs": [],
   "source": [
    "plt.plot(lista, lista_2, color='green')\n",
    "plt.ylabel('Valores de la lista')\n",
    "plt.xlabel('Valores de índice')\n",
    "plt.show()"
   ]
  },
  {
   "cell_type": "code",
   "execution_count": null,
   "metadata": {},
   "outputs": [],
   "source": [
    "plt.plot(lista, lista_2, color='gold')\n",
    "plt.ylabel('Valores de la lista')\n",
    "plt.xlabel('Valores de índice')\n",
    "plt.show()"
   ]
  },
  {
   "cell_type": "markdown",
   "metadata": {},
   "source": [
    "Podemos encontrar una lista de colores que podemos utilizar en el siguiente enlace: https://matplotlib.org/3.1.0/gallery/color/named_colors.html"
   ]
  },
  {
   "cell_type": "markdown",
   "metadata": {},
   "source": [
    "### Ejercicio 2\n",
    "\n",
    "Toma las listas del ejercicio 1 y, realiza la misma visualización, cambia la amplitud de los ejes a -60000, 120000, -10, 50. Además, utiliza el color mediumblue\n",
    "\n",
    "#### Solución"
   ]
  },
  {
   "cell_type": "code",
   "execution_count": null,
   "metadata": {},
   "outputs": [],
   "source": [
    "# Listas ejercicio 1\n",
    "ejercicio_lista1 = [10, 100, 1000, 10000, 100000]\n",
    "ejercicio_lista2 = [4, 8, 12, 6, 40]"
   ]
  },
  {
   "cell_type": "code",
   "execution_count": null,
   "metadata": {},
   "outputs": [],
   "source": [
    "# Lista eje\n",
    "lista_axis = [-60000, 120000, -10, 50]"
   ]
  },
  {
   "cell_type": "code",
   "execution_count": null,
   "metadata": {},
   "outputs": [],
   "source": [
    "plt.plot(ejercicio_lista1, ejercicio_lista2, color='mediumblue')\n",
    "plt.axis(lista_axis)\n",
    "\n",
    "plt.title('Ejercicio 2')\n",
    "plt.ylabel('Valores de la lista')\n",
    "plt.xlabel('Valores de índice')\n",
    "plt.show()"
   ]
  },
  {
   "cell_type": "markdown",
   "metadata": {},
   "source": [
    "Otra función de interés es la de agregar título a una gráfica, esto lo realizamos desde <code>**title**</code>"
   ]
  },
  {
   "cell_type": "code",
   "execution_count": null,
   "metadata": {},
   "outputs": [],
   "source": [
    "plt.plot(lista, lista_2, color='red')\n",
    "plt.title('Mi título')\n",
    "plt.ylabel('Valores de la lista')\n",
    "plt.xlabel('Valores de índice')\n",
    "plt.show()"
   ]
  },
  {
   "cell_type": "markdown",
   "metadata": {},
   "source": [
    "En estos primeros ejemplos hemos visto cómo jugar con la amplitud de ejes y mostrar dos listas. Sin embargo, es habitual que se superpongan diferentes variables en una misma gráfica, el proceso es el mismo, es decir, tenemos que ir añadiendo elementos con plot."
   ]
  },
  {
   "cell_type": "code",
   "execution_count": null,
   "metadata": {},
   "outputs": [],
   "source": [
    "import numpy as np\n",
    "\n",
    "valores = np.linspace(0, 2, 100) \n",
    "\n",
    "# https://numpy.org/doc/stable/reference/generated/numpy.linspace.html"
   ]
  },
  {
   "cell_type": "code",
   "execution_count": null,
   "metadata": {},
   "outputs": [],
   "source": [
    "plt.plot(valores)\n",
    "plt.plot(valores**2)\n",
    "plt.plot(valores**3)\n",
    "\n",
    "plt.xlabel('Ítem')\n",
    "plt.ylabel('Valor')\n",
    "\n",
    "plt.title(\"Transformación de una varaible\")\n",
    "\n",
    "plt.show()"
   ]
  },
  {
   "cell_type": "markdown",
   "metadata": {},
   "source": [
    "Cuando añadimos más de una variable a la gráfica automáticamente se define el color y la amplitud del eje x e y. En estos casos es interesante añadir una leyenda a nuestra gráfica. \n",
    "\n",
    "Para añadir una leyenda, tenemos que utilizar la función <code>**legend()**</code>, pero, en cada elemento plot, tenemos que utilizar el parámetro <code>**label**</code> para añadir el texto que aparecerá en la leyenda de nuestra gráfica."
   ]
  },
  {
   "cell_type": "code",
   "execution_count": null,
   "metadata": {},
   "outputs": [],
   "source": [
    "plt.plot(valores, color = 'red', label = 'Lineal')\n",
    "plt.plot(valores**2, color = 'blue', label = 'Cuadrática')\n",
    "plt.plot(valores**3, color = 'green', label = 'Cúbica')\n",
    "\n",
    "plt.xlabel('Ítem')\n",
    "plt.ylabel('Valor')\n",
    "plt.title(\"Transformación de una varaible\")\n",
    "plt.legend()\n",
    "\n",
    "plt.show()"
   ]
  },
  {
   "cell_type": "markdown",
   "metadata": {},
   "source": [
    "### Pregunta\n",
    "\n",
    "¿que ocurre si los tres arrays de la gráfica anterior no tuvieran la misma longitud?"
   ]
  },
  {
   "cell_type": "code",
   "execution_count": null,
   "metadata": {},
   "outputs": [],
   "source": []
  },
  {
   "cell_type": "markdown",
   "metadata": {},
   "source": [
    "No solamente podemos utilizar líneas como formas para representar nuestras gráficas, si no que, existen otro tipo de elementos que podemos representar. Puede consultarse una lista completa de estos elementos desde el siguiente enlace: https://matplotlib.org/3.1.1/api/markers_api.html"
   ]
  },
  {
   "cell_type": "code",
   "execution_count": null,
   "metadata": {},
   "outputs": [],
   "source": [
    "plt.plot(valores, color = 'red', label = 'Lineal', marker='.') \n",
    "plt.plot(valores**2, color = 'blue', label = 'Cuadrática', marker = '^' )\n",
    "plt.plot(valores**3, color = 'green', label = 'Cúbica', marker='s')\n",
    "\n",
    "plt.xlabel('Ítem')\n",
    "plt.ylabel('Valor')\n",
    "plt.title(\"Transformación de una varaible\")\n",
    "plt.legend()\n",
    "\n",
    "plt.show()"
   ]
  },
  {
   "cell_type": "markdown",
   "metadata": {},
   "source": [
    "Mostramos un ejempo más nítido."
   ]
  },
  {
   "cell_type": "code",
   "execution_count": null,
   "metadata": {},
   "outputs": [],
   "source": [
    "t = np.arange(0., 5., 0.2)"
   ]
  },
  {
   "cell_type": "code",
   "execution_count": null,
   "metadata": {},
   "outputs": [],
   "source": [
    "t"
   ]
  },
  {
   "cell_type": "code",
   "execution_count": null,
   "metadata": {},
   "outputs": [],
   "source": [
    "plt.plot(t, t, '--')\n",
    "plt.plot(t, t**2, 's')\n",
    "plt.plot(t, t**3, '^')\n",
    "\n",
    "plt.show()"
   ]
  },
  {
   "cell_type": "markdown",
   "metadata": {},
   "source": [
    "Mediante **Pyplot**, podemos también añadir en un mismo espacio gráfico más de una visualización, para ello existe esta importante función <code>**subplot**</code>, recibe los siguientes parámetros:\n",
    "* Número filas\n",
    "* Número columnas\n",
    "* Índice (posición)\n",
    "\n",
    "Mostraremos un ejemplo de dos gráficas (por lo tanto, dos filas, una columna y hasta dos gráficas) "
   ]
  },
  {
   "cell_type": "code",
   "execution_count": null,
   "metadata": {},
   "outputs": [],
   "source": [
    "def balance(t):\n",
    "    return np.exp(-t) * np.cos(2*np.pi*t)\n",
    "\n",
    "my_array_one = np.arange(0.0, 5.0, 0.1)\n",
    "my_array_dos = np.arange(0.0, 5.0, 0.02)\n",
    "\n",
    "plt.subplot(211)\n",
    "plt.plot(my_array_one, balance(my_array_one), 'bo')\n",
    "plt.plot(my_array_dos, balance(my_array_dos), 'k')\n",
    "\n",
    "plt.subplot(212)\n",
    "plt.plot(my_array_dos, np.cos(2*np.pi*my_array_dos), 'r--')\n",
    "plt.show()"
   ]
  },
  {
   "cell_type": "markdown",
   "metadata": {},
   "source": [
    "### Ejercicio 3\n",
    "\n",
    "Toma los siguientes arrays "
   ]
  },
  {
   "cell_type": "code",
   "execution_count": null,
   "metadata": {},
   "outputs": [],
   "source": [
    "ej_tres_uno = np.linspace(0, 2, 100)\n",
    "ej_tres_dos = ej_tres_uno ** 2\n",
    "ej_tres_tres = ej_tres_uno ** 3\n",
    "ej_tres_cuatro = ej_tres_uno ** 4 "
   ]
  },
  {
   "cell_type": "markdown",
   "metadata": {},
   "source": [
    "Realiza una gráfica múltiple en la que aparezcan 4 sub-gráficas.\n",
    "\n",
    "#### Solución"
   ]
  },
  {
   "cell_type": "code",
   "execution_count": null,
   "metadata": {},
   "outputs": [],
   "source": [
    "# Fila 1, columna 1, gráfica 1\n",
    "plt.subplot(221)\n",
    "plt.plot(ej_tres_uno, 'blue')\n",
    "\n",
    "# Fila 2, columna 1, gráfica 2\n",
    "plt.subplot(222)\n",
    "plt.plot(ej_tres_dos, 'red')\n",
    "\n",
    "# Fila 1, columna 2, gráfica 1\n",
    "plt.subplot(223)\n",
    "plt.plot(ej_tres_tres, 'green')\n",
    "\n",
    "# Fila 2, columna 2, gráfica 2\n",
    "plt.subplot(224)\n",
    "plt.plot(ej_tres_cuatro, 'magenta')\n",
    "plt.show()\n",
    "\n"
   ]
  },
  {
   "cell_type": "markdown",
   "metadata": {},
   "source": [
    "**Modificar márgenes de pyplot**"
   ]
  },
  {
   "cell_type": "code",
   "execution_count": null,
   "metadata": {},
   "outputs": [],
   "source": [
    "plt.rcParams['figure.figsize'] = [10, 5]"
   ]
  },
  {
   "cell_type": "markdown",
   "metadata": {},
   "source": [
    "### Ejercicio 4. \n",
    "\n",
    "Modificar la gráfica del ejercicio anterior, de tal modo que tengamos 2 filas y tres columnas en donde:\n",
    "* La fila uno tenga solamente una gráfica situada en el centro (columna dos)\n",
    "* La fila dos contenga las tres gráficas restantes.\n",
    "\n",
    "#### Solución"
   ]
  },
  {
   "cell_type": "code",
   "execution_count": null,
   "metadata": {},
   "outputs": [],
   "source": [
    "# En clase."
   ]
  },
  {
   "cell_type": "markdown",
   "metadata": {},
   "source": [
    "Antes de pasar diferentes tipos de gráficas, mostraremos cómo añadir texto en el interior de una visualización. \n",
    "\n",
    "La función <code>**text**</code> seguido de la posición x e y donde irá el texto, nos permitirá añadir texto dentro de una visualización. Tomaremos la gráfica anterior como ejemplo."
   ]
  },
  {
   "cell_type": "code",
   "execution_count": null,
   "metadata": {
    "scrolled": true
   },
   "outputs": [],
   "source": [
    "plt.plot(valores, color = 'red', label = 'Lineal')\n",
    "plt.plot(valores**2, color = 'blue', label = 'Cuadrática')\n",
    "plt.plot(valores**3, color = 'green', label = 'Cúbica')\n",
    "\n",
    "plt.text(80, 5, 'Transformada cúbica')\n",
    "plt.xlabel('Ítem')\n",
    "plt.ylabel('Valor')\n",
    "plt.title(\"Transformación de una varaible\")\n",
    "plt.legend()\n",
    "\n",
    "plt.show()"
   ]
  },
  {
   "cell_type": "markdown",
   "metadata": {},
   "source": [
    "Como vemos, tenemos que tener cuiado con la posición, lo reedistribuimos"
   ]
  },
  {
   "cell_type": "code",
   "execution_count": null,
   "metadata": {},
   "outputs": [],
   "source": [
    "plt.plot(valores, color = 'red', label = 'Lineal')\n",
    "plt.plot(valores**2, color = 'blue', label = 'Cuadrática')\n",
    "plt.plot(valores**3, color = 'green', label = 'Cúbica')\n",
    "\n",
    "plt.text(45, 5, 'Transformada cúbica')\n",
    "plt.text(60, 0.8, 'Original')\n",
    "plt.text(80, 1.3, 'Cuadrática')\n",
    "\n",
    "plt.xlabel('Ítem')\n",
    "plt.ylabel('Valor')\n",
    "plt.title(\"Transformación de una varaible\")\n",
    "plt.legend()\n",
    "\n",
    "plt.show()"
   ]
  },
  {
   "cell_type": "markdown",
   "metadata": {},
   "source": [
    "Ahora, mostraremos algunos tipos de gráfica diferente de la líneal.\n",
    "\n",
    "## Histograma.\n",
    "\n",
    "Para generar un histograma utilizamos la función `plt.hist()`, como parámetros le pasaremos el vector que vayamos a representar y, el parámetro que determina el número de barras que serán representadas en el histograma **bins**"
   ]
  },
  {
   "cell_type": "code",
   "execution_count": null,
   "metadata": {},
   "outputs": [],
   "source": [
    "vector = np.random.randint(20, 100, 2000)\n",
    "\n",
    "plt.hist(vector, bins=50)\n",
    "plt.show()"
   ]
  },
  {
   "cell_type": "code",
   "execution_count": null,
   "metadata": {},
   "outputs": [],
   "source": [
    "plt.hist(vector, bins=20)\n",
    "plt.show()"
   ]
  },
  {
   "cell_type": "markdown",
   "metadata": {},
   "source": [
    "### Ejercicio 5\n",
    "\n",
    "Carga el dataset 'vgsales.csv', muestra un histograma de la columna Global_Sales, en color verde\n",
    "\n",
    "#### Solución"
   ]
  },
  {
   "cell_type": "code",
   "execution_count": null,
   "metadata": {},
   "outputs": [],
   "source": [
    "import pandas as pd"
   ]
  },
  {
   "cell_type": "code",
   "execution_count": null,
   "metadata": {},
   "outputs": [],
   "source": [
    "df = pd.read_csv('vgsales.csv')"
   ]
  },
  {
   "cell_type": "code",
   "execution_count": null,
   "metadata": {},
   "outputs": [],
   "source": [
    "df.head()"
   ]
  },
  {
   "cell_type": "code",
   "execution_count": null,
   "metadata": {},
   "outputs": [],
   "source": [
    "df.describe()"
   ]
  },
  {
   "cell_type": "code",
   "execution_count": null,
   "metadata": {},
   "outputs": [],
   "source": [
    "plt.hist(df.Global_Sales, bins=50, color='lightgreen', edgecolor='black')\n",
    "plt.show(), "
   ]
  },
  {
   "cell_type": "markdown",
   "metadata": {},
   "source": [
    "## DIAGRAMA DE BARRAS\n",
    "\n",
    "Para generar un diagrama de barras utilizaremos la función `plt.bar` la cuál va a recibir dos parámetros, el vector a representar y la altura del mismo. Este tipo de gráfico es aconsejable utilizarlo cuando tenemos una variable categórica y una numérica."
   ]
  },
  {
   "cell_type": "code",
   "execution_count": null,
   "metadata": {},
   "outputs": [],
   "source": [
    "x = np.arange(3)\n",
    "\n",
    "plt.bar(x, height=[1,2,3])\n",
    "\n",
    "plt.xticks(x, ['a','b','c'])\n",
    "plt.show()"
   ]
  },
  {
   "cell_type": "code",
   "execution_count": null,
   "metadata": {},
   "outputs": [],
   "source": [
    "plt.bar(df.Genre, df.EU_Sales, color = \"darkgreen\")\n",
    "plt.show()"
   ]
  },
  {
   "cell_type": "markdown",
   "metadata": {},
   "source": [
    "Mediane otro ejemplo, vamos a generar una serie de fechas, 12 días y 2 arrays para simular los índices de calidad de aire de dos ciudades. En este caso veremos cómo funciona la función **plot** desde un dataframe, que internamente también incorpora pyplot"
   ]
  },
  {
   "cell_type": "code",
   "execution_count": null,
   "metadata": {},
   "outputs": [],
   "source": [
    "import pandas as pd\n",
    "fechas = pd.date_range('20200101',periods=12)\n",
    "\n",
    "air_quality = pd.DataFrame(np.random.randint(10, 50, 24).reshape(12,2), \n",
    "                      index=fechas, \n",
    "                      columns = [\"AQI Madrid\", \"AQI Barcelona\"])\n",
    "air_quality"
   ]
  },
  {
   "cell_type": "code",
   "execution_count": null,
   "metadata": {},
   "outputs": [],
   "source": [
    "air_quality.plot(kind=\"barh\", title=\"Air Quality Index\")\n",
    "plt.show()"
   ]
  },
  {
   "cell_type": "code",
   "execution_count": null,
   "metadata": {},
   "outputs": [],
   "source": [
    "air_quality.plot(kind=\"barh\", subplots=True)\n",
    "plt.show()"
   ]
  },
  {
   "cell_type": "markdown",
   "metadata": {},
   "source": [
    "También pueden super-ponerse dos diagramas de barras"
   ]
  },
  {
   "cell_type": "code",
   "execution_count": null,
   "metadata": {},
   "outputs": [],
   "source": [
    "# Datos sobre temperatura\n",
    "temp_max = [35, 38, 29, 27]\n",
    "temp_min = [23, 22, 21, 18]\n",
    "n_groups = len(temp_max)\n",
    "\n",
    "index = np.arange(n_groups)\n",
    "\n",
    "max_ = plt.bar(index, temp_max, color='tomato', \n",
    "                 label='T. Max')\n",
    "\n",
    "min_ = plt.bar(index , temp_min, color='lightgreen', \n",
    "                 label='T. Min')\n",
    "\n",
    "plt.xlabel('Ciudades')\n",
    "plt.ylabel('Temperaturas')\n",
    "plt.title('Temperatura por ciudad')\n",
    "plt.xticks(index , ('Madrid', 'Barcelona', 'Asturias', 'Burgos'))\n",
    "plt.legend()\n",
    "\n",
    "plt.show()"
   ]
  },
  {
   "cell_type": "markdown",
   "metadata": {},
   "source": [
    "## DIAGRAMA CIRCULAR"
   ]
  },
  {
   "cell_type": "code",
   "execution_count": null,
   "metadata": {},
   "outputs": [],
   "source": [
    "politics = ('PSOE', 'PP', 'VOX', 'PODEMOS', 'ERC', 'Cs')\n",
    "votos = [35, 28, 17, 12, 5, 3 ]\n",
    "\n",
    "explode = (0.2, 0.0, 0, 0, 0, 0)  # Resaltar hacia afuera una porción.\n",
    "\n",
    "plt.pie(votos, explode=explode, labels=politics, autopct='%1.1f%%',\n",
    "        shadow=True, startangle=90, \n",
    "        colors = ('r', 'b', 'g', 'purple', 'yellow', 'orange' ))\n",
    "\n",
    "plt.show()"
   ]
  },
  {
   "cell_type": "markdown",
   "metadata": {},
   "source": [
    "### Ejercicio 6\n",
    "\n",
    "Representa un diagrama de sectores tomando el dataset housing_California, en el cuál se vea representada la edad media de los alojamientos por su proximidad al océano.\n",
    "\n",
    "#### Solución"
   ]
  },
  {
   "cell_type": "code",
   "execution_count": null,
   "metadata": {},
   "outputs": [],
   "source": [
    "# En clase"
   ]
  },
  {
   "cell_type": "markdown",
   "metadata": {},
   "source": [
    "## NUBE DE PUNTOS"
   ]
  },
  {
   "cell_type": "code",
   "execution_count": null,
   "metadata": {},
   "outputs": [],
   "source": [
    "data_1 = np.random.randint(0, 80, 100)\n",
    "data_2 = np.random.randint(0, 80, 100)\n",
    "rangos = np.arange(100)\n",
    "\n",
    "plt.scatter(rangos, data_1, color='r')\n",
    "plt.scatter(rangos, data_2, color='b')\n",
    "\n",
    "plt.xlabel('Estudio 1')\n",
    "plt.ylabel('Estudio 2')\n",
    "plt.show()"
   ]
  },
  {
   "cell_type": "markdown",
   "metadata": {},
   "source": [
    "# Gráficos avanzados\n",
    "\n",
    "Una práctica muy común en Matplotlib es la de realizar las visualizaciones mediante el control de dos variables\n",
    "\n",
    "```python\n",
    "fig, ax = ...\n",
    "```\n",
    "\n",
    "En donde `fig` será todo lo relacionado con la visualización (_Figure_) como por ejemplo su tamaño y, `ax` elementos que podemos modificar sobre los ejes (_axes_) tales como el tipo de visualización. \n",
    "\n",
    "A continuación se muestra una visualización simple en la que se ajusta el tamaño de la visualización con el parámetro `figsize`"
   ]
  },
  {
   "cell_type": "code",
   "execution_count": null,
   "metadata": {},
   "outputs": [],
   "source": [
    "import pandas as pd\n",
    "\n",
    "df = pd.DataFrame(data={'a':np.random.randint(0, 100, 30),\n",
    "                        'b':np.random.randint(0, 100, 30),\n",
    "                        'c':np.random.randint(0, 100, 30)})\n",
    "df.head()"
   ]
  },
  {
   "cell_type": "code",
   "execution_count": null,
   "metadata": {},
   "outputs": [],
   "source": [
    "x = df.index.values # The index the dataframe we created up above. Equivalent to [0, 1, ..., 28, 29]\n",
    "y1 = df['a'] # Column 'a' from df.\n",
    "y2 = df['b'] # Column 'a' from df."
   ]
  },
  {
   "cell_type": "code",
   "execution_count": null,
   "metadata": {},
   "outputs": [],
   "source": [
    "plt.figure(figsize=(15,8))\n",
    "\n",
    "plt.plot(x, y1)\n",
    "plt.plot(x, y2)\n",
    "plt.show()"
   ]
  },
  {
   "cell_type": "markdown",
   "metadata": {},
   "source": [
    "Ahora, podemos realizar lo mismo pero desde los parámetros `fig`y `ax` cuando empleamos esta sintaxis debemos definir la visuaización desde `plt.subplots` en `ax` configuraremos el tipo de visualización."
   ]
  },
  {
   "cell_type": "code",
   "execution_count": null,
   "metadata": {},
   "outputs": [],
   "source": [
    "fig, ax = plt.subplots(1,1, figsize=(15,8))\n",
    "ax.plot(x, y1)\n",
    "ax.plot(x, y2)\n",
    "plt.show()"
   ]
  },
  {
   "cell_type": "code",
   "execution_count": null,
   "metadata": {},
   "outputs": [],
   "source": [
    "fig, ax = plt.subplots(1,1, figsize=(15,8))\n",
    "\n",
    "ax.plot(df.index.values, df['a'], color='red',    ls='-.') # Line Style\n",
    "ax.plot(df.index.values, df['b'], color='orange', lw=10)   # Line Width\n",
    "ax.plot(df.index.values, df['c'], color='purple', lw=1, marker='o')\n",
    "plt.show()"
   ]
  },
  {
   "cell_type": "markdown",
   "metadata": {},
   "source": [
    "Ahora, mostramos un ejemplo en el que podemos ir definiendo cada visualización mediante indexacíon, esto, funciona cuando incluimos más de una visualización en `subplots`"
   ]
  },
  {
   "cell_type": "code",
   "execution_count": null,
   "metadata": {},
   "outputs": [],
   "source": [
    "fig, ax = plt.subplots(3,1, figsize=(15,12))\n",
    "\n",
    "ax[0].plot(df.index.values, df['a'], color='red',    ls='-.', label = \"Column A\") # Top\n",
    "ax[1].plot(df.index.values, df['b'], color='orange', lw=10,   label='Line B') # Middle\n",
    "ax[2].plot(df.index.values, df['c'], color='purple', lw=1, marker='o', label='Line C') # Bottom\n",
    "\n",
    "ax[0].legend(loc=4) # This will create a legend for ax[0] in the bottom-right.\n",
    "ax[1].legend(loc=6) # This will create a legend for ax[1] centre-left.\n",
    "ax[2].legend(loc=2) # This will create a legend for ax[2] top-left.\n",
    "\n",
    "# Esto da error.\n",
    "# ax[0].xlabel(\"Columna A\")\n",
    "ax[0].set_xlabel(\"Columna A\")\n",
    "\n",
    "# https://matplotlib.org/stable/api/_as_gen/matplotlib.pyplot.legend.html\n",
    "\n",
    "plt.show()\n",
    "\n",
    "# Todo lo anterior equivalente a....\n",
    "# plt.subplot(311)\n",
    "# plt.plot(df.index.values, df['a'], color='red',    ls='-.', label = \"Column A\")\n",
    "# plt.legend()\n",
    "\n",
    "# plt.subplot(312)\n",
    "# plt.plot(df.index.values, df['b'], color='orange', lw=10,   label='Line B')\n",
    "# plt.legend()\n",
    "\n",
    "# plt.subplot(313)\n",
    "# plt.plot(df.index.values, df['c'], color='purple', lw=1, marker='o', label='Line C')\n",
    "# plt.legend()\n",
    "\n",
    "# plt.show()"
   ]
  },
  {
   "cell_type": "markdown",
   "metadata": {},
   "source": [
    "Otra práctica común, es, a través de `ax` ir escribiendo dentro de la visualización para incluir un mayor de detalle desde el parámetro `plt.text`"
   ]
  },
  {
   "cell_type": "code",
   "execution_count": null,
   "metadata": {},
   "outputs": [],
   "source": [
    "temp_max = [35, 38, 29, 27]\n",
    "temp_min = [23, 22, 21, 18]\n",
    "n_groups = len(temp_max)\n",
    "\n",
    "index = np.arange(n_groups)"
   ]
  },
  {
   "cell_type": "code",
   "execution_count": null,
   "metadata": {},
   "outputs": [],
   "source": [
    "fig, ax = plt.subplots(1, 1, figsize=(16,8))\n",
    "\n",
    "# Text temperature max\n",
    "ax.bar(index, temp_max, color='tomato', label='T. Max')\n",
    "\n",
    "for temp  in range(0, len(temp_max)):\n",
    "    ax.text(temp, temp_max[temp] +0.75 , str(temp_max[temp]), horizontalalignment='center')\n",
    "    #      barra n, posición lista n,      texto que escribo\n",
    "\n",
    "# Text temperature min\n",
    "ax.bar(index , temp_min, color='lightgreen', \n",
    "                 label='T. Min')\n",
    "for i in range(len(temp_min)):\n",
    "    ax.text(i, temp_min[i]+1, temp_min[i], horizontalalignment='center')\n",
    "\n",
    "plt.xlabel('Cities')\n",
    "plt.ylabel('Temperature')\n",
    "plt.title('Temperature by City')\n",
    "\n",
    "plt.xticks(index , ('Madrid', 'Barcelona', 'Asturias', 'Burgos'))\n",
    "plt.legend()\n",
    "\n",
    "plt.show()"
   ]
  },
  {
   "cell_type": "code",
   "execution_count": null,
   "metadata": {},
   "outputs": [],
   "source": [
    "fig, ax = plt.subplots(3, 1, figsize=(15,18))\n",
    "\n",
    "# Definimos el diagrama de barras\n",
    "ax[0].bar(df.index.values, df['a'])\n",
    "\n",
    "# Mostramos el texto\n",
    "for i in range(df.shape[0]):\n",
    "    ax[0].text(i, df['a'][i]+1, df['a'][i], horizontalalignment='center')\n",
    "# Definimos una leyenda\n",
    "ax[0].legend('a')\n",
    "    \n",
    "ax[1].bar(df.index.values, df['b'])\n",
    "for i in range(df.shape[0]):\n",
    "    ax[1].text(i, df['b'][i]+1, df['b'][i], horizontalalignment='center')\n",
    "ax[1].legend('b')\n",
    "\n",
    "# Defines la primera barra\n",
    "ax[2].bar(df.index.values, df['a'])\n",
    "# Defines otro diagrama de barras deja, debajo la columna a (parámetro bottom)\n",
    "ax[2].bar(df.index.values, df['b'], bottom=df['a'])\n",
    "\n",
    "# ax.text(0, # Posición X\n",
    "#         df[\"a\"][0] + df[\"b\"][0], # Posición Y\n",
    "#         str(df[\"a\"][0] + df[\"b\"][0]), # Texto\n",
    "#        )\n",
    "\n",
    "for i in range(df.shape[0]):\n",
    "    ax[2].text(i, # Posición X\n",
    "               df['a'][i] + df['b'][i]+1,  # Posición Y\n",
    "               str(df['a'][i] + df['b'][i]), # Texto\n",
    "               horizontalalignment='center')\n",
    "ax[2].legend(['a','b'])\n",
    "\n",
    "plt.show()"
   ]
  },
  {
   "cell_type": "code",
   "execution_count": null,
   "metadata": {},
   "outputs": [],
   "source": [
    "fig, ax = plt.subplots(3, 1, figsize=(15,18))\n",
    "\n",
    "# Definimos el diagrama de barras\n",
    "ax[0].bar(df.index.values, df['a'])\n",
    "\n",
    "# Mostramos el texto\n",
    "for i in range(df.shape[0]):\n",
    "    ax[0].text(i, df['a'][i]+1, df['a'][i], horizontalalignment='center')\n",
    "# Definimos una leyenda\n",
    "ax[0].legend('a')\n",
    "    \n",
    "ax[1].bar(df.index.values, df['b'])\n",
    "for i in range(df.shape[0]):\n",
    "    ax[1].text(i, df['b'][i]+1, df['b'][i], horizontalalignment='center')\n",
    "ax[1].legend('b')\n",
    "\n",
    "# Defines la primera barra\n",
    "ax[2].bar(df.index.values, df['a'])\n",
    "# Defines otro diagrama de barras deja, debajo la columna a (parámetro bottom)\n",
    "ax[2].bar(df.index.values, df['b'], bottom=df['a'])\n",
    "\n",
    "# ax.text(0, # Posición X\n",
    "#         df[\"a\"][0] + df[\"b\"][0], # Posición Y\n",
    "#         str(df[\"a\"][0] + df[\"b\"][0]), # Texto\n",
    "#        )\n",
    "\n",
    "for i in range(df.shape[0]):\n",
    "    ax[2].text(i, # Posición X\n",
    "               df['a'][i] + df['b'][i]+1,  # Posición Y\n",
    "               str(df['a'][i] + df['b'][i]), # Texto\n",
    "               horizontalalignment='center')\n",
    "    \n",
    "for i in range(df.shape[0]):\n",
    "    ax[2].text(i, df['a'][i]+1, df['a'][i], horizontalalignment='center')    \n",
    "\n",
    "ax[2].legend(['a','b'])\n",
    "\n",
    "plt.show()"
   ]
  },
  {
   "cell_type": "markdown",
   "metadata": {},
   "source": [
    "Cuando queremos mostrar tres variables x e y, pero, dos de estas variables comparten el mismo eje Y, es posible, emplear la función `twinx()` para que dos vectores compartan el mismo eje X, de esta manera, tendremos dos escalas del eje Y verticales, una en la derecha y, otra en la izquierda."
   ]
  },
  {
   "cell_type": "code",
   "execution_count": null,
   "metadata": {},
   "outputs": [],
   "source": [
    "# Create some mock data\n",
    "t = np.arange(0.01, 10.0, 0.01)\n",
    "data1 = np.exp(t)\n",
    "data2 = np.sin(2 * np.pi * t)\n",
    "\n",
    "fig, ax1 = plt.subplots()\n",
    "\n",
    "color = 'tab:red'\n",
    "ax1.set_xlabel('time (s)')\n",
    "ax1.set_ylabel('exp', color=color)\n",
    "ax1.plot(t, data1, color=color)\n",
    "ax1.tick_params(axis='y', labelcolor=color)\n",
    "\n",
    "ax2 = ax1.twinx()  # instantiate a second axes that shares the same x-axis\n",
    "\n",
    "color = 'tab:blue'\n",
    "ax2.set_ylabel('sin', color=color)  # we already handled the x-label with ax1\n",
    "ax2.plot(t, data2, color=color)\n",
    "ax2.tick_params(axis='y', labelcolor=color)\n",
    "\n",
    "fig.tight_layout()  # otherwise the right y-label is slightly clipped\n",
    "plt.show()"
   ]
  }
 ],
 "metadata": {
  "kernelspec": {
   "display_name": "Python 3 (ipykernel)",
   "language": "python",
   "name": "python3"
  },
  "language_info": {
   "codemirror_mode": {
    "name": "ipython",
    "version": 3
   },
   "file_extension": ".py",
   "mimetype": "text/x-python",
   "name": "python",
   "nbconvert_exporter": "python",
   "pygments_lexer": "ipython3",
   "version": "3.10.9"
  }
 },
 "nbformat": 4,
 "nbformat_minor": 2
}
