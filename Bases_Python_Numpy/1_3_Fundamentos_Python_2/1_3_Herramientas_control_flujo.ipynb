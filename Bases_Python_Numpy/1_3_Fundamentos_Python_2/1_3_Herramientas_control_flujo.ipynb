{
 "cells": [
  {
   "cell_type": "markdown",
   "metadata": {},
   "source": [
    "# Herramientas de control de flujo\n",
    "\n",
    "1. [Condicionales](#condicionales)\n",
    "    + 1.1[If simple](#simple)\n",
    "        + [Ejercicio 1](#ej1)\n",
    "        + [Ejercicio 2](#ej2)\n",
    "        + [Ejercicio 3](#ej3)\n",
    "        \n",
    "    + 1.2 [If Encadenados](#encadenados)\n",
    "        + [Ejercicio 4](#ej4)\n",
    "        + [Ejercicio 5](#ej5)\n",
    "        \n",
    "    + 1.3 [If anidados](#anidados)        \n",
    "        + [Ejercicio 6](#ej6) \n",
    "        \n",
    "2. [Bucles](#bucles)        \n",
    "    + 2.1 [Bucle - For](#for)\n",
    "        + [Ejercicio 7](#ej7)      \n",
    "        + [Ejercicio 8](#ej8)  \n",
    "        + [Ejercicio 9](#ej9)          \n",
    "        + [Ejercicio 10](#ej10)          \n",
    "\n",
    "    + 2.2 [Bucle - While](#while)\n",
    "        + [Ejercicio 11](#ej11)    \n",
    "        + [Ejercicio 12](#ej12)            \n",
    "        + [Ejercicio 13](#ej13)    \n",
    "        + [Ejercicio 14](#ej14)    \n",
    "        + [Ejercicio 15](#ej15)    \n",
    "        \n",
    "# 1. CONDICIONALES <a name = \"condicionales\"></a>\n",
    "\n",
    "<img src=https://static.flocabulary.com/media/images/a2a007b4c9b5204e07ae14f52b9b84cb/conditionals-image.jpg>\n",
    "\n",
    "## 1.1 If simple <a name = \"simple\"></a>"
   ]
  },
  {
   "cell_type": "code",
   "execution_count": null,
   "metadata": {},
   "outputs": [],
   "source": [
    "# If simple - NO tiene porqué llevar un else\n",
    "\n",
    "x = 5\n",
    "\n",
    "if x > 0:\n",
    "    print('El valor ', x, ' positivo')"
   ]
  },
  {
   "cell_type": "code",
   "execution_count": null,
   "metadata": {},
   "outputs": [],
   "source": [
    "# Si necesitamos incluir else para que no haga \"nada\"\n",
    "#  se puede emplear la sentencia pass\n",
    "\n",
    "x = 5\n",
    "\n",
    "if x > 0:\n",
    "    print('El valor ', x, ' positivo')\n",
    "else:\n",
    "    pass"
   ]
  },
  {
   "cell_type": "code",
   "execution_count": null,
   "metadata": {},
   "outputs": [],
   "source": [
    "# Con if-else\n",
    "\n",
    "if x % 2 == 0:\n",
    "    print('El valor ', x, ' es par')\n",
    "else:\n",
    "    print('El valor ', x , ' es impar')"
   ]
  },
  {
   "cell_type": "markdown",
   "metadata": {},
   "source": [
    "### Ejercicio 1. <a name = \"ej1\"></a>\n",
    "\n",
    "Escribe un programa que evalúe si una persona es mayor de 18 años o no\n",
    "\n",
    "#### Solución"
   ]
  },
  {
   "cell_type": "code",
   "execution_count": 8,
   "metadata": {
    "scrolled": false
   },
   "outputs": [
    {
     "name": "stdout",
     "output_type": "stream",
     "text": [
      "Escribe la edad de una persona: 32\n",
      "Tiene más de  18  años\n"
     ]
    }
   ],
   "source": [
    "edad_evaluar = 18\n",
    "edad = input(\"Escribe la edad de una persona: \")\n",
    "entero_int_edad = int(edad)\n",
    "\n",
    "if  entero_int_edad >= edad_evaluar :\n",
    "    print (\"Tiene más de \",edad_evaluar,' años')\n",
    "else:\n",
    "    print (\"Tiene menos de \",edad_evaluar,' años')"
   ]
  },
  {
   "cell_type": "markdown",
   "metadata": {},
   "source": [
    "### Ejercicio 2. <a name = \"ej2\"></a>\n",
    "\n",
    "Escribe un programa que calcule el nuevo salario de un trabajador, tomaremos un aumento del sueldo del 10% si el salario es mayor que 1000 euros, si es menor, un 15%\n",
    "\n",
    "#### Solución"
   ]
  },
  {
   "cell_type": "code",
   "execution_count": null,
   "metadata": {},
   "outputs": [],
   "source": [
    "sueldo = int(input(\"Escribe el sueldo del trabajador: \"))\n",
    "\n",
    "if sueldo <= 1000:\n",
    "    print (\"Subida de \", sueldo*0.15)\n",
    "    print (\"El nuevo salarío que recibirá es: \",(sueldo*0.15)+sueldo)\n",
    "else:\n",
    "    print (\"Subida de \", sueldo*0.10)\n",
    "    print (\"El nuevo salarío que recibirá es: \",(sueldo*0.10)+sueldo)"
   ]
  },
  {
   "cell_type": "markdown",
   "metadata": {},
   "source": [
    "### Ejercicio 3 <a name = \"ej3\"></a>\n",
    "\n",
    "Escribir un programa que teniendo en cuenta una contraseña ya almacenada, solicite al usuario que ingrese una contraseña, en caso de ser iguales, le daremos la bienvenida, en caso contrario mostraremos un mensaje de contraseña incorrecta.\n",
    "\n",
    "NOTA: Es importante que estandaricemos las cadenas de texto a minúsculas.\n",
    "\n",
    "#### Solución"
   ]
  },
  {
   "cell_type": "code",
   "execution_count": null,
   "metadata": {},
   "outputs": [],
   "source": [
    "key = \"mipassword\"\n",
    "\n",
    "password = input(\"Introduce la contraseña: \")\n",
    "\n",
    "if key == password.lower():\n",
    "    print(\"Bienvenido usuario\")\n",
    "else:\n",
    "    print(\"La contraseña no es correcta\")"
   ]
  },
  {
   "cell_type": "markdown",
   "metadata": {},
   "source": [
    "## 1.2 if encadenados <a name = \"encadenados\"></a>"
   ]
  },
  {
   "cell_type": "code",
   "execution_count": null,
   "metadata": {},
   "outputs": [],
   "source": [
    "# Ejemplo if encadenado\n",
    "\n",
    "x = 5\n",
    "y = 10\n",
    "\n",
    "if x < y:\n",
    "    print('x es menor que y')\n",
    "elif x > y:\n",
    "    print('x es mayor que y')\n",
    "else: \n",
    "    print('x e y son iguales')"
   ]
  },
  {
   "cell_type": "markdown",
   "metadata": {},
   "source": [
    "### Ejercicio 4. <a name = \"ej4\"></a>\n",
    "\n",
    "La entrada a un parqute temático es de 30€ por persona, no osbtante, existen algunos descuentos especiales como los siguientes:\n",
    "\n",
    "* Niños menores de 3 años, un descuento del 70%\n",
    "* Niños entre 3 y 10 años, un descuento del 50%\n",
    "* Niños mayores de 10 y menores de 12, un descuento del 20%\n",
    "* Para el resto de personas, sin descuento.\n",
    "\n",
    "#### Solución"
   ]
  },
  {
   "cell_type": "code",
   "execution_count": 10,
   "metadata": {},
   "outputs": [
    {
     "name": "stdout",
     "output_type": "stream",
     "text": [
      "Escribe la edad del visitante: 15\n",
      "El precio de la entrada es:  30\n"
     ]
    }
   ],
   "source": [
    "costo = 30\n",
    "edad = int(input(\"Escribe la edad del visitante: \"))\n",
    "\n",
    "if edad < 3:\n",
    "    print (\"El precio de la entrada es: \", costo - (costo*0.70))\n",
    "    \n",
    "elif  edad >= 3 and edad <= 10 :\n",
    "    print (\"El precio de la entrada es: \", costo - (costo*.50) )\n",
    "    \n",
    "elif edad >=10 and edad <=12:\n",
    "    print (\"El precio de la entrada es: \", costo - (costo*.20) )\n",
    "    \n",
    "else :\n",
    "    print (\"El precio de la entrada es: \",costo)"
   ]
  },
  {
   "cell_type": "markdown",
   "metadata": {},
   "source": [
    "¿Se puede mejorar la estructura de los condicionales en este ejercicio?"
   ]
  },
  {
   "cell_type": "code",
   "execution_count": 12,
   "metadata": {},
   "outputs": [
    {
     "name": "stdout",
     "output_type": "stream",
     "text": [
      "No hay descuento 30\n"
     ]
    }
   ],
   "source": [
    "if edad < 3:\n",
    "    print (\"El precio de la entrada es: \", costo - (costo*0.70))\n",
    "elif edad < 10:\n",
    "    print (\"El precio de la entrada es: \", costo - (costo*0.50))\n",
    "elif edad < 12:\n",
    "    print (\"El precio de la entrada es: \", costo - (costo*0.30))\n",
    "else:\n",
    "    print(\"No hay descuento\", costo)"
   ]
  },
  {
   "cell_type": "markdown",
   "metadata": {},
   "source": [
    "#### Ejercicio 5 <a name = \"ej5\"></a>\n",
    "\n",
    "tomar como referencia los siguientes tramos impositivos en la campaña de la renta:\n",
    "\n",
    "|         Renta          | Tipo impositivo |\n",
    "| :--------------------: | :-------------: |\n",
    "|    Menos de 10000€     |       5%        |\n",
    "| Entre 10000€ y 20000€  |       15%       |\n",
    "| Entre 20000€ y 35000€ |       20%       |\n",
    "| Entre 35000€ y 60000€ |       30%       |\n",
    "|     Más de 60000€      |       45%       |\n",
    "\n",
    "Escribir un programa que pregunte al usuario su renta anual y muestre por pantalla el tipo impositivo que le corresponde.\n",
    "\n",
    "#### Solución"
   ]
  },
  {
   "cell_type": "code",
   "execution_count": null,
   "metadata": {},
   "outputs": [],
   "source": [
    "renta = float(input(\"¿Cuál es tu renta anual? \"))\n",
    "if renta < 10000:\n",
    "    impuesto = 5\n",
    "elif renta < 20000:\n",
    "    impuesto = 15\n",
    "elif renta < 35000:\n",
    "    impuesto = 20\n",
    "elif renta < 60000:\n",
    "    impuesto = 30\n",
    "else:\n",
    "    impuesto = 45\n",
    "print(\"Tu tipo impositivo es \" + str(impuesto) + \"%\")"
   ]
  },
  {
   "cell_type": "markdown",
   "metadata": {},
   "source": [
    "## 1.3 if anidados <a name = \"anidados\"></a>\n",
    "\n",
    "<img src=https://media.geeksforgeeks.org/wp-content/uploads/20200326162237/nested-if1.jpg>"
   ]
  },
  {
   "cell_type": "code",
   "execution_count": null,
   "metadata": {},
   "outputs": [],
   "source": [
    "# Ejemplo if anidado\n",
    "\n",
    "if x == y:\n",
    "    print('x e y son iguales')\n",
    "else:\n",
    "    if x < y:\n",
    "        print('x es menor que y')\n",
    "    else: # x > y\n",
    "        print('x es mayor que y')"
   ]
  },
  {
   "cell_type": "markdown",
   "metadata": {},
   "source": [
    "### Ejercicio 6 <a name = \"ej6\"></a>\n",
    "\n",
    "La pizzería Teledomino's ofrece pizzas vegetarianas y no vegetarianas a sus clientes.\n",
    "Los ingredientes para cada tipo de pizza aparecen a continuación.\n",
    "\n",
    "- Ingredientes vegetarianos: Pimiento y tofu.\n",
    "- Ingredientes no vegetarianos: Peperoni, Jamón y Salmón.\n",
    "\n",
    "Escribir un programa que pregunte al usuario si quiere una pizza vegetariana o no, y en función de su respuesta le muestre un menú con los ingredientes disponibles para que elija.\n",
    "Solo se puede eligir un ingrediente además de la mozzarella y el tomate que están en todas la pizzas.\n",
    "Al final se debe mostrar por pantalla si la pizza elegida es vegetariana o no y todos los ingredientes que lleva.\n"
   ]
  },
  {
   "cell_type": "code",
   "execution_count": null,
   "metadata": {},
   "outputs": [],
   "source": [
    "print(\"Bienvenido a la pizzeria Teledomino's.\\nTipos de pizza\\n\\t1- Vegetariana\\n\\t2- No vegetariana\\n\")\n",
    "\n",
    "tipo = int(input(\"Introduce el número correspondiente al tipo de pizza que quieres:\"))\n",
    "\n",
    "if tipo == 1:\n",
    "    print(\"Ingredientes de pizzas vegetarianas\\n\\t 1- Pimiento\\n\\t2- Tofu\\n\")\n",
    "    ingrediente = input(\"Introduce el ingrediente que deseas: \")\n",
    "    print(\"Pizza vegetariana con mozzarella, tomate y \", end=\"\")\n",
    "    if ingrediente == \"1\":\n",
    "        print(\"pimiento\")\n",
    "    else: \n",
    "        print(\"tofu\")\n",
    "else:\n",
    "    print(\"Ingredientes de pizzas no vegetarianas\\n\\t1- Peperoni\\n\\t2- Jamón\\n\\t3- Salmón\\n\")\n",
    "    ingrediente = input(\"Introduce el ingrediente que deseas: \")\n",
    "    print(\"Pizza no vegetarina con mozarrella, tomate y \", end=\"\")\n",
    "    if ingrediente == \"1\":\n",
    "        print(\"peperoni\")\n",
    "    elif ingrediente == \"2\":\n",
    "        print(\"jamón\")\n",
    "    else:\n",
    "        print(\"salmón\")\n",
    "\n"
   ]
  },
  {
   "cell_type": "markdown",
   "metadata": {},
   "source": [
    "# 2. BUCLES <a name = \"bucles\"></a>\n",
    "\n",
    "## 2.1 FOR <a name = \"for\"></a>\n",
    "\n",
    "<img src=https://upload.wikimedia.org/wikipedia/commons/thumb/d/d1/For_loop_example.svg/800px-For_loop_example.svg.png>"
   ]
  },
  {
   "cell_type": "code",
   "execution_count": 18,
   "metadata": {
    "scrolled": false
   },
   "outputs": [
    {
     "name": "stdout",
     "output_type": "stream",
     "text": [
      "E s t o   e s   u n a   f r a s e "
     ]
    }
   ],
   "source": [
    "# Iteramos sobre una cadena\n",
    "\n",
    "cadena = 'Esto es una frase'\n",
    "\n",
    "for palabra in cadena:\n",
    "    print(palabra, end=\" \")"
   ]
  },
  {
   "cell_type": "code",
   "execution_count": 17,
   "metadata": {},
   "outputs": [
    {
     "name": "stdout",
     "output_type": "stream",
     "text": [
      "0 1 2 3 4 "
     ]
    }
   ],
   "source": [
    "# Iteramos sobre una secuencia de valores\n",
    "#  la función range genera desde 0 hasta n-1 5 valores\n",
    "secuencia = range(5)\n",
    "\n",
    "for sec in secuencia:\n",
    "    print(sec, end=\" \")"
   ]
  },
  {
   "cell_type": "code",
   "execution_count": null,
   "metadata": {},
   "outputs": [],
   "source": [
    "print(\"Recorre de 0 a 9\")\n",
    "for num in range(10): \n",
    "    print(num)"
   ]
  },
  {
   "cell_type": "code",
   "execution_count": null,
   "metadata": {},
   "outputs": [],
   "source": [
    "# Función range definiendo el punto de inicio\n",
    "\n",
    "print(\"Recorre de 5 a 9\")\n",
    "for num in range(5,10): \n",
    "    print(num)"
   ]
  },
  {
   "cell_type": "code",
   "execution_count": null,
   "metadata": {},
   "outputs": [],
   "source": [
    "# Range puede tomar estos argumentos\n",
    "# - Start\n",
    "# - End\n",
    "# - Steps\n",
    "\n",
    "print(\"De 10 a 45 de 5 en 5\")\n",
    "for num in range(10,50,5): \n",
    "    print(num) "
   ]
  },
  {
   "cell_type": "code",
   "execution_count": null,
   "metadata": {},
   "outputs": [],
   "source": [
    "print(\"De 0 a -4 de -1 en -1\")\n",
    "for num in range(0,-5,-1): \n",
    "    print(num)  "
   ]
  },
  {
   "cell_type": "markdown",
   "metadata": {},
   "source": [
    "### Ejercicio 7. <a name = \"ej7\"></a>\n",
    "\n",
    "Mediante una secuencia de números del 0 al 10 (10 incluido), si el número es par, se devuelve su valor al cuadrado, si es impar, se devuelve su valor entre dos.\n",
    "\n",
    "#### Solución"
   ]
  },
  {
   "cell_type": "code",
   "execution_count": null,
   "metadata": {},
   "outputs": [],
   "source": [
    "for item in range(11): # 10 + 1\n",
    "    if item % 2 == 0:\n",
    "        print('El item ', item, ' es par, exponencial de dos ', item ** 2, '\\n')\n",
    "    else:\n",
    "        print('El item ', item, ' es impar, división entre dos ', item / 2, '\\n')"
   ]
  },
  {
   "cell_type": "markdown",
   "metadata": {},
   "source": [
    "### Ejercicio 8. <a name = \"ej8\"></a>\n",
    "\n",
    "Escribe un programa que muestre la tabla de multiplicar del 1 al 9.\n",
    "\n",
    "#### Solución."
   ]
  },
  {
   "cell_type": "code",
   "execution_count": null,
   "metadata": {},
   "outputs": [],
   "source": [
    "for item in range(10):\n",
    "    if item == 0:\n",
    "        pass\n",
    "    else:\n",
    "        for multiplicador in range(10):\n",
    "            print(item, ' * ', multiplicador, ' = ', item * multiplicador)\n",
    "\n",
    "        print('\\n')"
   ]
  },
  {
   "cell_type": "markdown",
   "metadata": {},
   "source": [
    "### Ejercicio 9.  <a name = \"ej9\"></a>\n",
    "\n",
    "Escribe un programa que solicite dos número enteros y, escriba la suma de todos los números enteros entre ambos números.\n",
    "\n",
    "#### Solución"
   ]
  },
  {
   "cell_type": "code",
   "execution_count": 20,
   "metadata": {},
   "outputs": [
    {
     "name": "stdout",
     "output_type": "stream",
     "text": [
      "Dame un número4\n",
      "Dame otro número: 6\n"
     ]
    }
   ],
   "source": [
    "# En clase\n",
    "n_uno = int(input(\"Dame un número\"))\n",
    "n_dos = int(input(\"Dame otro número: \"))"
   ]
  },
  {
   "cell_type": "code",
   "execution_count": 21,
   "metadata": {},
   "outputs": [
    {
     "name": "stdout",
     "output_type": "stream",
     "text": [
      "4\n",
      "5\n",
      "6\n"
     ]
    }
   ],
   "source": [
    "for item in range(n_uno, n_dos+1):\n",
    "    print(item)"
   ]
  },
  {
   "cell_type": "markdown",
   "metadata": {},
   "source": [
    "### Ejercicio 10.  <a name = \"ej10\"></a>\n",
    "\n",
    "Escribe un programa que solicite un número entero mayor que cero y cualcule su factorial.\n",
    "\n",
    "NOTA: La función factorial se representa con un signo de exclamación “!” detrás de un número. Esta exclamación quiere decir que hay que multiplicar todos los números enteros positivos que hay entre ese número y el 1.\n",
    "\n",
    "6! = 1\\*2\\*3\\*4\\*5\\*6 = 720\n",
    "\n",
    "#### Solución"
   ]
  },
  {
   "cell_type": "code",
   "execution_count": null,
   "metadata": {},
   "outputs": [],
   "source": [
    "numero = int(input(\"Escribe un número entero positivo: \"))\n",
    "if numero < 0 :\n",
    "    print(\"¡Debías escribir un número entero positivo!\")\n",
    "else:\n",
    "    factorial = 1\n",
    "    for i in range(1, numero + 1):\n",
    "        factorial = factorial * i\n",
    "    print(\"El factorial de \",numero,\" es \",factorial)"
   ]
  },
  {
   "cell_type": "markdown",
   "metadata": {},
   "source": [
    "## 2.2 WHILE <a name = \"while\"></a>\n",
    "\n",
    "<img src=https://media.geeksforgeeks.org/wp-content/uploads/20191101170515/while-loop.jpg>"
   ]
  },
  {
   "cell_type": "code",
   "execution_count": null,
   "metadata": {},
   "outputs": [],
   "source": [
    "a = 1\n",
    "\n",
    "while a != 10:\n",
    "    print('ERROR !')\n",
    "    a += 1\n",
    "else:\n",
    "    print('La variable a ya tiene un valor de ', a)"
   ]
  },
  {
   "cell_type": "markdown",
   "metadata": {},
   "source": [
    "### Ejercicio 11. <a name = \"ej11\"></a>\n",
    "\n",
    "Solicita al usuario una palabra hasta que la palabra introducida sea 'fin'\n",
    "\n",
    "#### Solución"
   ]
  },
  {
   "cell_type": "code",
   "execution_count": null,
   "metadata": {},
   "outputs": [],
   "source": [
    "cad = input('Introduce una palabra ')\n",
    "\n",
    "while not cad == 'fin': # Equivalente a while cad != 'fin'\n",
    "    print('La palabra introducida ', cad, ' no es fin')\n",
    "    cad = input('Introduce una nueva palabra ')\n",
    "else:\n",
    "    print(cad)"
   ]
  },
  {
   "cell_type": "markdown",
   "metadata": {},
   "source": [
    "### Ejercicio 12. <a name = \"ej12\"></a>\n",
    "\n",
    "Programa que lee del teclado un número entero, comprueba si el número es mayor que 10. Si no lo es, volver a leer el número  hasta que el usuario escriba un valor correcto, además de comprobar si el número es mayor 10, cuando se obtenga un número mayor que 10, mostrar la suma de todos los números introducidos por el usuario.\n",
    "\n",
    "#### Solución"
   ]
  },
  {
   "cell_type": "code",
   "execution_count": 7,
   "metadata": {},
   "outputs": [
    {
     "name": "stdout",
     "output_type": "stream",
     "text": [
      "Escribe un número mayor a 10: 4\n",
      "Escribe un número mayor a 10: 6\n",
      "Escribe un número mayor a 10: 8\n",
      "Escribe un número mayor a 10: 10\n",
      "Escribe un número mayor a 10: 15\n",
      "15\n",
      "La suma es -->  43\n"
     ]
    }
   ],
   "source": [
    "numero = 0\n",
    "\n",
    "suma = 0 # Inicializamos en cero.\n",
    "\n",
    "while numero <= 10:\n",
    "    numero = int(input(\"Escribe un número mayor a 10: \"))\n",
    "    suma = suma + numero\n",
    "    \n",
    "print (numero)\n",
    "print(\"La suma es --> \", suma)"
   ]
  },
  {
   "cell_type": "markdown",
   "metadata": {},
   "source": [
    "### Ejercicio 13. <a name = \"ej13\"></a>\n",
    "\n",
    "Programa que solicita un número entero mayor que cero y que escriba sus divisores\n",
    "\n",
    "#### Solución."
   ]
  },
  {
   "cell_type": "code",
   "execution_count": null,
   "metadata": {},
   "outputs": [],
   "source": [
    "numero = 0\n",
    "while numero <= 0:\n",
    "    numero = int(input(\"Escribe un número entero mayor que cero: \"))\n",
    "    if numero <= 0:\n",
    "        print(\"¡Debes escribir un número entero mayor que cero!\")\n",
    "        \n",
    "print(\"Los divisores de \", numero ,\"son: \")\n",
    "for i in range(1, numero + 1):\n",
    "        if numero % i == 0:\n",
    "            print(i)"
   ]
  },
  {
   "cell_type": "markdown",
   "metadata": {},
   "source": [
    "### Ejercicio 14. <a name = \"ej14\"></a>\n",
    "\n",
    "Programa que muestre al usuario sumas de dos números positivos (entre 1 y 20), el usuario debe responder, el programa debe comprobar la respuesta y  continuará hasta que se acierten tres sumas.\n",
    "\n",
    "NOTA: Para generar números aleatorios importar la librería random con la función <code>randrange(min, max)</code> \n",
    "\n",
    "#### Solución."
   ]
  },
  {
   "cell_type": "code",
   "execution_count": null,
   "metadata": {},
   "outputs": [],
   "source": [
    "import random\n",
    "print(\"Escribe el resultado de las siguientes operaciones: \")\n",
    "sumas_correctas = 0\n",
    "\n",
    "while sumas_correctas < 3:\n",
    "    x = random.randrange(1, 21)\n",
    "    y = random.randrange(1, 21)\n",
    "    respuesta = int(input(f\"{x} + {y} = \"))\n",
    "    if respuesta == x + y:\n",
    "        sumas_correctas += 1\n",
    "        print(\"¡Correcto!\")\n",
    "    else:\n",
    "        print(\"¡Incorrecto!\")\n",
    "print(\"Reto superado.\")"
   ]
  },
  {
   "cell_type": "markdown",
   "metadata": {},
   "source": [
    "### Ejercicio 15.  <a name = \"ej15\"></a>\n",
    "\n",
    "Variación del programa anterior, en este caso, se preguntará al usuario cuántas sumas son correctas para superar el reto, una vez finalizado el resto, se mostrará el número de intentos empleados, entendiendo como intento tanto si el usuario acierta como si falla la suma.\n",
    "\n",
    "#### Solución"
   ]
  },
  {
   "cell_type": "code",
   "execution_count": null,
   "metadata": {},
   "outputs": [],
   "source": [
    "# En clase"
   ]
  }
 ],
 "metadata": {
  "kernelspec": {
   "display_name": "Python 3 (ipykernel)",
   "language": "python",
   "name": "python3"
  },
  "language_info": {
   "codemirror_mode": {
    "name": "ipython",
    "version": 3
   },
   "file_extension": ".py",
   "mimetype": "text/x-python",
   "name": "python",
   "nbconvert_exporter": "python",
   "pygments_lexer": "ipython3",
   "version": "3.11.5"
  }
 },
 "nbformat": 4,
 "nbformat_minor": 2
}
