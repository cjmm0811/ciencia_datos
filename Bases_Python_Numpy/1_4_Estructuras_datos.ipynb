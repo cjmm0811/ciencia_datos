{
 "cells": [
  {
   "cell_type": "markdown",
   "metadata": {},
   "source": [
    "# ESTRUCTURAS DE DATOS\n",
    "\n",
    "1. [Tuplas](#tuple)\n",
    "    + [Ejercicio 1](#j1)\n",
    "    + [Ejercicio 2](#j2)\n",
    "    + [Ejercicio 3](#j3)\n",
    "    \n",
    "2. [Listas](#list)\n",
    "    + [Ejercicio 4](#j4)\n",
    "    + [Ejercicio 5](#j5)\n",
    "    + [Ejercicio 6](#j6)\n",
    "    \n",
    "3. [Diccionarios de datos](#dict)\n",
    "    + [Ejercicio 7](#j7)\n",
    "    + [Ejercicio 8](#j8)\n",
    "    + [Ejercicio 9](#j9)\n",
    "    \n",
    "4. [Consideraciones para iterar sobre EEDD](#consideraciones)\n",
    "    \n",
    "<img src = https://cdn.corporatefinanceinstitute.com/assets/python-data-structures.png>"
   ]
  },
  {
   "cell_type": "markdown",
   "metadata": {},
   "source": [
    "# 1. TUPLAS <a name = \"tuple\"></a>\n",
    "\n",
    "<img src = https://logicmojo.com/assets/dist/new_pages/images/tuples.jpg>"
   ]
  },
  {
   "cell_type": "code",
   "execution_count": null,
   "metadata": {},
   "outputs": [],
   "source": [
    "tupla = (1, 23, 45) # Tupla básica\n",
    "tupla"
   ]
  },
  {
   "cell_type": "code",
   "execution_count": null,
   "metadata": {},
   "outputs": [],
   "source": [
    "# También podemos indexar o anidar, es deicr, \"meter una tupla dentro de otra\"\n",
    "\n",
    "tupla_index = ( tupla, (56, 'hola', 52.3654, 'fin' )) # Tupla indexada\n",
    "tupla_index"
   ]
  },
  {
   "cell_type": "markdown",
   "metadata": {},
   "source": [
    "Podemos mostrar valores a través del índice de cada tupla a través de __indexación__"
   ]
  },
  {
   "cell_type": "code",
   "execution_count": null,
   "metadata": {},
   "outputs": [],
   "source": [
    "tupla_index[0]"
   ]
  },
  {
   "cell_type": "code",
   "execution_count": null,
   "metadata": {},
   "outputs": [],
   "source": [
    "tupla_index[0][2]"
   ]
  },
  {
   "cell_type": "code",
   "execution_count": null,
   "metadata": {},
   "outputs": [],
   "source": [
    "tupla_index[1][1]"
   ]
  },
  {
   "cell_type": "markdown",
   "metadata": {},
   "source": [
    "No son mutables"
   ]
  },
  {
   "cell_type": "code",
   "execution_count": null,
   "metadata": {},
   "outputs": [],
   "source": [
    "tupla[1] = 100"
   ]
  },
  {
   "cell_type": "markdown",
   "metadata": {},
   "source": [
    "Clase de una tupla"
   ]
  },
  {
   "cell_type": "code",
   "execution_count": null,
   "metadata": {},
   "outputs": [],
   "source": [
    "type(tupla_index)"
   ]
  },
  {
   "cell_type": "markdown",
   "metadata": {},
   "source": [
    "### Ejercicio 1. <a name = \"ej1\"></a>\n",
    "\n",
    "Guardar las siguientes calificaciones en una tupla.\n",
    "\n",
    "* 5.25\n",
    "* 4.5\n",
    "* 3.25\n",
    "* 7.8\n",
    "* 5.90\n",
    "* 10\n",
    "* 9.6\n",
    "\n",
    "Mostrar sus elementos uno a uno.\n",
    "\n",
    "#### Solución"
   ]
  },
  {
   "cell_type": "code",
   "execution_count": 4,
   "metadata": {},
   "outputs": [
    {
     "name": "stdout",
     "output_type": "stream",
     "text": [
      "5.25\n",
      "4.5\n",
      "3.25\n",
      "7.8\n",
      "5.9\n",
      "10\n",
      "9.6\n"
     ]
    }
   ],
   "source": [
    "tupla_ej1 = (5.25, 4.5, 3.25, 7.8, 5.90, 10, 9.6)\n",
    "for num in tupla_ej1:\n",
    "    print(num)"
   ]
  },
  {
   "cell_type": "markdown",
   "metadata": {},
   "source": [
    "### Ejercicio 2 <a name = \"ej2\"></a>\n",
    "\n",
    "Escribir un programa que almacene los vectores (1,2,3) y (-1,0,2) en dos tuplas y muestre por pantalla su producto escalar.\n",
    "\n",
    "NOTA: El producto escalar se realizar elemento a elemento.\n",
    "\n",
    "#### Solución"
   ]
  },
  {
   "cell_type": "code",
   "execution_count": null,
   "metadata": {},
   "outputs": [],
   "source": [
    "# Definimos dos tuplas\n",
    "a = ( 1, 2, 3)\n",
    "b = (-1, 0, 2)"
   ]
  },
  {
   "cell_type": "code",
   "execution_count": null,
   "metadata": {},
   "outputs": [],
   "source": [
    "# Variable auxiliar para guardar el producto.\n",
    "escalar = 0\n",
    "\n",
    "# Calculamos el producto\n",
    "# NOTA: Podemos recorrer las dos tuplas a través del índice \n",
    "#  de una de ellas ya que las 2 son de misma longitud\n",
    "for i in range(len(a)):\n",
    "    escalar = escalar + a[i]*b[i]\n",
    "\n",
    "print(\"El producto escalar de \", a, b, \" es --> \", escalar)"
   ]
  },
  {
   "cell_type": "markdown",
   "metadata": {},
   "source": [
    "### Ejercicio 3 <a name = \"ej3\"></a>\n",
    "\n",
    "Escribe un programa que muestre la media de la siguiente tupla:\n",
    "\n",
    "```python\n",
    "tupla = (1, 5, 8, 9, 100, 23, 6, 10, 30)\n",
    "```\n",
    "\n",
    "#### Solución"
   ]
  },
  {
   "cell_type": "code",
   "execution_count": null,
   "metadata": {},
   "outputs": [],
   "source": [
    "tupla = (1, 5, 8, 9, 100, 23, 6, 10, 30)\n",
    "# Inicializamos la tupla\n",
    "suma = 0\n",
    "\n",
    "for item in tupla:\n",
    "    suma = suma + item\n",
    "\n",
    "print('La media de la tupla es {}'.format(suma/len(tupla)))"
   ]
  },
  {
   "cell_type": "markdown",
   "metadata": {},
   "source": [
    "# LISTAS <a name = \"list\"></a>\n",
    "\n",
    "<img src= https://av-eks-blogoptimized.s3.amazonaws.com/lists-indexing-and-splitting.png>"
   ]
  },
  {
   "cell_type": "markdown",
   "metadata": {},
   "source": [
    "Definición de una lista"
   ]
  },
  {
   "cell_type": "code",
   "execution_count": 5,
   "metadata": {},
   "outputs": [],
   "source": [
    "mi_lista = [1, 3, 89, 23]"
   ]
  },
  {
   "cell_type": "code",
   "execution_count": 6,
   "metadata": {},
   "outputs": [
    {
     "data": {
      "text/plain": [
       "[1, 3, 89, 23]"
      ]
     },
     "execution_count": 6,
     "metadata": {},
     "output_type": "execute_result"
    }
   ],
   "source": [
    "mi_lista"
   ]
  },
  {
   "cell_type": "code",
   "execution_count": 8,
   "metadata": {},
   "outputs": [],
   "source": [
    "mix_list = ['hola', 51, 8.23, 2, 'cadena']"
   ]
  },
  {
   "cell_type": "code",
   "execution_count": 9,
   "metadata": {},
   "outputs": [
    {
     "data": {
      "text/plain": [
       "['hola', 51, 8.23, 2, 'cadena']"
      ]
     },
     "execution_count": 9,
     "metadata": {},
     "output_type": "execute_result"
    }
   ],
   "source": [
    "mix_list"
   ]
  },
  {
   "cell_type": "markdown",
   "metadata": {},
   "source": [
    "### Ejercicio 4. <a name = \"ej4\"></a>\n",
    "\n",
    "Almacenar la siguiente información en una lista:\n",
    "\n",
    "* BBVA\n",
    "* CAIXA\n",
    "* SANTANDER\n",
    "* BANKIA\n",
    "* BNEXT\n",
    "* CAJA RURAL\n",
    "\n",
    "Imprimir de la lista obtenida el segundo y cuarto elemento\n",
    "\n",
    "### Solución"
   ]
  },
  {
   "cell_type": "code",
   "execution_count": 12,
   "metadata": {},
   "outputs": [
    {
     "name": "stdout",
     "output_type": "stream",
     "text": [
      "CAIXA\n",
      "BANKIA\n"
     ]
    }
   ],
   "source": [
    "bancos = [\n",
    "    \"BBVA\",\n",
    "    \"CAIXA\",\n",
    "    \"SANTANDER\",\n",
    "    \"BANKIA\",\n",
    "    \"BNEXT\",\n",
    "    \"CAJA RURAL\"\n",
    "]\n",
    "\n",
    "print(bancos[1])\n",
    "print(bancos[3])"
   ]
  },
  {
   "cell_type": "markdown",
   "metadata": {},
   "source": [
    "Listas anidadas"
   ]
  },
  {
   "cell_type": "code",
   "execution_count": 13,
   "metadata": {},
   "outputs": [],
   "source": [
    "new_list = ['item1', 'item2', mix_list, 'item4', ['item4.0', ['item4.1']]]"
   ]
  },
  {
   "cell_type": "code",
   "execution_count": 14,
   "metadata": {},
   "outputs": [
    {
     "data": {
      "text/plain": [
       "['item1',\n",
       " 'item2',\n",
       " ['hola', 51, 8.23, 2, 'cadena'],\n",
       " 'item4',\n",
       " ['item4.0', ['item4.1']]]"
      ]
     },
     "execution_count": 14,
     "metadata": {},
     "output_type": "execute_result"
    }
   ],
   "source": [
    "new_list"
   ]
  },
  {
   "cell_type": "markdown",
   "metadata": {},
   "source": [
    "Accedemos solo a la lista anidada"
   ]
  },
  {
   "cell_type": "code",
   "execution_count": 15,
   "metadata": {},
   "outputs": [
    {
     "data": {
      "text/plain": [
       "['item4.0', ['item4.1']]"
      ]
     },
     "execution_count": 15,
     "metadata": {},
     "output_type": "execute_result"
    }
   ],
   "source": [
    "new_list[4]"
   ]
  },
  {
   "cell_type": "markdown",
   "metadata": {},
   "source": [
    "Accedemos solo a la sub-lista anidada, dentro de la lista anidada."
   ]
  },
  {
   "cell_type": "code",
   "execution_count": null,
   "metadata": {},
   "outputs": [],
   "source": [
    "new_list[4][1]"
   ]
  },
  {
   "cell_type": "markdown",
   "metadata": {},
   "source": [
    "Índices de una lista"
   ]
  },
  {
   "cell_type": "code",
   "execution_count": null,
   "metadata": {},
   "outputs": [],
   "source": [
    "new_list[0]"
   ]
  },
  {
   "cell_type": "code",
   "execution_count": null,
   "metadata": {},
   "outputs": [],
   "source": [
    "new_list[2][0]"
   ]
  },
  {
   "cell_type": "code",
   "execution_count": null,
   "metadata": {},
   "outputs": [],
   "source": [
    "new_list[2][0][1]"
   ]
  },
  {
   "cell_type": "markdown",
   "metadata": {},
   "source": [
    "Modificar valores de una lista"
   ]
  },
  {
   "cell_type": "code",
   "execution_count": 16,
   "metadata": {},
   "outputs": [],
   "source": [
    "new_list[2][0] = 'adios'"
   ]
  },
  {
   "cell_type": "code",
   "execution_count": 17,
   "metadata": {},
   "outputs": [
    {
     "data": {
      "text/plain": [
       "['item1',\n",
       " 'item2',\n",
       " ['adios', 51, 8.23, 2, 'cadena'],\n",
       " 'item4',\n",
       " ['item4.0', ['item4.1']]]"
      ]
     },
     "execution_count": 17,
     "metadata": {},
     "output_type": "execute_result"
    }
   ],
   "source": [
    "new_list"
   ]
  },
  {
   "cell_type": "markdown",
   "metadata": {},
   "source": [
    "Propiedades de una lista:\n",
    "\n",
    "* __append__"
   ]
  },
  {
   "cell_type": "code",
   "execution_count": 18,
   "metadata": {},
   "outputs": [],
   "source": [
    "lista = [1, 3, 65, 85, 2]"
   ]
  },
  {
   "cell_type": "code",
   "execution_count": 19,
   "metadata": {},
   "outputs": [],
   "source": [
    "lista.append(100)"
   ]
  },
  {
   "cell_type": "code",
   "execution_count": 20,
   "metadata": {},
   "outputs": [
    {
     "data": {
      "text/plain": [
       "[1, 3, 65, 85, 2, 100]"
      ]
     },
     "execution_count": 20,
     "metadata": {},
     "output_type": "execute_result"
    }
   ],
   "source": [
    "lista"
   ]
  },
  {
   "cell_type": "markdown",
   "metadata": {},
   "source": [
    "### Ejercicio 5. <a name = \"ej5\"></a>\n",
    "\n",
    "Escribir un programa que almacene las asignaturas de un curso (por ejemplo Matemáticas, Física, Química, Historia y Lengua), posteriormente, se pregunte al usuario ¿qué nota has sacado en (asignatura) ?, guardar cada calificación en una nueva lista, finalmente, recorrer ambas listas para ir mostrando por pantalla el nombre de la asignatura y la calificación obtenida.\n",
    "\n",
    "#### Solución."
   ]
  },
  {
   "cell_type": "code",
   "execution_count": 21,
   "metadata": {},
   "outputs": [
    {
     "name": "stdout",
     "output_type": "stream",
     "text": [
      "Qué calificación has sacado en: Matemáticas ? 5\n",
      "Qué calificación has sacado en: Física ? 7\n",
      "Qué calificación has sacado en: Química ? 9\n",
      "Qué calificación has sacado en: Historia ? 4\n",
      "Qué calificación has sacado en: Lengua ? 8\n",
      "En la asignatura -->  Matemáticas  he obtenido una puntuación de -->  5.0\n",
      "En la asignatura -->  Física  he obtenido una puntuación de -->  7.0\n",
      "En la asignatura -->  Química  he obtenido una puntuación de -->  9.0\n",
      "En la asignatura -->  Historia  he obtenido una puntuación de -->  4.0\n",
      "En la asignatura -->  Lengua  he obtenido una puntuación de -->  8.0\n"
     ]
    }
   ],
   "source": [
    "# Lista de asignaturas\n",
    "asignaturas = [\"Matemáticas\", \"Física\", \"Química\", \"Historia\", \"Lengua\"]\n",
    "\n",
    "# Lista vacía para las puntuaciones\n",
    "puntuaciones = []\n",
    "\n",
    "# Guardamos las puntuaciones con append\n",
    "for asignatura in asignaturas:\n",
    "    puntuacion = float(input(\"Qué calificación has sacado en: \" + asignatura + \" ? \")) # Separar siempre con +\n",
    "    puntuaciones.append(puntuacion)\n",
    "    \n",
    "# Recorremos indexando las dos listas\n",
    "for item in range(len(asignaturas)):\n",
    "    print(\"En la asignatura --> \", asignaturas[item], \" he obtenido una puntuación de --> \", puntuaciones[item])"
   ]
  },
  {
   "cell_type": "markdown",
   "metadata": {},
   "source": [
    "* __clear__"
   ]
  },
  {
   "cell_type": "code",
   "execution_count": 22,
   "metadata": {},
   "outputs": [],
   "source": [
    "lista.clear()"
   ]
  },
  {
   "cell_type": "code",
   "execution_count": 23,
   "metadata": {},
   "outputs": [
    {
     "data": {
      "text/plain": [
       "[]"
      ]
     },
     "execution_count": 23,
     "metadata": {},
     "output_type": "execute_result"
    }
   ],
   "source": [
    "lista"
   ]
  },
  {
   "cell_type": "markdown",
   "metadata": {},
   "source": [
    "* __copy__"
   ]
  },
  {
   "cell_type": "markdown",
   "metadata": {},
   "source": [
    "Si no copiamos correctamente una lista, los cambios se verán reflejados en origen y copia."
   ]
  },
  {
   "cell_type": "code",
   "execution_count": 2,
   "metadata": {},
   "outputs": [],
   "source": [
    "lista = [1, 3, 65, 85, 2]"
   ]
  },
  {
   "cell_type": "code",
   "execution_count": 3,
   "metadata": {},
   "outputs": [],
   "source": [
    "lista_dos = lista"
   ]
  },
  {
   "cell_type": "code",
   "execution_count": 4,
   "metadata": {},
   "outputs": [],
   "source": [
    "lista_dos[2] = 5000"
   ]
  },
  {
   "cell_type": "code",
   "execution_count": 5,
   "metadata": {},
   "outputs": [
    {
     "data": {
      "text/plain": [
       "[1, 3, 5000, 85, 2]"
      ]
     },
     "execution_count": 5,
     "metadata": {},
     "output_type": "execute_result"
    }
   ],
   "source": [
    "lista"
   ]
  },
  {
   "cell_type": "code",
   "execution_count": 6,
   "metadata": {},
   "outputs": [
    {
     "data": {
      "text/plain": [
       "[1, 3, 5000, 85, 2]"
      ]
     },
     "execution_count": 6,
     "metadata": {},
     "output_type": "execute_result"
    }
   ],
   "source": [
    "lista_dos"
   ]
  },
  {
   "cell_type": "markdown",
   "metadata": {},
   "source": [
    "Si realizamos .copy() ..."
   ]
  },
  {
   "cell_type": "code",
   "execution_count": 7,
   "metadata": {},
   "outputs": [],
   "source": [
    "lista_tres = lista.copy()"
   ]
  },
  {
   "cell_type": "code",
   "execution_count": 8,
   "metadata": {},
   "outputs": [],
   "source": [
    "lista_tres[0] = 1400"
   ]
  },
  {
   "cell_type": "code",
   "execution_count": 9,
   "metadata": {},
   "outputs": [
    {
     "data": {
      "text/plain": [
       "[1400, 3, 5000, 85, 2]"
      ]
     },
     "execution_count": 9,
     "metadata": {},
     "output_type": "execute_result"
    }
   ],
   "source": [
    "lista_tres"
   ]
  },
  {
   "cell_type": "code",
   "execution_count": 10,
   "metadata": {},
   "outputs": [
    {
     "data": {
      "text/plain": [
       "[1, 3, 5000, 85, 2]"
      ]
     },
     "execution_count": 10,
     "metadata": {},
     "output_type": "execute_result"
    }
   ],
   "source": [
    "lista"
   ]
  },
  {
   "cell_type": "markdown",
   "metadata": {},
   "source": [
    "* **extend**"
   ]
  },
  {
   "cell_type": "code",
   "execution_count": 11,
   "metadata": {},
   "outputs": [],
   "source": [
    "z = [4, 9, 0]"
   ]
  },
  {
   "cell_type": "code",
   "execution_count": 12,
   "metadata": {},
   "outputs": [
    {
     "data": {
      "text/plain": [
       "[1, 3, 5000, 85, 2, 4, 9, 0]"
      ]
     },
     "execution_count": 12,
     "metadata": {},
     "output_type": "execute_result"
    }
   ],
   "source": [
    "lista.extend(z)\n",
    "lista"
   ]
  },
  {
   "cell_type": "markdown",
   "metadata": {},
   "source": [
    "Obtenemos el mismo resultado utilizando el operador + que indica, concatenar listas"
   ]
  },
  {
   "cell_type": "code",
   "execution_count": 13,
   "metadata": {},
   "outputs": [
    {
     "data": {
      "text/plain": [
       "[1, 2, 3, 4, 5, 6]"
      ]
     },
     "execution_count": 13,
     "metadata": {},
     "output_type": "execute_result"
    }
   ],
   "source": [
    "a = [1,2,3]\n",
    "b = [4,5,6]\n",
    "\n",
    "c = a + b\n",
    "\n",
    "c"
   ]
  },
  {
   "cell_type": "markdown",
   "metadata": {},
   "source": [
    "* **index**"
   ]
  },
  {
   "cell_type": "code",
   "execution_count": 14,
   "metadata": {},
   "outputs": [
    {
     "data": {
      "text/plain": [
       "2"
      ]
     },
     "execution_count": 14,
     "metadata": {},
     "output_type": "execute_result"
    }
   ],
   "source": [
    "lista.index(5000)"
   ]
  },
  {
   "cell_type": "code",
   "execution_count": 15,
   "metadata": {},
   "outputs": [
    {
     "ename": "ValueError",
     "evalue": "20 is not in list",
     "output_type": "error",
     "traceback": [
      "\u001b[1;31m---------------------------------------------------------------------------\u001b[0m",
      "\u001b[1;31mValueError\u001b[0m                                Traceback (most recent call last)",
      "Cell \u001b[1;32mIn[15], line 1\u001b[0m\n\u001b[1;32m----> 1\u001b[0m lista\u001b[38;5;241m.\u001b[39mindex(\u001b[38;5;241m20\u001b[39m)\n",
      "\u001b[1;31mValueError\u001b[0m: 20 is not in list"
     ]
    }
   ],
   "source": [
    "lista.index(20)"
   ]
  },
  {
   "cell_type": "markdown",
   "metadata": {},
   "source": [
    "* **insert**"
   ]
  },
  {
   "cell_type": "code",
   "execution_count": 16,
   "metadata": {},
   "outputs": [],
   "source": [
    "lista.insert(4, 'nuevo valor')"
   ]
  },
  {
   "cell_type": "code",
   "execution_count": 17,
   "metadata": {},
   "outputs": [
    {
     "data": {
      "text/plain": [
       "[1, 3, 5000, 85, 'nuevo valor', 2, 4, 9, 0]"
      ]
     },
     "execution_count": 17,
     "metadata": {},
     "output_type": "execute_result"
    }
   ],
   "source": [
    "lista"
   ]
  },
  {
   "cell_type": "markdown",
   "metadata": {},
   "source": [
    "* **pop**"
   ]
  },
  {
   "cell_type": "code",
   "execution_count": 18,
   "metadata": {},
   "outputs": [
    {
     "data": {
      "text/plain": [
       "'nuevo valor'"
      ]
     },
     "execution_count": 18,
     "metadata": {},
     "output_type": "execute_result"
    }
   ],
   "source": [
    "lista.pop(4)"
   ]
  },
  {
   "cell_type": "code",
   "execution_count": 19,
   "metadata": {},
   "outputs": [
    {
     "data": {
      "text/plain": [
       "[1, 3, 5000, 85, 2, 4, 9, 0]"
      ]
     },
     "execution_count": 19,
     "metadata": {},
     "output_type": "execute_result"
    }
   ],
   "source": [
    "lista"
   ]
  },
  {
   "cell_type": "markdown",
   "metadata": {},
   "source": [
    "* **remove**"
   ]
  },
  {
   "cell_type": "code",
   "execution_count": 20,
   "metadata": {},
   "outputs": [
    {
     "data": {
      "text/plain": [
       "[1, 3, 5000, 85, 4, 9, 0]"
      ]
     },
     "execution_count": 20,
     "metadata": {},
     "output_type": "execute_result"
    }
   ],
   "source": [
    "lista.remove(2)\n",
    "lista"
   ]
  },
  {
   "cell_type": "markdown",
   "metadata": {},
   "source": [
    "* **reverse**"
   ]
  },
  {
   "cell_type": "code",
   "execution_count": 21,
   "metadata": {},
   "outputs": [
    {
     "data": {
      "text/plain": [
       "[0, 9, 4, 85, 5000, 3, 1]"
      ]
     },
     "execution_count": 21,
     "metadata": {},
     "output_type": "execute_result"
    }
   ],
   "source": [
    "lista.reverse()\n",
    "\n",
    "lista"
   ]
  },
  {
   "cell_type": "markdown",
   "metadata": {},
   "source": [
    "* **sort**"
   ]
  },
  {
   "cell_type": "code",
   "execution_count": 22,
   "metadata": {},
   "outputs": [
    {
     "data": {
      "text/plain": [
       "[0, 1, 3, 4, 9, 85, 5000]"
      ]
     },
     "execution_count": 22,
     "metadata": {},
     "output_type": "execute_result"
    }
   ],
   "source": [
    "lista.sort()\n",
    "\n",
    "lista"
   ]
  },
  {
   "cell_type": "code",
   "execution_count": 23,
   "metadata": {},
   "outputs": [
    {
     "name": "stdout",
     "output_type": "stream",
     "text": [
      "0 1 3 4 9 85 5000 "
     ]
    }
   ],
   "source": [
    "for item in lista:\n",
    "    print(item, end=\" \")"
   ]
  },
  {
   "cell_type": "code",
   "execution_count": 25,
   "metadata": {
    "scrolled": true
   },
   "outputs": [
    {
     "name": "stdout",
     "output_type": "stream",
     "text": [
      "Índice -->  0  valor:  0\n",
      "Índice -->  1  valor:  1\n",
      "Índice -->  2  valor:  3\n",
      "Índice -->  3  valor:  4\n",
      "Índice -->  4  valor:  9\n",
      "Índice -->  5  valor:  85\n",
      "Índice -->  6  valor:  5000\n"
     ]
    }
   ],
   "source": [
    "for item in range(len(lista)):\n",
    "    print('Índice --> ', item , ' valor: ', lista[item])"
   ]
  },
  {
   "cell_type": "code",
   "execution_count": 26,
   "metadata": {},
   "outputs": [
    {
     "name": "stdout",
     "output_type": "stream",
     "text": [
      "Índice -->  2  valor:  3\n",
      "Índice -->  3  valor:  4\n",
      "Índice -->  4  valor:  9\n",
      "Índice -->  5  valor:  85\n",
      "Índice -->  6  valor:  5000\n"
     ]
    }
   ],
   "source": [
    "for item in range(2, len(lista)):\n",
    "    print('Índice --> ', item , ' valor: ', lista[item])"
   ]
  },
  {
   "cell_type": "code",
   "execution_count": 27,
   "metadata": {},
   "outputs": [
    {
     "data": {
      "text/plain": [
       "list"
      ]
     },
     "execution_count": 27,
     "metadata": {},
     "output_type": "execute_result"
    }
   ],
   "source": [
    "type(lista)"
   ]
  },
  {
   "cell_type": "markdown",
   "metadata": {},
   "source": [
    "### Ejercicio 6. <a name = \"ej6\"></a>\n",
    "\n",
    "Toma como entrada las siguientes listas:"
   ]
  },
  {
   "cell_type": "code",
   "execution_count": 28,
   "metadata": {},
   "outputs": [],
   "source": [
    "frutas_uno = ['Manzana', 'banana', 'platano', 'uva']\n",
    "frutas_dos = ['Pera', 'kiwi', 'mandarina', 'naranja']"
   ]
  },
  {
   "cell_type": "markdown",
   "metadata": {},
   "source": [
    "Obtén una única lista cuyo resultado sea el de borrar de ambas listas la vocal 'a'.\n",
    "\n",
    "#### Solución."
   ]
  },
  {
   "cell_type": "code",
   "execution_count": 29,
   "metadata": {},
   "outputs": [
    {
     "data": {
      "text/plain": [
       "['Manzana', 'banana', 'platano', 'uva', 'Pera', 'kiwi', 'mandarina', 'naranja']"
      ]
     },
     "execution_count": 29,
     "metadata": {},
     "output_type": "execute_result"
    }
   ],
   "source": [
    "# Primero concatenamos ambas listas\n",
    "frutas = frutas_uno + frutas_dos\n",
    "frutas"
   ]
  },
  {
   "cell_type": "code",
   "execution_count": 30,
   "metadata": {},
   "outputs": [
    {
     "data": {
      "text/plain": [
       "['Mnzn', 'bnn', 'pltno', 'uv', 'Per', 'kiwi', 'mndrin', 'nrnj']"
      ]
     },
     "execution_count": 30,
     "metadata": {},
     "output_type": "execute_result"
    }
   ],
   "source": [
    "# Ahora, recorremos toda la lista, eliminando la vocal a.\n",
    "for item in range(len(frutas)):\n",
    "    no_vocals = frutas[item].replace('a', '')\n",
    "    frutas[item] = no_vocals\n",
    "    \n",
    "# Mostramos la lista sin vocal 'a'\n",
    "frutas"
   ]
  },
  {
   "cell_type": "markdown",
   "metadata": {},
   "source": [
    "# DICCIONARIO DE DATOS <a name = \"dict\"></a>\n",
    "\n",
    "<img src = https://cs.stanford.edu/people/nick/py/img/python-dict2.png>"
   ]
  },
  {
   "cell_type": "markdown",
   "metadata": {},
   "source": [
    "Definición de un diccionario."
   ]
  },
  {
   "cell_type": "code",
   "execution_count": 31,
   "metadata": {},
   "outputs": [
    {
     "data": {
      "text/plain": [
       "{'clave': 1}"
      ]
     },
     "execution_count": 31,
     "metadata": {},
     "output_type": "execute_result"
    }
   ],
   "source": [
    "a = {'clave' : 1}\n",
    "a"
   ]
  },
  {
   "cell_type": "markdown",
   "metadata": {},
   "source": [
    "Elementos de un diccionario"
   ]
  },
  {
   "cell_type": "code",
   "execution_count": 32,
   "metadata": {},
   "outputs": [
    {
     "data": {
      "text/plain": [
       "{'clave_1': 100, 'clave_2': 120, 'clave_3': 130}"
      ]
     },
     "execution_count": 32,
     "metadata": {},
     "output_type": "execute_result"
    }
   ],
   "source": [
    "b = {'clave_1' : 100,\n",
    "     'clave_2' : 120,\n",
    "     'clave_3' : 130\n",
    "    } \n",
    "\n",
    "b"
   ]
  },
  {
   "cell_type": "markdown",
   "metadata": {},
   "source": [
    "Anidando diccionarios"
   ]
  },
  {
   "cell_type": "code",
   "execution_count": 33,
   "metadata": {},
   "outputs": [
    {
     "data": {
      "text/plain": [
       "{'clave1': 'hola',\n",
       " 'sub_dict': {'clave_1': 100, 'clave_2': 120, 'clave_3': 130},\n",
       " 'clave2': 5.2848,\n",
       " 'sub_dict_2': {'uno': 1, 'dos': 2}}"
      ]
     },
     "execution_count": 33,
     "metadata": {},
     "output_type": "execute_result"
    }
   ],
   "source": [
    "mix_dict = {'clave1' : \"hola\",\n",
    "            'sub_dict' : b,\n",
    "             'clave2': 5.2848,\n",
    "             'sub_dict_2': {\n",
    "                 'uno': 1,\n",
    "                 'dos': 2\n",
    "             }\n",
    "           }\n",
    "\n",
    "mix_dict"
   ]
  },
  {
   "cell_type": "markdown",
   "metadata": {},
   "source": [
    "Campo **clave**"
   ]
  },
  {
   "cell_type": "code",
   "execution_count": 34,
   "metadata": {},
   "outputs": [],
   "source": [
    "my_dict = {\n",
    "    'Hello' : 'Hola',\n",
    "    'Bye' : 'Adios',\n",
    "    'Car' : 'Coche',\n",
    "    'Tree' : 'Árbol'\n",
    "}"
   ]
  },
  {
   "cell_type": "code",
   "execution_count": 35,
   "metadata": {},
   "outputs": [
    {
     "data": {
      "text/plain": [
       "dict_keys(['Hello', 'Bye', 'Car', 'Tree'])"
      ]
     },
     "execution_count": 35,
     "metadata": {},
     "output_type": "execute_result"
    }
   ],
   "source": [
    "my_dict.keys()"
   ]
  },
  {
   "cell_type": "markdown",
   "metadata": {},
   "source": [
    "Campo **valor**"
   ]
  },
  {
   "cell_type": "code",
   "execution_count": 36,
   "metadata": {},
   "outputs": [
    {
     "data": {
      "text/plain": [
       "dict_values(['Hola', 'Adios', 'Coche', 'Árbol'])"
      ]
     },
     "execution_count": 36,
     "metadata": {},
     "output_type": "execute_result"
    }
   ],
   "source": [
    "my_dict.values()"
   ]
  },
  {
   "cell_type": "markdown",
   "metadata": {},
   "source": [
    "Elementos __items()__"
   ]
  },
  {
   "cell_type": "code",
   "execution_count": 37,
   "metadata": {},
   "outputs": [
    {
     "data": {
      "text/plain": [
       "dict_items([('Hello', 'Hola'), ('Bye', 'Adios'), ('Car', 'Coche'), ('Tree', 'Árbol')])"
      ]
     },
     "execution_count": 37,
     "metadata": {},
     "output_type": "execute_result"
    }
   ],
   "source": [
    "my_dict.items()"
   ]
  },
  {
   "cell_type": "markdown",
   "metadata": {},
   "source": [
    "Buscando campo clave"
   ]
  },
  {
   "cell_type": "code",
   "execution_count": 39,
   "metadata": {},
   "outputs": [
    {
     "data": {
      "text/plain": [
       "'Hola'"
      ]
     },
     "execution_count": 39,
     "metadata": {},
     "output_type": "execute_result"
    }
   ],
   "source": [
    "my_dict['Hello']"
   ]
  },
  {
   "cell_type": "code",
   "execution_count": 40,
   "metadata": {},
   "outputs": [
    {
     "data": {
      "text/plain": [
       "'Árbol'"
      ]
     },
     "execution_count": 40,
     "metadata": {},
     "output_type": "execute_result"
    }
   ],
   "source": [
    "my_dict['Tree']"
   ]
  },
  {
   "cell_type": "code",
   "execution_count": 41,
   "metadata": {},
   "outputs": [
    {
     "name": "stdout",
     "output_type": "stream",
     "text": [
      "No está\n"
     ]
    }
   ],
   "source": [
    "# Si buscamos un campo clave, es lo mismo que buscar\n",
    "#  una cadena de texto en una lista\n",
    "if 'Mouse' in my_dict.keys():\n",
    "    print('Está')\n",
    "else:\n",
    "    print('No está')"
   ]
  },
  {
   "cell_type": "code",
   "execution_count": 42,
   "metadata": {},
   "outputs": [
    {
     "data": {
      "text/plain": [
       "'Coche'"
      ]
     },
     "execution_count": 42,
     "metadata": {},
     "output_type": "execute_result"
    }
   ],
   "source": [
    "my_dict.get('Car')"
   ]
  },
  {
   "cell_type": "markdown",
   "metadata": {},
   "source": [
    "Borrando un diccionario completo"
   ]
  },
  {
   "cell_type": "code",
   "execution_count": 43,
   "metadata": {},
   "outputs": [],
   "source": [
    "my_dict.clear()"
   ]
  },
  {
   "cell_type": "markdown",
   "metadata": {},
   "source": [
    "Borrando un elemento en un campo clave específico"
   ]
  },
  {
   "cell_type": "code",
   "execution_count": 44,
   "metadata": {},
   "outputs": [],
   "source": [
    "my_dict = {\n",
    "    'Hello' : 'Hola',\n",
    "    'Bye' : 'Adios',\n",
    "    'Car' : 'Coche',\n",
    "    'Tree' : 'Árbol'\n",
    "}"
   ]
  },
  {
   "cell_type": "code",
   "execution_count": 45,
   "metadata": {},
   "outputs": [
    {
     "data": {
      "text/plain": [
       "{'Hello': 'Hola', 'Bye': 'Adios', 'Car': 'Coche'}"
      ]
     },
     "execution_count": 45,
     "metadata": {},
     "output_type": "execute_result"
    }
   ],
   "source": [
    "my_dict.pop('Tree')\n",
    "my_dict"
   ]
  },
  {
   "cell_type": "markdown",
   "metadata": {},
   "source": [
    "Borrar último campo insertado"
   ]
  },
  {
   "cell_type": "code",
   "execution_count": 46,
   "metadata": {},
   "outputs": [
    {
     "data": {
      "text/plain": [
       "{'Hello': 'Hola', 'Bye': 'Adios'}"
      ]
     },
     "execution_count": 46,
     "metadata": {},
     "output_type": "execute_result"
    }
   ],
   "source": [
    "my_dict.popitem()\n",
    "my_dict"
   ]
  },
  {
   "cell_type": "markdown",
   "metadata": {},
   "source": [
    "Añadiendo nuevos valores"
   ]
  },
  {
   "cell_type": "code",
   "execution_count": 47,
   "metadata": {},
   "outputs": [],
   "source": [
    "my_dict.update({'Beach' : 'Playa'})"
   ]
  },
  {
   "cell_type": "code",
   "execution_count": 48,
   "metadata": {},
   "outputs": [
    {
     "data": {
      "text/plain": [
       "{'Hello': 'Hola', 'Bye': 'Adios', 'Beach': 'Playa'}"
      ]
     },
     "execution_count": 48,
     "metadata": {},
     "output_type": "execute_result"
    }
   ],
   "source": [
    "my_dict"
   ]
  },
  {
   "cell_type": "markdown",
   "metadata": {},
   "source": [
    "Clase de un diccionario"
   ]
  },
  {
   "cell_type": "code",
   "execution_count": 49,
   "metadata": {},
   "outputs": [
    {
     "data": {
      "text/plain": [
       "dict"
      ]
     },
     "execution_count": 49,
     "metadata": {},
     "output_type": "execute_result"
    }
   ],
   "source": [
    "type(my_dict)"
   ]
  },
  {
   "cell_type": "markdown",
   "metadata": {},
   "source": [
    "### Ejercicio 7. <a name = \"ej7\"></a>\n",
    "\n",
    "Escribe un programa que solicite un número entero leido por teclado y genere un diccionario de datos en el que los campos clave sean los valores introducios por teclado y, los campos valor el valor al cubo de los mismos.\n",
    "\n",
    "#### Solución."
   ]
  },
  {
   "cell_type": "code",
   "execution_count": 50,
   "metadata": {},
   "outputs": [],
   "source": [
    "# Lo primero necesitamos un diccionario vacío\n",
    "dict_numbers = {}"
   ]
  },
  {
   "cell_type": "code",
   "execution_count": 52,
   "metadata": {},
   "outputs": [
    {
     "name": "stdout",
     "output_type": "stream",
     "text": [
      "Introduce un número entero 0\n",
      "¡ Error, el número debe ser mayor que cero !\n",
      "Introduce un número entero 5\n"
     ]
    }
   ],
   "source": [
    "# Solicitamos un número entero\n",
    "numero = 0\n",
    "\n",
    "# Mientras que no sea mayor que cero, solicitamos el número\n",
    "while numero <= 0:\n",
    "    numero = int(input(\"Introduce un número entero \"))\n",
    "    \n",
    "    # Si el número es menor o igual que cero mostramos mensaje de error\n",
    "    if numero <= 0:\n",
    "        print(\"¡ Error, el número debe ser mayor que cero !\")\n",
    "    else:\n",
    "        pass"
   ]
  },
  {
   "cell_type": "code",
   "execution_count": 53,
   "metadata": {},
   "outputs": [
    {
     "data": {
      "text/plain": [
       "5"
      ]
     },
     "execution_count": 53,
     "metadata": {},
     "output_type": "execute_result"
    }
   ],
   "source": [
    "numero"
   ]
  },
  {
   "cell_type": "code",
   "execution_count": 54,
   "metadata": {},
   "outputs": [],
   "source": [
    "# Generamos una secuencia de 0 a 3\n",
    "for campo_clave in range(0, numero + 1):\n",
    "    # Con dict_numbers[campo_clave], vamos generando el campo clave de 0..3\n",
    "    dict_numbers[campo_clave] = campo_clave ** 3"
   ]
  },
  {
   "cell_type": "code",
   "execution_count": 55,
   "metadata": {},
   "outputs": [
    {
     "data": {
      "text/plain": [
       "{0: 0, 1: 1, 2: 8, 3: 27, 4: 64, 5: 125}"
      ]
     },
     "execution_count": 55,
     "metadata": {},
     "output_type": "execute_result"
    }
   ],
   "source": [
    "dict_numbers"
   ]
  },
  {
   "cell_type": "code",
   "execution_count": 56,
   "metadata": {},
   "outputs": [
    {
     "data": {
      "text/plain": [
       "dict_keys([0, 1, 2, 3, 4, 5])"
      ]
     },
     "execution_count": 56,
     "metadata": {},
     "output_type": "execute_result"
    }
   ],
   "source": [
    "dict_numbers.keys()"
   ]
  },
  {
   "cell_type": "code",
   "execution_count": 57,
   "metadata": {},
   "outputs": [
    {
     "data": {
      "text/plain": [
       "dict_values([0, 1, 8, 27, 64, 125])"
      ]
     },
     "execution_count": 57,
     "metadata": {},
     "output_type": "execute_result"
    }
   ],
   "source": [
    "dict_numbers.values()"
   ]
  },
  {
   "cell_type": "markdown",
   "metadata": {},
   "source": [
    "### Ejercicio 8 <a name = \"ej8\"></a>\n",
    "\n",
    "Escribe un programa que solicite al usuario una frase, después, genere un diccionario de datos en el que los campos clave sean las palabras y, los campos valor el número de veces que aparece dicha palabra en la frase\n",
    "\n",
    "#### Solución"
   ]
  },
  {
   "cell_type": "code",
   "execution_count": 58,
   "metadata": {},
   "outputs": [
    {
     "name": "stdout",
     "output_type": "stream",
     "text": [
      "Introduce una frase hola\n"
     ]
    }
   ],
   "source": [
    "# Solicitamos una frase\n",
    "\n",
    "frase = \"\"\n",
    "\n",
    "while frase == \"\":\n",
    "    frase = input(\"Introduce una frase \")\n",
    "    # Borramos espacios por si el usuario se ha equivocado al introducir la frase\n",
    "    frase = frase.strip()\n",
    "    \n",
    "    if frase == \"\":\n",
    "        print(\"¡ Error la frase no puede ser vacía !\")\n",
    "    else:\n",
    "        pass"
   ]
  },
  {
   "cell_type": "code",
   "execution_count": 59,
   "metadata": {},
   "outputs": [
    {
     "data": {
      "text/plain": [
       "'hola'"
      ]
     },
     "execution_count": 59,
     "metadata": {},
     "output_type": "execute_result"
    }
   ],
   "source": [
    "frase"
   ]
  },
  {
   "cell_type": "code",
   "execution_count": 60,
   "metadata": {},
   "outputs": [
    {
     "data": {
      "text/plain": [
       "1"
      ]
     },
     "execution_count": 60,
     "metadata": {},
     "output_type": "execute_result"
    }
   ],
   "source": [
    "# Recordad, para buscar una sub-string... count\n",
    "frase.count('hola')"
   ]
  },
  {
   "cell_type": "code",
   "execution_count": 61,
   "metadata": {},
   "outputs": [],
   "source": [
    "# Dividimos la frase en espacios\n",
    "frase_split = frase.split(\" \")\n",
    "\n",
    "# Generamos un diccionario de datos vacío\n",
    "diccionario_palabras = {}\n",
    "\n",
    "# Recorremos por cada palabra\n",
    "for palabra in frase_split:\n",
    "    # Si la palabra no ha sido añadida previamente como campo clave, se añade\n",
    "    if palabra not in diccionario_palabras.keys():\n",
    "        # Añadimos al diccionario como campo clave la frecuencia de la palabra\n",
    "        diccionario_palabras[palabra] = frase.count(palabra)\n",
    "    else:\n",
    "        pass # Si ya es campo clave no hacemos nada"
   ]
  },
  {
   "cell_type": "code",
   "execution_count": 62,
   "metadata": {},
   "outputs": [
    {
     "data": {
      "text/plain": [
       "{'hola': 1}"
      ]
     },
     "execution_count": 62,
     "metadata": {},
     "output_type": "execute_result"
    }
   ],
   "source": [
    "diccionario_palabras"
   ]
  },
  {
   "cell_type": "markdown",
   "metadata": {},
   "source": [
    "### Ejercicio 9. <a name = \"ej9\"></a>\n",
    "\n",
    "Toma el diccionario resultante del ejercicio anterior y, borra cualquier palabra que tenga una frecuencia de 1\n",
    "\n",
    "#### Solución."
   ]
  },
  {
   "cell_type": "code",
   "execution_count": 63,
   "metadata": {},
   "outputs": [
    {
     "name": "stdout",
     "output_type": "stream",
     "text": [
      "hola\n"
     ]
    }
   ],
   "source": [
    "# Lo más importante en este ejercicio es saber \n",
    "#  como iterar sobre el diccionario\n",
    "\n",
    "# Vamos a iterar sobre los campos clave.\n",
    "\n",
    "for campo_clave in diccionario_palabras.keys():\n",
    "    print(campo_clave)"
   ]
  },
  {
   "cell_type": "code",
   "execution_count": 64,
   "metadata": {},
   "outputs": [
    {
     "name": "stdout",
     "output_type": "stream",
     "text": [
      "hola  -->  1\n"
     ]
    }
   ],
   "source": [
    "# Ahora, vamos a mostrar cada value asociado a cada key\n",
    "for campo_clave in diccionario_palabras.keys():\n",
    "    print(campo_clave, ' --> ', diccionario_palabras[campo_clave])"
   ]
  },
  {
   "cell_type": "code",
   "execution_count": 65,
   "metadata": {},
   "outputs": [
    {
     "ename": "RuntimeError",
     "evalue": "dictionary changed size during iteration",
     "output_type": "error",
     "traceback": [
      "\u001b[1;31m---------------------------------------------------------------------------\u001b[0m",
      "\u001b[1;31mRuntimeError\u001b[0m                              Traceback (most recent call last)",
      "Cell \u001b[1;32mIn[65], line 3\u001b[0m\n\u001b[0;32m      1\u001b[0m \u001b[38;5;66;03m# Por lo tanto, ya sabemos acceder a cada campo clave.\u001b[39;00m\n\u001b[0;32m      2\u001b[0m \u001b[38;5;66;03m# Ahora utilizaremos la función pop para borrar el campo clave\u001b[39;00m\n\u001b[1;32m----> 3\u001b[0m \u001b[38;5;28;01mfor\u001b[39;00m campo_clave \u001b[38;5;129;01min\u001b[39;00m diccionario_palabras\u001b[38;5;241m.\u001b[39mkeys():\n\u001b[0;32m      4\u001b[0m     \u001b[38;5;66;03m# Vemos el valor de frecuencia de cada value\u001b[39;00m\n\u001b[0;32m      5\u001b[0m     \u001b[38;5;28;01mif\u001b[39;00m diccionario_palabras[campo_clave] \u001b[38;5;241m<\u001b[39m \u001b[38;5;241m2\u001b[39m:\n\u001b[0;32m      6\u001b[0m         \u001b[38;5;66;03m# Borramos el registro del diccionario\u001b[39;00m\n\u001b[0;32m      7\u001b[0m         diccionario_palabras\u001b[38;5;241m.\u001b[39mpop(campo_clave)\n",
      "\u001b[1;31mRuntimeError\u001b[0m: dictionary changed size during iteration"
     ]
    }
   ],
   "source": [
    "# Por lo tanto, ya sabemos acceder a cada campo clave.\n",
    "# Ahora utilizaremos la función pop para borrar el campo clave\n",
    "for campo_clave in diccionario_palabras.keys():\n",
    "    # Vemos el valor de frecuencia de cada value\n",
    "    if diccionario_palabras[campo_clave] < 2:\n",
    "        # Borramos el registro del diccionario\n",
    "        diccionario_palabras.pop(campo_clave)\n",
    "        "
   ]
  },
  {
   "cell_type": "code",
   "execution_count": 66,
   "metadata": {},
   "outputs": [],
   "source": [
    "# No podemos cambiar en tiempo de ejecución el tamaño del diccionario\n",
    "# solución, guardar cada campo a borrar en una lista\n",
    "\n",
    "to_delete = []\n",
    "\n",
    "for campo_clave in diccionario_palabras.keys():\n",
    "    # Vemos el valor de frecuencia de cada value\n",
    "    if diccionario_palabras[campo_clave] < 2:\n",
    "        # Borramos el registro del diccionario\n",
    "        to_delete.append(campo_clave)\n",
    "        "
   ]
  },
  {
   "cell_type": "code",
   "execution_count": 67,
   "metadata": {},
   "outputs": [
    {
     "data": {
      "text/plain": [
       "[]"
      ]
     },
     "execution_count": 67,
     "metadata": {},
     "output_type": "execute_result"
    }
   ],
   "source": [
    "to_delete"
   ]
  },
  {
   "cell_type": "code",
   "execution_count": 68,
   "metadata": {},
   "outputs": [],
   "source": [
    "for item in to_delete:\n",
    "    diccionario_palabras.pop(item)"
   ]
  },
  {
   "cell_type": "code",
   "execution_count": 69,
   "metadata": {},
   "outputs": [
    {
     "data": {
      "text/plain": [
       "{}"
      ]
     },
     "execution_count": 69,
     "metadata": {},
     "output_type": "execute_result"
    }
   ],
   "source": [
    "diccionario_palabras"
   ]
  },
  {
   "cell_type": "markdown",
   "metadata": {},
   "source": [
    "# Consideraciones para iterar sobre estructuras de datos <a name = \"consideraciones\"></a>\n",
    "\n",
    "Tanto en una cadena, como una tupla, como una lista podemos iterar directamente sobre sus elementos (en columnas de un dataframe y arrays de Numpy también, pero los veremos más adelante)"
   ]
  },
  {
   "cell_type": "code",
   "execution_count": 70,
   "metadata": {},
   "outputs": [
    {
     "name": "stdout",
     "output_type": "stream",
     "text": [
      "h\n",
      "o\n",
      "l\n",
      "a\n",
      " \n",
      "m\n",
      "u\n",
      "n\n",
      "d\n",
      "o\n"
     ]
    }
   ],
   "source": [
    "cadena = 'hola mundo'\n",
    "\n",
    "for letra in cadena:\n",
    "    print(letra)"
   ]
  },
  {
   "cell_type": "code",
   "execution_count": 71,
   "metadata": {},
   "outputs": [
    {
     "name": "stdout",
     "output_type": "stream",
     "text": [
      "1\n",
      "100\n",
      "1000\n",
      "2\n",
      "200\n",
      "2000\n"
     ]
    }
   ],
   "source": [
    "lista_nums = [1, 100, 1000, 2, 200, 2000]\n",
    "\n",
    "for num in lista_nums:\n",
    "    print(num)"
   ]
  },
  {
   "cell_type": "code",
   "execution_count": 72,
   "metadata": {},
   "outputs": [
    {
     "name": "stdout",
     "output_type": "stream",
     "text": [
      "1\n",
      "100\n",
      "1000\n",
      "2\n",
      "200\n",
      "2000\n"
     ]
    }
   ],
   "source": [
    "mi_tupla = (1, 100, 1000, 2, 200, 2000)\n",
    "\n",
    "for num in mi_tupla:\n",
    "    print(num)"
   ]
  },
  {
   "cell_type": "markdown",
   "metadata": {},
   "source": [
    "Lo mismo ocurre cuando indexamos con range()"
   ]
  },
  {
   "cell_type": "code",
   "execution_count": 73,
   "metadata": {},
   "outputs": [
    {
     "name": "stdout",
     "output_type": "stream",
     "text": [
      "0   h\n",
      "1   o\n",
      "2   l\n",
      "3   a\n",
      "4    \n",
      "5   m\n",
      "6   u\n",
      "7   n\n",
      "8   d\n",
      "9   o\n"
     ]
    }
   ],
   "source": [
    "for letra in range(len(cadena)):\n",
    "    print(letra, ' ', cadena[letra])"
   ]
  },
  {
   "cell_type": "code",
   "execution_count": 74,
   "metadata": {},
   "outputs": [
    {
     "name": "stdout",
     "output_type": "stream",
     "text": [
      "1\n",
      "100\n",
      "1000\n",
      "2\n",
      "200\n",
      "2000\n"
     ]
    }
   ],
   "source": [
    "for num in range(len(lista_nums)):\n",
    "    print(lista_nums[num])"
   ]
  },
  {
   "cell_type": "code",
   "execution_count": 75,
   "metadata": {},
   "outputs": [
    {
     "name": "stdout",
     "output_type": "stream",
     "text": [
      "1\n",
      "100\n",
      "1000\n",
      "2\n",
      "200\n",
      "2000\n"
     ]
    }
   ],
   "source": [
    "for num in range(len(mi_tupla)):\n",
    "    print(mi_tupla[num])"
   ]
  },
  {
   "cell_type": "markdown",
   "metadata": {},
   "source": [
    "Podemos limitar también la posición desde la que queremos comenzar a iterar, por ejemplo de 2 a la longitud"
   ]
  },
  {
   "cell_type": "code",
   "execution_count": 76,
   "metadata": {},
   "outputs": [
    {
     "name": "stdout",
     "output_type": "stream",
     "text": [
      "1000\n",
      "2\n",
      "200\n",
      "2000\n"
     ]
    }
   ],
   "source": [
    "for num in range(2, len(lista_nums)):\n",
    "    print(lista_nums[num])"
   ]
  },
  {
   "cell_type": "markdown",
   "metadata": {},
   "source": [
    "El caso más especial para iterar son los diccionarios de datos, ya que disponenen de llaves (keys) y, valores (values)"
   ]
  },
  {
   "cell_type": "code",
   "execution_count": 77,
   "metadata": {},
   "outputs": [],
   "source": [
    "my_dict = {\n",
    "    'DNI':        '00000001A',\n",
    "    'Nombre':     'Homer Jay',\n",
    "    'Apellidos':  'Simpson',\n",
    "    'Direccion':  '742 Evergreen Terrace',\n",
    "    'Trabajo':    'Central Nuclear, sector 7G',\n",
    "    'Sueldo':     55000   \n",
    "}"
   ]
  },
  {
   "cell_type": "code",
   "execution_count": 78,
   "metadata": {},
   "outputs": [
    {
     "name": "stdout",
     "output_type": "stream",
     "text": [
      "DNI\n",
      "Nombre\n",
      "Apellidos\n",
      "Direccion\n",
      "Trabajo\n",
      "Sueldo\n"
     ]
    }
   ],
   "source": [
    "# Keys\n",
    "for campo_clave in my_dict.keys():\n",
    "    print(campo_clave)"
   ]
  },
  {
   "cell_type": "code",
   "execution_count": 79,
   "metadata": {},
   "outputs": [
    {
     "name": "stdout",
     "output_type": "stream",
     "text": [
      "00000001A\n",
      "Homer Jay\n",
      "Simpson\n",
      "742 Evergreen Terrace\n",
      "Central Nuclear, sector 7G\n",
      "55000\n"
     ]
    }
   ],
   "source": [
    "# Valores\n",
    "for campo_valor in my_dict.values():\n",
    "    print(campo_valor)"
   ]
  },
  {
   "cell_type": "code",
   "execution_count": 80,
   "metadata": {},
   "outputs": [
    {
     "name": "stdout",
     "output_type": "stream",
     "text": [
      "00000001A\n",
      "Homer Jay\n",
      "Simpson\n",
      "742 Evergreen Terrace\n",
      "Central Nuclear, sector 7G\n",
      "55000\n"
     ]
    }
   ],
   "source": [
    "# Mostrar un campo valor a través de su clave\n",
    "for campo_clave in my_dict.keys():\n",
    "    print(my_dict[campo_clave])"
   ]
  },
  {
   "cell_type": "code",
   "execution_count": 81,
   "metadata": {},
   "outputs": [
    {
     "name": "stdout",
     "output_type": "stream",
     "text": [
      "KEY -->  DNI  VALOR -->  00000001A\n",
      "KEY -->  Nombre  VALOR -->  Homer Jay\n",
      "KEY -->  Apellidos  VALOR -->  Simpson\n",
      "KEY -->  Direccion  VALOR -->  742 Evergreen Terrace\n",
      "KEY -->  Trabajo  VALOR -->  Central Nuclear, sector 7G\n",
      "KEY -->  Sueldo  VALOR -->  55000\n"
     ]
    }
   ],
   "source": [
    "# Iterar en keys, values\n",
    "for campo_clave, campo_valor in my_dict.items():\n",
    "    print('KEY --> ', campo_clave, ' VALOR --> ', campo_valor)"
   ]
  },
  {
   "cell_type": "code",
   "execution_count": 82,
   "metadata": {},
   "outputs": [],
   "source": [
    "# Por ejemplo, vamos a actualizar el campo 'Sueldo'\n",
    "if 'Sueldo' in my_dict.keys():\n",
    "    my_dict['Sueldo'] = 100000"
   ]
  },
  {
   "cell_type": "code",
   "execution_count": 83,
   "metadata": {},
   "outputs": [
    {
     "data": {
      "text/plain": [
       "{'DNI': '00000001A',\n",
       " 'Nombre': 'Homer Jay',\n",
       " 'Apellidos': 'Simpson',\n",
       " 'Direccion': '742 Evergreen Terrace',\n",
       " 'Trabajo': 'Central Nuclear, sector 7G',\n",
       " 'Sueldo': 100000}"
      ]
     },
     "execution_count": 83,
     "metadata": {},
     "output_type": "execute_result"
    }
   ],
   "source": [
    "my_dict"
   ]
  },
  {
   "cell_type": "code",
   "execution_count": 84,
   "metadata": {},
   "outputs": [],
   "source": [
    "# Añadimos un campo más, número de hijos\n",
    "my_dict.update({'N hijos': 3})"
   ]
  },
  {
   "cell_type": "code",
   "execution_count": 85,
   "metadata": {},
   "outputs": [
    {
     "data": {
      "text/plain": [
       "{'DNI': '00000001A',\n",
       " 'Nombre': 'Homer Jay',\n",
       " 'Apellidos': 'Simpson',\n",
       " 'Direccion': '742 Evergreen Terrace',\n",
       " 'Trabajo': 'Central Nuclear, sector 7G',\n",
       " 'Sueldo': 100000,\n",
       " 'N hijos': 3}"
      ]
     },
     "execution_count": 85,
     "metadata": {},
     "output_type": "execute_result"
    }
   ],
   "source": [
    "my_dict"
   ]
  },
  {
   "cell_type": "code",
   "execution_count": null,
   "metadata": {},
   "outputs": [],
   "source": []
  }
 ],
 "metadata": {
  "kernelspec": {
   "display_name": "Python 3 (ipykernel)",
   "language": "python",
   "name": "python3"
  },
  "language_info": {
   "codemirror_mode": {
    "name": "ipython",
    "version": 3
   },
   "file_extension": ".py",
   "mimetype": "text/x-python",
   "name": "python",
   "nbconvert_exporter": "python",
   "pygments_lexer": "ipython3",
   "version": "3.11.5"
  }
 },
 "nbformat": 4,
 "nbformat_minor": 2
}
