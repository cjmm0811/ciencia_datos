{
 "cells": [
  {
   "cell_type": "markdown",
   "metadata": {},
   "source": [
    "# GESTIÓN DE ARCHIVOS\n",
    "\n",
    "<img src = https://prod-central-prod-sm-site-media.s3.eu-west-1.amazonaws.com/sm/public/wp-content/uploads/2018/09/15083840/custom-json-data-studio-1024x640.png >\n",
    "\n",
    "1. [Archivos CSV](#csv)\n",
    "2. [Archivos JSON](#json)\n",
    "3. [Archivos XML](#xml)\n",
    "\n",
    "# CSV <a name = \"csv\"></a>\n",
    "\n",
    "## Lectura de un csv\n",
    "\n",
    "Para leer un archivo **csv**, lo primero tenermos que importar la librería que nos permite utilizar las funciones necesarias para su procesamiento, tanto de lectura como de escritura, esta librería es **csv**\n",
    "\n",
    "Importamos la librería"
   ]
  },
  {
   "cell_type": "code",
   "execution_count": null,
   "metadata": {},
   "outputs": [],
   "source": [
    "import csv"
   ]
  },
  {
   "cell_type": "markdown",
   "metadata": {},
   "source": [
    "Salvo que estemos utilizando la librerías como **pandas** que tienen otro tipo de funciones específicas para la lectura de un archivo, con la librería csv, tendremos que utilizar la función <code>open()</code> que recibirá los siguientes parámetros: El nombre del archivo csv y, el modo de apertura del archivo que por lo general, utilizaremos los siguientes:\n",
    "\n",
    "* **r**: Lectura (*read*), abre un archivo para su lectura, devuelve un error si no existe.\n",
    "* **w**: Escritura (*write*), se utiliza cuando vamos a escribir un archivo.\n",
    "\n",
    "Además también se puede especificar el tipo de archivo que se va a procesar:\n",
    "\n",
    "* **t**: Texto.\n",
    "* **b**: Binario, por ejemplo imágenes.\n",
    "\n",
    "\n",
    "Más información sobre la función **open** https://www.w3schools.com/python/ref_func_open.asp"
   ]
  },
  {
   "cell_type": "code",
   "execution_count": null,
   "metadata": {},
   "outputs": [],
   "source": [
    "compras_file = open('compras.csv', mode='rt')"
   ]
  },
  {
   "cell_type": "markdown",
   "metadata": {},
   "source": [
    "Por si misma la asginación a compras_file, no contienen nada, simplemente el objeto de la librería csv, que indica que hemos realizado la apertura del archivo 'compras.csv'"
   ]
  },
  {
   "cell_type": "code",
   "execution_count": null,
   "metadata": {},
   "outputs": [],
   "source": [
    "compras_file"
   ]
  },
  {
   "cell_type": "markdown",
   "metadata": {},
   "source": [
    "Para comenzar a leer el archivo, tenemos que crear el objeto *reader*, para ello utilizamos la funcíon <code>csv.reader</code>"
   ]
  },
  {
   "cell_type": "code",
   "execution_count": null,
   "metadata": {},
   "outputs": [],
   "source": [
    "reader_compras = csv.reader(compras_file)"
   ]
  },
  {
   "cell_type": "markdown",
   "metadata": {},
   "source": [
    "De nuevo, aún no tenemos nada, simplemente el objeto lector sobre el csv compras"
   ]
  },
  {
   "cell_type": "code",
   "execution_count": null,
   "metadata": {},
   "outputs": [],
   "source": [
    "reader_compras"
   ]
  },
  {
   "cell_type": "markdown",
   "metadata": {},
   "source": [
    "Para ver el contenido interior del mismo, tendríamos o bien recorrer línea a línea el archivo o, utilizar una lista para guardar todo el archivo."
   ]
  },
  {
   "cell_type": "code",
   "execution_count": null,
   "metadata": {},
   "outputs": [],
   "source": [
    "clean_compras = list(reader_compras)\n",
    "\n",
    "clean_compras"
   ]
  },
  {
   "cell_type": "code",
   "execution_count": null,
   "metadata": {},
   "outputs": [],
   "source": [
    "reader_compras = csv.reader(compras_file)\n",
    "\n",
    "archivo_compras = []\n",
    "\n",
    "for linea in reader_compras:\n",
    "    print('Línea del archivo: ', linea)\n",
    "    archivo_compras.append(linea)"
   ]
  },
  {
   "cell_type": "code",
   "execution_count": null,
   "metadata": {},
   "outputs": [],
   "source": [
    "archivo_compras"
   ]
  },
  {
   "cell_type": "markdown",
   "metadata": {},
   "source": [
    "Como podemos comprobar hay algunos fallos de escritura como 'BolÃ\\xadgrafo Bic', para solventar estos problemas tenemos que utilizar una codificación específica del archivo, para esta tarea, utilizamos el parámetro `encoding`, lo más habitual es utilizar la codificación **utf-8**"
   ]
  },
  {
   "cell_type": "code",
   "execution_count": null,
   "metadata": {},
   "outputs": [],
   "source": [
    "# Modificamos la codificación\n",
    "compras_file = open('compras.csv', mode='rt', encoding='utf-8')\n",
    "\n",
    "reader_compras = csv.reader(compras_file)\n",
    "clean_compras = list(reader_compras)\n",
    "clean_compras"
   ]
  },
  {
   "cell_type": "markdown",
   "metadata": {},
   "source": [
    "## Escritura de un csv"
   ]
  },
  {
   "cell_type": "markdown",
   "metadata": {},
   "source": [
    "Agreagaremos unas cuántas líneas más al .csv, todo compras del mismo día"
   ]
  },
  {
   "cell_type": "code",
   "execution_count": null,
   "metadata": {},
   "outputs": [],
   "source": [
    "clean_compras.append(['24/03/2020', 'Nueva compra 1', '1', '1', '1'])\n",
    "clean_compras.append(['24/03/2020', 'Nueva compra 2', '2', '1.25', '2.5'])\n",
    "clean_compras.append(['24/03/2020', 'Nueva compra 3', '1', '2', '2'])"
   ]
  },
  {
   "cell_type": "code",
   "execution_count": null,
   "metadata": {},
   "outputs": [],
   "source": [
    "clean_compras"
   ]
  },
  {
   "cell_type": "markdown",
   "metadata": {},
   "source": [
    "Del mismo modo a como hemos abierto el archivo con `csv.reader`, escribiremos el archivo con `csv.writer`"
   ]
  },
  {
   "cell_type": "code",
   "execution_count": null,
   "metadata": {},
   "outputs": [],
   "source": [
    "file = open('compras_actualizadas.csv', 'wt', newline='')\n",
    "writer = csv.writer(file)\n",
    "writer.writerows(clean_compras)\n",
    "file.close()"
   ]
  },
  {
   "cell_type": "markdown",
   "metadata": {},
   "source": [
    "Es importante que al terminar de procesar el archivo, lo creemos con la función `close()`"
   ]
  },
  {
   "cell_type": "markdown",
   "metadata": {},
   "source": [
    "### Pregunta \n",
    "\n",
    "¿Qué ocurre si ponemos otros valores o directamente quitamos el parámetro `newline` de la función open ?\n",
    "\n",
    "NOTA: Crea más archivos y comprueba la diferencia."
   ]
  },
  {
   "cell_type": "markdown",
   "metadata": {},
   "source": [
    "# JSON <a name = \"json\"></a>\n",
    "\n",
    "## Lectura de un archivo json\n",
    "\n",
    "importamos la librería json"
   ]
  },
  {
   "cell_type": "code",
   "execution_count": null,
   "metadata": {},
   "outputs": [],
   "source": [
    "import json"
   ]
  },
  {
   "cell_type": "markdown",
   "metadata": {},
   "source": [
    "Utilizaremos el mismo procedimiento que con los archivos csv, se utiliza la función `open`, para los archivos json, vamos a distinguir dos funciones principales para poder procesarlos, una es `json.load` y `json.loads`\n",
    "\n",
    "La principal diferencia entre ambas funciones es que `json.load`se encarga de procesar un archivo json que esté correctamente formateado como tal y tenga una estructura definida. Por su parte, `json.loads` se utiliza para cargar un json como un string, es decir, que no ha sido correctamente formateado, cuando estemos utilizando `json.loads` vamos a procesar el archivo **línea a línea**"
   ]
  },
  {
   "cell_type": "code",
   "execution_count": null,
   "metadata": {},
   "outputs": [],
   "source": [
    "with open('mercados.json', 'r') as f:\n",
    "    mercados = json.load(f)"
   ]
  },
  {
   "cell_type": "code",
   "execution_count": null,
   "metadata": {},
   "outputs": [],
   "source": [
    "mercados"
   ]
  },
  {
   "cell_type": "markdown",
   "metadata": {},
   "source": [
    "Una vez que cargamos el archivo con `json.load` vemos que es exactamente igual que un diccionario de datos y, podemos emplear las funciones que ya conocemos como keys o values"
   ]
  },
  {
   "cell_type": "code",
   "execution_count": null,
   "metadata": {},
   "outputs": [],
   "source": [
    "mercados.keys()"
   ]
  },
  {
   "cell_type": "code",
   "execution_count": null,
   "metadata": {},
   "outputs": [],
   "source": [
    "mercados['IBEX_MEDIUM_CAP']"
   ]
  },
  {
   "cell_type": "code",
   "execution_count": null,
   "metadata": {},
   "outputs": [],
   "source": [
    "for company in mercados['IBEX_MEDIUM_CAP']:\n",
    "    print(company)"
   ]
  },
  {
   "cell_type": "code",
   "execution_count": null,
   "metadata": {},
   "outputs": [],
   "source": [
    "for company in mercados['IBEX_MEDIUM_CAP']:\n",
    "    for value in company.keys():\n",
    "        print(company[value])"
   ]
  },
  {
   "cell_type": "markdown",
   "metadata": {},
   "source": [
    "Cuando el json no tiene formato... `json.loads`"
   ]
  },
  {
   "cell_type": "code",
   "execution_count": null,
   "metadata": {},
   "outputs": [],
   "source": [
    "with open('tweets.txt', 'r') as f:\n",
    "    tweets = json.load(f)"
   ]
  },
  {
   "cell_type": "markdown",
   "metadata": {},
   "source": [
    "Al no tener formato, da error, ya que se trta de una composición de varios json el archivo."
   ]
  },
  {
   "cell_type": "code",
   "execution_count": null,
   "metadata": {},
   "outputs": [],
   "source": [
    "with open('tweets.txt', 'r') as f:\n",
    "    tweets = json.loads(f)"
   ]
  },
  {
   "cell_type": "markdown",
   "metadata": {},
   "source": [
    "Tampoco podemos procesar el archivo directamente con la función `json.loads` ya que nos especifica que debe recibir una única cadena de texto, el archivo, son varias cadenas de texto.\n",
    "\n",
    "Por lo tanto, tenemos que procesar el archivo **línea a línea**"
   ]
  },
  {
   "cell_type": "code",
   "execution_count": null,
   "metadata": {},
   "outputs": [],
   "source": [
    "# Guardamos el json en una lista\n",
    "lista_tweets = []\n",
    "\n",
    "with open('tweets.txt', 'r') as f:\n",
    "    # Recorremos línea a línea \n",
    "    for linea in f:\n",
    "        tweets = json.loads(linea)\n",
    "        lista_tweets.append(tweets)"
   ]
  },
  {
   "cell_type": "code",
   "execution_count": null,
   "metadata": {},
   "outputs": [],
   "source": [
    "lista_tweets"
   ]
  },
  {
   "cell_type": "code",
   "execution_count": null,
   "metadata": {},
   "outputs": [],
   "source": [
    "lista_tweets[0]"
   ]
  },
  {
   "cell_type": "code",
   "execution_count": null,
   "metadata": {},
   "outputs": [],
   "source": [
    "lista_tweets[0].keys()"
   ]
  },
  {
   "cell_type": "code",
   "execution_count": null,
   "metadata": {},
   "outputs": [],
   "source": [
    "lista_tweets[15].keys()"
   ]
  },
  {
   "cell_type": "code",
   "execution_count": null,
   "metadata": {},
   "outputs": [],
   "source": [
    "lista_tweets[15]['text']"
   ]
  },
  {
   "cell_type": "markdown",
   "metadata": {},
   "source": [
    "## Escritura de un json\n",
    "\n",
    "Agregamos nuevos campos."
   ]
  },
  {
   "cell_type": "code",
   "execution_count": null,
   "metadata": {},
   "outputs": [],
   "source": [
    "new_market = [\n",
    "    {'New_Market_1': [1, 2, 3, 4, 5]},\n",
    "    {'New_Market_2': [5, 4, 3, 2, 1]}\n",
    "]"
   ]
  },
  {
   "cell_type": "code",
   "execution_count": null,
   "metadata": {},
   "outputs": [],
   "source": [
    "mercados.update({'NEW_MARKET' : new_market})"
   ]
  },
  {
   "cell_type": "code",
   "execution_count": null,
   "metadata": {},
   "outputs": [],
   "source": [
    "mercados"
   ]
  },
  {
   "cell_type": "code",
   "execution_count": null,
   "metadata": {},
   "outputs": [],
   "source": [
    "with open('Mercados_update.json', 'w') as outfile:\n",
    "    json.dump(mercados, outfile)"
   ]
  },
  {
   "cell_type": "markdown",
   "metadata": {},
   "source": [
    "Podemos probar a dar un mejor aspecto al json mediante el parámetro `indent`. Más información sobre este parámetro: https://pynative.com/python-prettyprint-json-data/#:~:text=pynative.com%22%20%7D-,After%20writing%20Pretty%2DPrinted%20JSON%20data%20into%20a%20file,indent%3D4%20and%20sorting%20keys.&text=Remember%3A,uses%20four%20spaces%20for%20indentation."
   ]
  },
  {
   "cell_type": "code",
   "execution_count": null,
   "metadata": {},
   "outputs": [],
   "source": [
    "with open('Mercados_update_ok.json', 'w') as outfile:\n",
    "    json.dump(mercados, outfile, indent=4)"
   ]
  },
  {
   "cell_type": "markdown",
   "metadata": {},
   "source": [
    "# XML <a name = \"xml\"></a>\n",
    "\n",
    "## Lectura de un archivo xml\n",
    "\n",
    "1. ¿Qué es XML?\n",
    "XML (eXtensible Markup Language) es un lenguaje de marcado que define reglas para la codificación de documentos de manera legible tanto para humanos como para máquinas.\n",
    "\n",
    "2. Estructura básica de un archivo XML:\n",
    "Un archivo XML consta de elementos que se encuentran entre etiquetas (definidos por símbolos de mayor y menor < >). Cada elemento puede contener atributos y texto.\n",
    "\n",
    "```xml\n",
    "<libro>\n",
    "    <titulo>Python para principiantes</titulo>\n",
    "    <autor>John Doe</autor>\n",
    "    <publicacion>2023</publicacion>\n",
    "</libro>\n",
    "``` \n",
    "\n",
    "Vamos a emplear la librería __xml.etree.ElementTree__"
   ]
  },
  {
   "cell_type": "code",
   "execution_count": null,
   "metadata": {},
   "outputs": [],
   "source": [
    "import xml.etree.ElementTree as ET"
   ]
  },
  {
   "cell_type": "markdown",
   "metadata": {},
   "source": [
    "Lo primero de todo parseamos el archivo xml con la función `parse`, este procedimiento es similar a utilizar la función `open`"
   ]
  },
  {
   "cell_type": "code",
   "execution_count": null,
   "metadata": {},
   "outputs": [],
   "source": [
    "# Parsear el archivo XML\n",
    "tree = ET.parse('archivo.xml')\n",
    "tree"
   ]
  },
  {
   "cell_type": "markdown",
   "metadata": {},
   "source": [
    "En los archivos XML encontraremos un Elemento Principal (nodo _root_ o nodo padre del archivo). Para poder extraerlo, empleamos la función `root()`"
   ]
  },
  {
   "cell_type": "code",
   "execution_count": null,
   "metadata": {},
   "outputs": [],
   "source": [
    "root = tree.getroot()\n",
    "root"
   ]
  },
  {
   "cell_type": "markdown",
   "metadata": {},
   "source": [
    "Ahora, ya hemos accedido al elemento principal, viendo su estructura, ahora debemos adentrarnos en los nodos hijo (_child nodes_). Esto lo vamos a hacer desde la función __findall__"
   ]
  },
  {
   "cell_type": "code",
   "execution_count": null,
   "metadata": {},
   "outputs": [],
   "source": [
    "root.findall('libro')"
   ]
  },
  {
   "cell_type": "markdown",
   "metadata": {},
   "source": [
    "Como vemos, nos ha devuelto dos libros, vamos a entrar por el primero de ellos en la posición [0]"
   ]
  },
  {
   "cell_type": "code",
   "execution_count": null,
   "metadata": {},
   "outputs": [],
   "source": [
    "book_first = root.findall('libro')[0]\n",
    "book_first"
   ]
  },
  {
   "cell_type": "markdown",
   "metadata": {},
   "source": [
    "Si observamos nuestro archivo tenemos los siguientes elementos:\n",
    "* Título\n",
    "* autor\n",
    "* publicación\n",
    "\n",
    "Podríamos de nuevo acceder a través de `findall()` (esto se recomienda iterando con bucles) o, simplemente, desde la función `find()`"
   ]
  },
  {
   "cell_type": "code",
   "execution_count": null,
   "metadata": {},
   "outputs": [],
   "source": [
    "title = book_first.find(\"titulo\")\n",
    "title"
   ]
  },
  {
   "cell_type": "markdown",
   "metadata": {},
   "source": [
    "¿Cómo puedo obtener el título del libro \"Python para principiantes\"? Es importante mencionar que todos los sub-nodos que contienen contenido podemos acceder al mismo a través del atributo `text`"
   ]
  },
  {
   "cell_type": "code",
   "execution_count": null,
   "metadata": {},
   "outputs": [],
   "source": [
    "title.text"
   ]
  },
  {
   "cell_type": "markdown",
   "metadata": {},
   "source": [
    "Si ahora, por cada elemento de los libros generamos una lista..."
   ]
  },
  {
   "cell_type": "code",
   "execution_count": null,
   "metadata": {},
   "outputs": [],
   "source": [
    "for libro in root.findall('libro'):\n",
    "    titulo = libro.find('titulo').text\n",
    "    autor = libro.find('autor').text\n",
    "    publicacion = libro.find('publicacion').text\n",
    "\n",
    "    print(f'Título: {titulo}, Autor: {autor}, Publicación: {publicacion}')"
   ]
  },
  {
   "cell_type": "markdown",
   "metadata": {},
   "source": [
    "Al igual que en el resto de archivos, también es posible escribir un nuevo archivo XML, se recomienda echar un vistazo al siguiente código de ejemplo."
   ]
  },
  {
   "cell_type": "code",
   "execution_count": null,
   "metadata": {},
   "outputs": [],
   "source": [
    "import xml.etree.ElementTree as ET\n",
    "\n",
    "# Crear el elemento raíz\n",
    "root = ET.Element('biblioteca')\n",
    "\n",
    "# Crear elementos hijos\n",
    "libro  = ET.SubElement(root, 'libro')\n",
    "\n",
    "# IMPORTANTE, estos sub-elementos se toman desde el elemento\n",
    "#  libro\n",
    "titulo = ET.SubElement(libro, 'titulo')\n",
    "titulo.text = 'Python para principiantes'\n",
    "autor = ET.SubElement(libro, 'autor')\n",
    "autor.text = 'John Doe'\n",
    "publicacion = ET.SubElement(libro, 'publicacion')\n",
    "publicacion.text = '2023'\n",
    "\n",
    "# Crear el árbol y escribirlo en un archivo\n",
    "tree = ET.ElementTree(root)\n",
    "tree.write('nuevo_archivo.xml')"
   ]
  }
 ],
 "metadata": {
  "kernelspec": {
   "display_name": "Python 3 (ipykernel)",
   "language": "python",
   "name": "python3"
  },
  "language_info": {
   "codemirror_mode": {
    "name": "ipython",
    "version": 3
   },
   "file_extension": ".py",
   "mimetype": "text/x-python",
   "name": "python",
   "nbconvert_exporter": "python",
   "pygments_lexer": "ipython3",
   "version": "3.10.9"
  }
 },
 "nbformat": 4,
 "nbformat_minor": 2
}
