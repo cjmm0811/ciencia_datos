{
 "cells": [
  {
   "cell_type": "markdown",
   "metadata": {},
   "source": [
    "# Funciones\n",
    "\n",
    "<img src = https://teachen.info/cspp/_images/funcheader.svg />\n",
    "\n",
    "1. [Funciones sin parámetros](#noparameters)\n",
    "2. [Funciones con parámetros de entrada](#parametros)\n",
    "3. [Funciones con parámetros de entrada/salida](#paramio)\n",
    "    + 3.1 [Ejercicio 1](#ej1)\n",
    "    + 3.1 [Ejercicio 2](#ej2)\n",
    "4. [Bloque Main](#main)"
   ]
  },
  {
   "cell_type": "markdown",
   "metadata": {},
   "source": [
    "# ¿Para qué queremos funciones?\n"
   ]
  },
  {
   "cell_type": "code",
   "execution_count": 1,
   "metadata": {},
   "outputs": [],
   "source": [
    "lista = [100, 200, 300, 40, 50, 60, 70, 99, 192]"
   ]
  },
  {
   "cell_type": "code",
   "execution_count": 2,
   "metadata": {},
   "outputs": [
    {
     "name": "stdout",
     "output_type": "stream",
     "text": [
      "La media de la lista 1 es  123.44\n"
     ]
    }
   ],
   "source": [
    "suma = 0\n",
    "\n",
    "for item in lista:\n",
    "    suma+= item\n",
    "    \n",
    "media = round(suma/len(lista),2)\n",
    "\n",
    "print(\"La media de la lista 1 es \", media)"
   ]
  },
  {
   "cell_type": "code",
   "execution_count": 3,
   "metadata": {},
   "outputs": [
    {
     "name": "stdout",
     "output_type": "stream",
     "text": [
      "La media de la lista 1 es  491.2\n"
     ]
    }
   ],
   "source": [
    "## Llega otra lista\n",
    "lista_dos = [10, 270, 300, 400, 58, 60, 70, 99, 192, 3453]\n",
    "\n",
    "suma = 0\n",
    "\n",
    "for item in lista_dos:\n",
    "    suma+= item\n",
    "    \n",
    "media_dos = round(suma/len(lista_dos),2)\n",
    "\n",
    "print(\"La media de la lista 2 es \", media_dos)"
   ]
  },
  {
   "cell_type": "code",
   "execution_count": 4,
   "metadata": {},
   "outputs": [
    {
     "name": "stdout",
     "output_type": "stream",
     "text": [
      "La media de la lista 3 es  207.6\n"
     ]
    }
   ],
   "source": [
    "## Llega otra lista\n",
    "lista_tres = [10, 270, 300, 400, 58]\n",
    "\n",
    "suma = 0\n",
    "\n",
    "for item in lista_tres:\n",
    "    suma+= item\n",
    "    \n",
    "media_tres = round(suma/len(lista_tres),2)\n",
    "\n",
    "print(\"La media de la lista 3 es \", media_tres)"
   ]
  },
  {
   "cell_type": "code",
   "execution_count": 38,
   "metadata": {},
   "outputs": [],
   "source": [
    "def calcular_media(lista):\n",
    "    \n",
    "    # Inicializamos suma en 0\n",
    "    suma = 0\n",
    "    \n",
    "    for item in lista:\n",
    "        suma += item\n",
    "        \n",
    "    media = round(suma/len(lista),2)\n",
    "    \n",
    "    # Parámetros de SALIDA\n",
    "    return media"
   ]
  },
  {
   "cell_type": "code",
   "execution_count": 46,
   "metadata": {},
   "outputs": [
    {
     "name": "stdout",
     "output_type": "stream",
     "text": [
      "Media de la lista  491.2\n"
     ]
    }
   ],
   "source": [
    "media_lista = calcular_media(lista = lista_dos)\n",
    "\n",
    "print(\"Media de la lista \", media_lista)"
   ]
  },
  {
   "cell_type": "code",
   "execution_count": 47,
   "metadata": {},
   "outputs": [
    {
     "name": "stdout",
     "output_type": "stream",
     "text": [
      "Media de la lista  491.2\n"
     ]
    }
   ],
   "source": [
    "media_lista = calcular_media(lista_dos)\n",
    "\n",
    "print(\"Media de la lista \", media_lista)"
   ]
  },
  {
   "cell_type": "code",
   "execution_count": null,
   "metadata": {},
   "outputs": [],
   "source": []
  },
  {
   "cell_type": "markdown",
   "metadata": {},
   "source": [
    "## Funciones sin parámetros <a name = \"noparameters\"></a>"
   ]
  },
  {
   "cell_type": "code",
   "execution_count": 48,
   "metadata": {},
   "outputs": [],
   "source": [
    "def saludar():\n",
    "    print('Hola !')"
   ]
  },
  {
   "cell_type": "code",
   "execution_count": 49,
   "metadata": {},
   "outputs": [
    {
     "name": "stdout",
     "output_type": "stream",
     "text": [
      "Hola !\n"
     ]
    }
   ],
   "source": [
    "saludar()"
   ]
  },
  {
   "cell_type": "markdown",
   "metadata": {},
   "source": [
    "## Funciones con parámetros de entrada <a name = \"parametros\"></a>\n",
    "\n",
    "Con un parámetro de entrada"
   ]
  },
  {
   "cell_type": "code",
   "execution_count": 50,
   "metadata": {},
   "outputs": [],
   "source": [
    "def saluda_nombre(nombre):\n",
    "    print('Hola', nombre, '!')"
   ]
  },
  {
   "cell_type": "code",
   "execution_count": 51,
   "metadata": {},
   "outputs": [
    {
     "name": "stdout",
     "output_type": "stream",
     "text": [
      "Hola Juan !\n"
     ]
    }
   ],
   "source": [
    "saluda_nombre(nombre='Juan')"
   ]
  },
  {
   "cell_type": "code",
   "execution_count": 52,
   "metadata": {},
   "outputs": [
    {
     "name": "stdout",
     "output_type": "stream",
     "text": [
      "Hola Jose !\n"
     ]
    }
   ],
   "source": [
    "saluda_nombre('Jose')"
   ]
  },
  {
   "cell_type": "code",
   "execution_count": 54,
   "metadata": {},
   "outputs": [
    {
     "name": "stdout",
     "output_type": "stream",
     "text": [
      "Hola David !\n"
     ]
    }
   ],
   "source": [
    "saluda_nombre('David')"
   ]
  },
  {
   "cell_type": "markdown",
   "metadata": {},
   "source": [
    "Más de un parámetro de entrada."
   ]
  },
  {
   "cell_type": "code",
   "execution_count": 55,
   "metadata": {},
   "outputs": [],
   "source": [
    "def aplica_iva(nombre_artículo, precio):\n",
    "    print('El precio total de', nombre_artículo, 'es: ', round(precio + (precio*0.21),2))"
   ]
  },
  {
   "cell_type": "code",
   "execution_count": 56,
   "metadata": {},
   "outputs": [
    {
     "name": "stdout",
     "output_type": "stream",
     "text": [
      "El precio total de NVIDIA GeForce RTX 3080 es:  1476.2\n"
     ]
    }
   ],
   "source": [
    "aplica_iva(nombre_artículo='NVIDIA GeForce RTX 3080', precio=1220)"
   ]
  },
  {
   "cell_type": "code",
   "execution_count": 57,
   "metadata": {},
   "outputs": [
    {
     "name": "stdout",
     "output_type": "stream",
     "text": [
      "El precio total de NVIDIA GeForce RTX 3080 es:  1815.0\n"
     ]
    }
   ],
   "source": [
    "aplica_iva('NVIDIA GeForce RTX 3080', 1500)"
   ]
  },
  {
   "cell_type": "code",
   "execution_count": 60,
   "metadata": {},
   "outputs": [
    {
     "ename": "TypeError",
     "evalue": "can't multiply sequence by non-int of type 'float'",
     "output_type": "error",
     "traceback": [
      "\u001b[1;31m---------------------------------------------------------------------------\u001b[0m",
      "\u001b[1;31mTypeError\u001b[0m                                 Traceback (most recent call last)",
      "Cell \u001b[1;32mIn[60], line 3\u001b[0m\n\u001b[0;32m      1\u001b[0m \u001b[38;5;66;03m# def aplica_iva(nombre_artículo, precio):\u001b[39;00m\n\u001b[1;32m----> 3\u001b[0m \u001b[43maplica_iva\u001b[49m\u001b[43m(\u001b[49m\u001b[38;5;241;43m1500\u001b[39;49m\u001b[43m,\u001b[49m\u001b[43m \u001b[49m\u001b[38;5;124;43m'\u001b[39;49m\u001b[38;5;124;43mNVIDIA GeForce RTX 3080\u001b[39;49m\u001b[38;5;124;43m'\u001b[39;49m\u001b[43m)\u001b[49m\n",
      "Cell \u001b[1;32mIn[55], line 2\u001b[0m, in \u001b[0;36maplica_iva\u001b[1;34m(nombre_artículo, precio)\u001b[0m\n\u001b[0;32m      1\u001b[0m \u001b[38;5;28;01mdef\u001b[39;00m \u001b[38;5;21maplica_iva\u001b[39m(nombre_artículo, precio):\n\u001b[1;32m----> 2\u001b[0m     \u001b[38;5;28mprint\u001b[39m(\u001b[38;5;124m'\u001b[39m\u001b[38;5;124mEl precio total de\u001b[39m\u001b[38;5;124m'\u001b[39m, nombre_artículo, \u001b[38;5;124m'\u001b[39m\u001b[38;5;124mes: \u001b[39m\u001b[38;5;124m'\u001b[39m, \u001b[38;5;28mround\u001b[39m(precio \u001b[38;5;241m+\u001b[39m (\u001b[43mprecio\u001b[49m\u001b[38;5;241;43m*\u001b[39;49m\u001b[38;5;241;43m0.21\u001b[39;49m),\u001b[38;5;241m2\u001b[39m))\n",
      "\u001b[1;31mTypeError\u001b[0m: can't multiply sequence by non-int of type 'float'"
     ]
    }
   ],
   "source": [
    "# def aplica_iva(nombre_artículo, precio):\n",
    "\n",
    "aplica_iva(1500, 'NVIDIA GeForce RTX 3080')"
   ]
  },
  {
   "cell_type": "code",
   "execution_count": 61,
   "metadata": {},
   "outputs": [
    {
     "name": "stdout",
     "output_type": "stream",
     "text": [
      "El precio total de NVIDIA GeForce RTX 3080 es:  1815.0\n"
     ]
    }
   ],
   "source": [
    "# Si asignamos los nombres de los parámetros\n",
    "#  pese a que estemos llamándolos en otro orden\n",
    "aplica_iva(precio = 1500, nombre_artículo = 'NVIDIA GeForce RTX 3080')"
   ]
  },
  {
   "cell_type": "markdown",
   "metadata": {},
   "source": [
    "## Funciones con parámetros de entrada/salida <a name = \"paramio\"></a>\n",
    "\n",
    "Un único parámetro de salida. Para devolver cualquier parámetro de salida debemos emplear la palabra reservada __return__ si deseamos devolver más de un parámetro de salida, podemos separarlos por comas."
   ]
  },
  {
   "cell_type": "code",
   "execution_count": 62,
   "metadata": {},
   "outputs": [],
   "source": [
    "def obten_precio_total(precio):\n",
    "    precio_final = round(precio + (precio * 0.21), 2)\n",
    "    \n",
    "    return precio_final"
   ]
  },
  {
   "cell_type": "code",
   "execution_count": 63,
   "metadata": {},
   "outputs": [],
   "source": [
    "precio_total = obten_precio_total(precio=2000)"
   ]
  },
  {
   "cell_type": "code",
   "execution_count": 65,
   "metadata": {},
   "outputs": [
    {
     "name": "stdout",
     "output_type": "stream",
     "text": [
      "El precio final del artículo es:  2420.0 euros\n"
     ]
    }
   ],
   "source": [
    "print('El precio final del artículo es: ', precio_total, 'euros')"
   ]
  },
  {
   "cell_type": "markdown",
   "metadata": {},
   "source": [
    "Más de un parámetro de salida"
   ]
  },
  {
   "cell_type": "code",
   "execution_count": 67,
   "metadata": {},
   "outputs": [],
   "source": [
    "# Dada una secuencia de números.\n",
    "# Almacenar todos los números pares en una lista.\n",
    "# Todos los números impares en otra lista\n",
    "# Devolver ambas listas\n",
    "\n",
    "def pares_impares(numbers):\n",
    "    \n",
    "    # Inicializamos lista pares e impares\n",
    "    pares   = []\n",
    "    impares = []\n",
    "    \n",
    "    for item in numbers:\n",
    "        if item % 2 == 0:\n",
    "            # Es par\n",
    "            pares.append(item)\n",
    "        else:\n",
    "            # Es impar\n",
    "            impares.append(item)\n",
    "            \n",
    "    return pares, impares"
   ]
  },
  {
   "cell_type": "code",
   "execution_count": 71,
   "metadata": {},
   "outputs": [],
   "source": [
    "tupla_números = (1, 8, 23, 0, 199, 457, 398, 5, 9, 150, 780, 7592)\n",
    "\n",
    "lista_pares, lista_impares = pares_impares(numbers=tupla_números)"
   ]
  },
  {
   "cell_type": "code",
   "execution_count": 72,
   "metadata": {},
   "outputs": [
    {
     "name": "stdout",
     "output_type": "stream",
     "text": [
      "Todos los números pares de la secuencia son: [8, 0, 398, 150, 780, 7592]\n",
      "Todos los números impares de la secuencia son: [1, 23, 199, 457, 5, 9]\n"
     ]
    }
   ],
   "source": [
    "print('Todos los números pares de la secuencia son:', lista_pares)\n",
    "print('Todos los números impares de la secuencia son:', lista_impares)"
   ]
  },
  {
   "cell_type": "code",
   "execution_count": 70,
   "metadata": {},
   "outputs": [
    {
     "name": "stdout",
     "output_type": "stream",
     "text": [
      "Todos los números pares de la secuencia son: [1, 23, 199, 457, 5, 9]\n",
      "Todos los números impares de la secuencia son: [8, 0, 398, 150, 780, 7592]\n"
     ]
    }
   ],
   "source": [
    "# tupla_números = (1, 8, 23, 0, 199, 457, 398, 5, 9, 150, 780, 7592)\n",
    "\n",
    "# lista_impares, lista_pares = pares_impares(numbers=tupla_números)\n",
    "\n",
    "# print('Todos los números pares de la secuencia son:', lista_pares)\n",
    "# print('Todos los números impares de la secuencia son:', lista_impares)"
   ]
  },
  {
   "cell_type": "code",
   "execution_count": 74,
   "metadata": {},
   "outputs": [],
   "source": [
    "# return pares, impares\n",
    "# Solo declaro una variable\n",
    "numeros = pares_impares(numbers=tupla_números)"
   ]
  },
  {
   "cell_type": "code",
   "execution_count": 75,
   "metadata": {},
   "outputs": [
    {
     "data": {
      "text/plain": [
       "([8, 0, 398, 150, 780, 7592], [1, 23, 199, 457, 5, 9])"
      ]
     },
     "execution_count": 75,
     "metadata": {},
     "output_type": "execute_result"
    }
   ],
   "source": [
    "numeros"
   ]
  },
  {
   "cell_type": "markdown",
   "metadata": {},
   "source": [
    "Si solamente queremos acceder a un parámetro de salida, por ejemplo a la lista de impares."
   ]
  },
  {
   "cell_type": "code",
   "execution_count": 76,
   "metadata": {},
   "outputs": [
    {
     "data": {
      "text/plain": [
       "[1, 23, 199, 457, 5, 9]"
      ]
     },
     "execution_count": 76,
     "metadata": {},
     "output_type": "execute_result"
    }
   ],
   "source": [
    "lista_impares = pares_impares(numbers=tupla_números)[1]\n",
    "lista_impares"
   ]
  },
  {
   "cell_type": "markdown",
   "metadata": {},
   "source": [
    "Solo la lista de pares"
   ]
  },
  {
   "cell_type": "code",
   "execution_count": 77,
   "metadata": {},
   "outputs": [
    {
     "data": {
      "text/plain": [
       "[8, 0, 398, 150, 780, 7592]"
      ]
     },
     "execution_count": 77,
     "metadata": {},
     "output_type": "execute_result"
    }
   ],
   "source": [
    "lista_pares = pares_impares(numbers=tupla_números)[0]\n",
    "lista_pares"
   ]
  },
  {
   "cell_type": "markdown",
   "metadata": {},
   "source": [
    "Llamar a una función dentro de otra función."
   ]
  },
  {
   "cell_type": "code",
   "execution_count": 79,
   "metadata": {},
   "outputs": [],
   "source": [
    "def banner():\n",
    "    print('-'*20)\n",
    "    print('*'*20)\n",
    "    print('-'*20)"
   ]
  },
  {
   "cell_type": "code",
   "execution_count": 80,
   "metadata": {},
   "outputs": [],
   "source": [
    "def programa_principal():\n",
    "    banner()\n",
    "    print('Iniciando el programa... \\n')\n",
    "    banner()\n",
    "    print('Saliendo del programa') "
   ]
  },
  {
   "cell_type": "code",
   "execution_count": 81,
   "metadata": {},
   "outputs": [
    {
     "name": "stdout",
     "output_type": "stream",
     "text": [
      "--------------------\n",
      "********************\n",
      "--------------------\n",
      "Iniciando el programa... \n",
      "\n",
      "--------------------\n",
      "********************\n",
      "--------------------\n",
      "Saliendo del programa\n"
     ]
    }
   ],
   "source": [
    "programa_principal()"
   ]
  },
  {
   "cell_type": "markdown",
   "metadata": {},
   "source": [
    "## Ejercicio 1 <a name = \"ej1\"></a>\n",
    "\n",
    "Escribe una función que determine muestra la media de una tupla. \n",
    "\n",
    "#### Solución"
   ]
  },
  {
   "cell_type": "code",
   "execution_count": 82,
   "metadata": {},
   "outputs": [],
   "source": [
    "tupla = (1, 5, 8, 9, 100, 23, 6, 10, 30)"
   ]
  },
  {
   "cell_type": "code",
   "execution_count": 83,
   "metadata": {},
   "outputs": [],
   "source": [
    "def get_mean(tupla_entrada):\n",
    "    suma = 0\n",
    "    \n",
    "    for item in tupla_entrada:\n",
    "        suma += item\n",
    "    \n",
    "    media = suma/len(tupla_entrada)\n",
    "    \n",
    "    return media"
   ]
  },
  {
   "cell_type": "code",
   "execution_count": null,
   "metadata": {},
   "outputs": [],
   "source": [
    "def get_mean(tupla_entrada):\n",
    "    suma = 0\n",
    "    \n",
    "    for item in tupla_entrada:\n",
    "        suma += item\n",
    "    \n",
    "    return suma/len(tupla_entrada)"
   ]
  },
  {
   "cell_type": "code",
   "execution_count": 84,
   "metadata": {},
   "outputs": [
    {
     "data": {
      "text/plain": [
       "21.333333333333332"
      ]
     },
     "execution_count": 84,
     "metadata": {},
     "output_type": "execute_result"
    }
   ],
   "source": [
    "get_mean(tupla_entrada=tupla)"
   ]
  },
  {
   "cell_type": "markdown",
   "metadata": {},
   "source": [
    "También podemos guardar el resultado"
   ]
  },
  {
   "cell_type": "code",
   "execution_count": 85,
   "metadata": {},
   "outputs": [
    {
     "name": "stdout",
     "output_type": "stream",
     "text": [
      "La media es:  21.333333333333332\n"
     ]
    }
   ],
   "source": [
    "media = get_mean(tupla_entrada=tupla)\n",
    "print('La media es: ', media)"
   ]
  },
  {
   "cell_type": "markdown",
   "metadata": {},
   "source": [
    "### Ejercicio 2 <a name = \"ej2\"></a>\n",
    "\n",
    "Modifica el programa anterior para devolver más estadísticas como media, valor máximo, mínimo y la longitud de la tupla.\n",
    "\n",
    "#### Solución."
   ]
  },
  {
   "cell_type": "code",
   "execution_count": 86,
   "metadata": {},
   "outputs": [],
   "source": [
    "def tuple_stats(tupla_entrada):\n",
    "    suma = 0\n",
    "    \n",
    "    for item in tupla_entrada:\n",
    "        suma += item\n",
    "    \n",
    "    media = suma/len(tupla_entrada)\n",
    "    \n",
    "    valor_max = max(tupla_entrada)\n",
    "    valor_min = min(tupla_entrada)\n",
    "    longitud = len(tupla_entrada)\n",
    "    \n",
    "    return media, valor_max, valor_min, longitud"
   ]
  },
  {
   "cell_type": "code",
   "execution_count": 88,
   "metadata": {},
   "outputs": [
    {
     "name": "stdout",
     "output_type": "stream",
     "text": [
      "Media  21.333333333333332\n",
      "Max  100\n",
      "Minimo  1\n",
      "Longitud  9\n"
     ]
    }
   ],
   "source": [
    "tupla = (1, 5, 8, 9, 100, 23, 6, 10, 30)\n",
    "\n",
    "# media, valor_max, valor_min, longitud  = tuple_stats(tupla_entrada=tupla)\n",
    "media, maximo, minimo, longitud = tuple_stats(tupla_entrada=tupla)\n",
    "\n",
    "print('Media ', media)\n",
    "print('Max ', maximo)\n",
    "print('Minimo ', minimo)\n",
    "print('Longitud ', longitud)\n"
   ]
  },
  {
   "cell_type": "code",
   "execution_count": 89,
   "metadata": {},
   "outputs": [],
   "source": [
    "def tuple_stats(tupla_entrada):\n",
    "    suma = 0\n",
    "    \n",
    "    for item in tupla_entrada:\n",
    "        suma += item\n",
    "    \n",
    "    return suma/len(tupla_entrada), max(tupla_entrada), min(tupla_entrada), len(tupla_entrada)"
   ]
  },
  {
   "cell_type": "code",
   "execution_count": 90,
   "metadata": {},
   "outputs": [
    {
     "name": "stdout",
     "output_type": "stream",
     "text": [
      "Media  21.333333333333332\n",
      "Max  100\n",
      "Minimo  1\n",
      "Longitud  9\n"
     ]
    }
   ],
   "source": [
    "media, maximo, minimo, longitud = tuple_stats(tupla_entrada=tupla)\n",
    "\n",
    "print('Media ', media)\n",
    "print('Max ', maximo)\n",
    "print('Minimo ', minimo)\n",
    "print('Longitud ', longitud)"
   ]
  },
  {
   "cell_type": "markdown",
   "metadata": {},
   "source": [
    "## Bloque Main <a name = \"main\"></a>"
   ]
  },
  {
   "cell_type": "markdown",
   "metadata": {},
   "source": [
    "Realizaremos un programa en el que el usuario vaya introduciendo frases hasta que teclee 'basta', estas frases las almacenaremos en una lista, posteriormente, iremos almacenando en una nueva lista todas las frases que contengan la letra 'a', finalmente desde el cuerpo principal del programa mostraremos estas frases por pantalla.\n",
    "\n",
    "PD: En estas funciones iremos introduciendo comentarios de varias líneas para documentar correctamente las funciones e incluir ayuda.\n",
    "\n",
    "1. Obtenemos todas las frases"
   ]
  },
  {
   "cell_type": "code",
   "execution_count": 91,
   "metadata": {},
   "outputs": [],
   "source": [
    "def get_phrases():\n",
    "    \"\"\"\n",
    "    Función que solicita frases al usuario hasta que \n",
    "    el usuario teclea 'basta'\n",
    "    \n",
    "    input: None\n",
    "    output: list[]\n",
    "    \"\"\"\n",
    "    # Lista vacía para almacenar frases\n",
    "    frases = []\n",
    "    \n",
    "    respuesta = input()\n",
    "    \n",
    "    while respuesta != 'basta':\n",
    "        frases.append(respuesta)\n",
    "        \n",
    "        respuesta = input()\n",
    "        \n",
    "    return frases      "
   ]
  },
  {
   "cell_type": "markdown",
   "metadata": {},
   "source": [
    "2. Filtraremos por todas las frases que contengan la letra 'a'"
   ]
  },
  {
   "cell_type": "code",
   "execution_count": 92,
   "metadata": {},
   "outputs": [],
   "source": [
    "def filter_phrases(lista_frases):\n",
    "    \"\"\"\n",
    "    Función que recibe una lista con frases y las \n",
    "    va filtrando iterativamente, quedándose solamente con\n",
    "    aquellas frases que tienen la letra 'a'\n",
    "    \n",
    "    input: list\n",
    "    output: list\n",
    "    \"\"\"\n",
    "    \n",
    "    # Definimos una nueva lista para almacenar todas las frases con\n",
    "    # la letra a\n",
    "    frases_con_a = []\n",
    "    \n",
    "    for item in lista_frases:\n",
    "        if 'a' in item:\n",
    "            frases_con_a.append(item)\n",
    "        else:\n",
    "            # No hacemos nada\n",
    "            pass\n",
    "        \n",
    "    return frases_con_a"
   ]
  },
  {
   "cell_type": "markdown",
   "metadata": {},
   "source": [
    "3. Creamos una función que simplemente irá mostrando por pantalla cada frase de la lista filtrada anteriormente"
   ]
  },
  {
   "cell_type": "code",
   "execution_count": 93,
   "metadata": {},
   "outputs": [],
   "source": [
    "def show_filtered_phrases(frases_filtradas):\n",
    "    \"\"\"\n",
    "    Función que devuelve iterativamente todas las \n",
    "    frases filtradas.\n",
    "    \n",
    "    input: list\n",
    "    output: None\n",
    "    \"\"\"\n",
    "    \n",
    "    # Utilizamos un bucle for para mostrar todas las palabras\n",
    "    \n",
    "    for frase in range(len(frases_filtradas)):\n",
    "        print('Frase en posición {} --> {} '.format(frase, frases_filtradas[frase]))\n",
    "        \n",
    "    # Como se puede comprobar aquí estamos utilizando format\n",
    "    # para imprimir, lo que hacemos es mostrar más ordenado\n",
    "    # lo que esté entre corchetes.\n",
    "    \n",
    "    # No return"
   ]
  },
  {
   "cell_type": "markdown",
   "metadata": {},
   "source": [
    "4. Definimos el bloque main"
   ]
  },
  {
   "cell_type": "code",
   "execution_count": 94,
   "metadata": {},
   "outputs": [
    {
     "name": "stdout",
     "output_type": "stream",
     "text": [
      "hola esto es un ejemplo de frase\n",
      "más frases\n",
      "hola hola \n",
      "este no se imprime\n",
      "basta\n",
      "Frase en posición 0 --> hola esto es un ejemplo de frase \n",
      "Frase en posición 1 --> más frases \n",
      "Frase en posición 2 --> hola hola  \n"
     ]
    }
   ],
   "source": [
    "if __name__ == '__main__':\n",
    "    todas_las_frases = get_phrases()\n",
    "    frases_clean = filter_phrases(lista_frases=todas_las_frases)\n",
    "    show_filtered_phrases(frases_filtradas=frases_clean)"
   ]
  },
  {
   "cell_type": "code",
   "execution_count": null,
   "metadata": {},
   "outputs": [],
   "source": []
  }
 ],
 "metadata": {
  "kernelspec": {
   "display_name": "Python 3 (ipykernel)",
   "language": "python",
   "name": "python3"
  },
  "language_info": {
   "codemirror_mode": {
    "name": "ipython",
    "version": 3
   },
   "file_extension": ".py",
   "mimetype": "text/x-python",
   "name": "python",
   "nbconvert_exporter": "python",
   "pygments_lexer": "ipython3",
   "version": "3.10.9"
  }
 },
 "nbformat": 4,
 "nbformat_minor": 2
}
