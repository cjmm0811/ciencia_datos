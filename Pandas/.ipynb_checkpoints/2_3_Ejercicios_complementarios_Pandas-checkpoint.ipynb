{
 "cells": [
  {
   "cell_type": "markdown",
   "id": "968678da",
   "metadata": {},
   "source": [
    "## Ejercicio 1\n",
    "\n",
    "Crea un DataFrame llamado df con las siguientes columnas: \"Nombre\", \"Edad\", \"Género\". Ingresa al menos 5 filas de datos.\n",
    "\n",
    "### Solución"
   ]
  },
  {
   "cell_type": "code",
   "execution_count": 1,
   "id": "c8c5843f",
   "metadata": {},
   "outputs": [
    {
     "name": "stdout",
     "output_type": "stream",
     "text": [
      "  Nombre  Edad Género\n",
      "0    Ana    25      F\n",
      "1   Juan    30      M\n",
      "2  María    22      F\n",
      "3   Luis    35      M\n",
      "4  Elena    28      F\n"
     ]
    }
   ],
   "source": [
    "import pandas as pd\n",
    "\n",
    "# Generamos un diccionario con listas de misma longitud\n",
    "data = {\n",
    "    'Nombre': ['Ana', 'Juan', 'María', 'Luis', 'Elena'],\n",
    "    'Edad'  : [25, 30, 22, 35, 28],\n",
    "    'Género': ['F', 'M', 'F', 'M', 'F']\n",
    "}\n",
    "\n",
    "df = pd.DataFrame(data)\n",
    "print(df)"
   ]
  },
  {
   "cell_type": "markdown",
   "id": "db4b6c84",
   "metadata": {},
   "source": [
    "## Ejercicio 2\n",
    "\n",
    "Del dataframe anterior, selecciona solamente aquellas filas que sean de una edad superior a 25 años.\n",
    "\n",
    "### Solución"
   ]
  },
  {
   "cell_type": "code",
   "execution_count": 2,
   "id": "d37d4f87",
   "metadata": {},
   "outputs": [
    {
     "name": "stdout",
     "output_type": "stream",
     "text": [
      "  Nombre  Edad Género\n",
      "1   Juan    30      M\n",
      "3   Luis    35      M\n",
      "4  Elena    28      F\n"
     ]
    }
   ],
   "source": [
    "# Filtramos el dataframe por columna edad\n",
    "df_selected = df[df['Edad'] > 25]\n",
    "\n",
    "print(df_selected)"
   ]
  },
  {
   "cell_type": "markdown",
   "id": "d1b2d743",
   "metadata": {},
   "source": [
    "## Ejercicio 3\n",
    "\n",
    "Crea una nueva columna llamada \"Grupo Edad\". Define grupos como \"Joven\" para edades menores o iguales a 30 y \"Adulto\" para edades mayores a 30\n",
    "\n",
    "### Solución"
   ]
  },
  {
   "cell_type": "code",
   "execution_count": 3,
   "id": "e8c7b66b",
   "metadata": {},
   "outputs": [
    {
     "name": "stdout",
     "output_type": "stream",
     "text": [
      "  Nombre  Edad Género Grupo Edad\n",
      "0    Ana    25      F      Joven\n",
      "1   Juan    30      M      Joven\n",
      "2  María    22      F      Joven\n",
      "3   Luis    35      M     Adulto\n",
      "4  Elena    28      F      Joven\n"
     ]
    }
   ],
   "source": [
    "# Forma 1, definiendo una función para actuar a nivel de fila\n",
    "\n",
    "def age_filter(row):\n",
    "    # Si la fila es <=30 devolver Joven, si no Adulto\n",
    "    if row <= 30:\n",
    "        return \"Joven\"\n",
    "    else:\n",
    "        return \"Adulto\"\n",
    "    \n",
    "df[\"Grupo Edad\"] = df.Edad.apply(age_filter)\n",
    "\n",
    "print(df)"
   ]
  },
  {
   "cell_type": "code",
   "execution_count": 4,
   "id": "fd197767",
   "metadata": {},
   "outputs": [
    {
     "name": "stdout",
     "output_type": "stream",
     "text": [
      "  Nombre  Edad Género Grupo Edad Grupo de Edad\n",
      "0    Ana    25      F      Joven         Joven\n",
      "1   Juan    30      M      Joven         Joven\n",
      "2  María    22      F      Joven         Joven\n",
      "3   Luis    35      M     Adulto        Adulto\n",
      "4  Elena    28      F      Joven         Joven\n"
     ]
    }
   ],
   "source": [
    "# Forma 2. Con pandas cut\n",
    "df['Grupo de Edad'] = pd.cut(\n",
    "    df['Edad'], \n",
    "    # De 0 a 30 y de 30 a infinito\n",
    "    bins=[0, 30, float('inf')], \n",
    "    # Posibles etiquetas a asignar\n",
    "    labels=['Joven', 'Adulto'])\n",
    "\n",
    "print(df)\n",
    "\n",
    "# Forma 3, investigar como filtrar a través de la función loc..."
   ]
  },
  {
   "cell_type": "markdown",
   "id": "63f650e9",
   "metadata": {},
   "source": [
    "## Ejercicio 4\n",
    "\n",
    "Extrae las medias de edad por sexo\n",
    "\n",
    "### Solución"
   ]
  },
  {
   "cell_type": "code",
   "execution_count": 5,
   "id": "27f89352",
   "metadata": {},
   "outputs": [
    {
     "name": "stdout",
     "output_type": "stream",
     "text": [
      "Género\n",
      "F    25.0\n",
      "M    32.5\n",
      "Name: Edad, dtype: float64\n"
     ]
    }
   ],
   "source": [
    "grouped_df = df.groupby('Género')['Edad'].mean()\n",
    "\n",
    "print(grouped_df)"
   ]
  },
  {
   "cell_type": "markdown",
   "id": "5b4e45eb",
   "metadata": {},
   "source": [
    "## Ejercicio 5\n",
    "\n",
    "Agrega un par de valores nulos en la columna \"Edad\" y luego elimina las filas que contienen datos faltantes\n",
    "\n",
    "### Solución"
   ]
  },
  {
   "cell_type": "code",
   "execution_count": 6,
   "id": "e37688e3",
   "metadata": {},
   "outputs": [
    {
     "name": "stdout",
     "output_type": "stream",
     "text": [
      "  Nombre  Edad Género Grupo Edad Grupo de Edad\n",
      "0    Ana  25.0      F      Joven         Joven\n",
      "1   Juan  30.0      M      Joven         Joven\n",
      "2  María  22.0      F      Joven         Joven\n"
     ]
    }
   ],
   "source": [
    "df.loc[3, 'Edad'] = pd.NA\n",
    "df.loc[4, 'Edad'] = pd.NA\n",
    "\n",
    "df = df.dropna()\n",
    "print(df)"
   ]
  },
  {
   "cell_type": "markdown",
   "id": "8ef2cfa9",
   "metadata": {},
   "source": [
    "## Ejercicio 6\n",
    "\n",
    "Toma los siguientes dataframes\n",
    "\n",
    "```python\n",
    "data1 = {'ID': [1, 2, 3], 'Nombre': ['Ana', 'Juan', 'María'], 'Edad': [25, 30, 22]}\n",
    "data2 = {'ID': [2, 3, 4], 'Ciudad': ['Madrid', 'Barcelona', 'Valencia'], 'Puntuación': [85, 92, 78]}\n",
    "\n",
    "df1 = pd.DataFrame(data1)\n",
    "df2 = pd.DataFrame(data2)\n",
    "```\n",
    "\n",
    "Une los dos dataframes mediante una columna que sea común a los 2.\n",
    "\n",
    "### Solución."
   ]
  },
  {
   "cell_type": "code",
   "execution_count": 7,
   "id": "acbb51a2",
   "metadata": {},
   "outputs": [],
   "source": [
    "data1 = {'ID': [1, 2, 3], 'Nombre': ['Ana', 'Juan', 'María'], 'Edad': [25, 30, 22]}\n",
    "data2 = {'ID': [2, 3, 4], 'Ciudad': ['Madrid', 'Barcelona', 'Valencia'], 'Puntuación': [85, 92, 78]}\n",
    "\n",
    "df1 = pd.DataFrame(data1)\n",
    "df2 = pd.DataFrame(data2)"
   ]
  },
  {
   "cell_type": "code",
   "execution_count": 8,
   "id": "70dacce1",
   "metadata": {},
   "outputs": [
    {
     "name": "stdout",
     "output_type": "stream",
     "text": [
      "   ID Nombre  Edad     Ciudad  Puntuación\n",
      "0   2   Juan    30     Madrid          85\n",
      "1   3  María    22  Barcelona          92\n"
     ]
    }
   ],
   "source": [
    "merged_df = pd.merge(df1, df2, on='ID', how='inner')\n",
    "print(merged_df)"
   ]
  },
  {
   "cell_type": "markdown",
   "id": "5e9c7daf",
   "metadata": {},
   "source": [
    "## Ejercicio 7\n",
    "\n",
    "Crea un DataFrame con información sobre ventas por mes para diferentes productos. Pivotar el DataFrame para obtener un resumen de las ventas por producto, las ventas se mostrarán como sumatorio por mes.\n",
    "\n",
    "NOTA: Puedes tomar este dataframe de ejemplo. Investiga sobre la función de pandas `pivot_table` https://pandas.pydata.org/docs/reference/api/pandas.pivot_table.html\n",
    "\n",
    "```python\n",
    "data = {'Mes': ['Enero', 'Febrero', 'Marzo', 'Enero', 'Febrero', 'Marzo'],\n",
    "        'Producto': ['A', 'A', 'A', 'B', 'B', 'B'],\n",
    "        'Ventas': [100, 120, 80, 150, 130, 110]}\n",
    "\n",
    "df = pd.DataFrame(data)\n",
    "```\n",
    "### Solución"
   ]
  },
  {
   "cell_type": "code",
   "execution_count": 9,
   "id": "da3ba6d5",
   "metadata": {},
   "outputs": [],
   "source": [
    "data = {'Mes': ['Enero', 'Febrero', 'Marzo', 'Enero', 'Febrero', 'Marzo'],\n",
    "        'Producto': ['A', 'A', 'A', 'B', 'B', 'B'],\n",
    "        'Ventas': [100, 120, 80, 150, 130, 110]}\n",
    "\n",
    "df = pd.DataFrame(data)"
   ]
  },
  {
   "cell_type": "code",
   "execution_count": 10,
   "id": "1ccdbe2d",
   "metadata": {},
   "outputs": [
    {
     "name": "stdout",
     "output_type": "stream",
     "text": [
      "Mes       Enero  Febrero  Marzo\n",
      "Producto                       \n",
      "A           100      120     80\n",
      "B           150      130    110\n"
     ]
    }
   ],
   "source": [
    "pivot_df = df.pivot_table(\n",
    "    index   = 'Producto', \n",
    "    columns = 'Mes', \n",
    "    values  = 'Ventas', \n",
    "    aggfunc = 'sum', \n",
    "    fill_value=0)\n",
    "\n",
    "print(pivot_df)"
   ]
  },
  {
   "cell_type": "markdown",
   "id": "d1c953f8",
   "metadata": {},
   "source": [
    "## Ejercicio 8\n",
    "\n",
    "Toma este dataframe que contiene fechas.\n",
    "\n",
    "```python\n",
    "data = {'Fecha': [datetime(2023, 1, 1), datetime(2023, 1, 5), datetime(2023, 1, 10)],\n",
    "        'Valor': [10, 15, 20]}\n",
    "\n",
    "df = pd.DataFrame(data)\n",
    "```\n",
    "\n",
    "Calcula la diferencia en días entre cada fecha y la fecha mínima"
   ]
  },
  {
   "cell_type": "code",
   "execution_count": 11,
   "id": "7373b6da",
   "metadata": {},
   "outputs": [
    {
     "data": {
      "text/html": [
       "<div>\n",
       "<style scoped>\n",
       "    .dataframe tbody tr th:only-of-type {\n",
       "        vertical-align: middle;\n",
       "    }\n",
       "\n",
       "    .dataframe tbody tr th {\n",
       "        vertical-align: top;\n",
       "    }\n",
       "\n",
       "    .dataframe thead th {\n",
       "        text-align: right;\n",
       "    }\n",
       "</style>\n",
       "<table border=\"1\" class=\"dataframe\">\n",
       "  <thead>\n",
       "    <tr style=\"text-align: right;\">\n",
       "      <th></th>\n",
       "      <th>Fecha</th>\n",
       "      <th>Valor</th>\n",
       "    </tr>\n",
       "  </thead>\n",
       "  <tbody>\n",
       "    <tr>\n",
       "      <th>0</th>\n",
       "      <td>2023-01-01</td>\n",
       "      <td>10</td>\n",
       "    </tr>\n",
       "    <tr>\n",
       "      <th>1</th>\n",
       "      <td>2023-01-05</td>\n",
       "      <td>15</td>\n",
       "    </tr>\n",
       "    <tr>\n",
       "      <th>2</th>\n",
       "      <td>2023-01-10</td>\n",
       "      <td>20</td>\n",
       "    </tr>\n",
       "  </tbody>\n",
       "</table>\n",
       "</div>"
      ],
      "text/plain": [
       "       Fecha  Valor\n",
       "0 2023-01-01     10\n",
       "1 2023-01-05     15\n",
       "2 2023-01-10     20"
      ]
     },
     "execution_count": 11,
     "metadata": {},
     "output_type": "execute_result"
    }
   ],
   "source": [
    "# Para trabajar con fechas necesitamos datetime\n",
    "from datetime import datetime\n",
    "\n",
    "data = {'Fecha': [datetime(2023, 1, 1), datetime(2023, 1, 5), datetime(2023, 1, 10)],\n",
    "        'Valor': [10, 15, 20]}\n",
    "\n",
    "df = pd.DataFrame(data)\n",
    "df"
   ]
  },
  {
   "cell_type": "code",
   "execution_count": 12,
   "id": "b6d54e93",
   "metadata": {},
   "outputs": [
    {
     "name": "stdout",
     "output_type": "stream",
     "text": [
      "       Fecha  Valor  Diferencia_Dias\n",
      "0 2023-01-01     10                0\n",
      "1 2023-01-05     15                4\n",
      "2 2023-01-10     20                9\n"
     ]
    }
   ],
   "source": [
    "df['Diferencia_Dias'] = (df['Fecha'] - df['Fecha'].min()).dt.days\n",
    "print(df)"
   ]
  },
  {
   "cell_type": "markdown",
   "id": "1a269e11",
   "metadata": {},
   "source": [
    "## Ejercicio 8\n",
    "\n",
    "Vamos a investigar sobre funciones de inteligencia de tiempo, emplea el siguiente dataframe\n",
    "\n",
    "```python\n",
    "data = {'Fecha': pd.date_range(start='2023-01-01', end='2023-01-31'),\n",
    "        'Producto_A': np.random.randint(10, 100, 31),\n",
    "        'Producto_B': np.random.randint(20, 80, 31)}\n",
    "\n",
    "df = pd.DataFrame(data)\n",
    "```\n",
    "\n",
    "En proyectos de previsión de ventas (proyectos de series temporales (_forecasting_) en general) es común trabajar con medias móviles, por lo tanto, se pide: Obtén la media móvil en 7 días para cada producto.\n",
    "\n",
    "PISTA: Investiga la función `rolling()` https://pandas.pydata.org/docs/reference/api/pandas.DataFrame.rolling.html\n",
    "\n",
    "### Solución"
   ]
  },
  {
   "cell_type": "code",
   "execution_count": 13,
   "id": "38ba11d7",
   "metadata": {},
   "outputs": [
    {
     "data": {
      "text/html": [
       "<div>\n",
       "<style scoped>\n",
       "    .dataframe tbody tr th:only-of-type {\n",
       "        vertical-align: middle;\n",
       "    }\n",
       "\n",
       "    .dataframe tbody tr th {\n",
       "        vertical-align: top;\n",
       "    }\n",
       "\n",
       "    .dataframe thead th {\n",
       "        text-align: right;\n",
       "    }\n",
       "</style>\n",
       "<table border=\"1\" class=\"dataframe\">\n",
       "  <thead>\n",
       "    <tr style=\"text-align: right;\">\n",
       "      <th></th>\n",
       "      <th>Fecha</th>\n",
       "      <th>Producto_A</th>\n",
       "      <th>Producto_B</th>\n",
       "    </tr>\n",
       "  </thead>\n",
       "  <tbody>\n",
       "    <tr>\n",
       "      <th>0</th>\n",
       "      <td>2023-01-01</td>\n",
       "      <td>61</td>\n",
       "      <td>35</td>\n",
       "    </tr>\n",
       "    <tr>\n",
       "      <th>1</th>\n",
       "      <td>2023-01-02</td>\n",
       "      <td>24</td>\n",
       "      <td>34</td>\n",
       "    </tr>\n",
       "    <tr>\n",
       "      <th>2</th>\n",
       "      <td>2023-01-03</td>\n",
       "      <td>81</td>\n",
       "      <td>66</td>\n",
       "    </tr>\n",
       "    <tr>\n",
       "      <th>3</th>\n",
       "      <td>2023-01-04</td>\n",
       "      <td>70</td>\n",
       "      <td>70</td>\n",
       "    </tr>\n",
       "    <tr>\n",
       "      <th>4</th>\n",
       "      <td>2023-01-05</td>\n",
       "      <td>30</td>\n",
       "      <td>63</td>\n",
       "    </tr>\n",
       "    <tr>\n",
       "      <th>5</th>\n",
       "      <td>2023-01-06</td>\n",
       "      <td>92</td>\n",
       "      <td>74</td>\n",
       "    </tr>\n",
       "    <tr>\n",
       "      <th>6</th>\n",
       "      <td>2023-01-07</td>\n",
       "      <td>96</td>\n",
       "      <td>71</td>\n",
       "    </tr>\n",
       "    <tr>\n",
       "      <th>7</th>\n",
       "      <td>2023-01-08</td>\n",
       "      <td>84</td>\n",
       "      <td>76</td>\n",
       "    </tr>\n",
       "    <tr>\n",
       "      <th>8</th>\n",
       "      <td>2023-01-09</td>\n",
       "      <td>84</td>\n",
       "      <td>22</td>\n",
       "    </tr>\n",
       "    <tr>\n",
       "      <th>9</th>\n",
       "      <td>2023-01-10</td>\n",
       "      <td>97</td>\n",
       "      <td>56</td>\n",
       "    </tr>\n",
       "    <tr>\n",
       "      <th>10</th>\n",
       "      <td>2023-01-11</td>\n",
       "      <td>33</td>\n",
       "      <td>70</td>\n",
       "    </tr>\n",
       "    <tr>\n",
       "      <th>11</th>\n",
       "      <td>2023-01-12</td>\n",
       "      <td>12</td>\n",
       "      <td>26</td>\n",
       "    </tr>\n",
       "    <tr>\n",
       "      <th>12</th>\n",
       "      <td>2023-01-13</td>\n",
       "      <td>31</td>\n",
       "      <td>40</td>\n",
       "    </tr>\n",
       "    <tr>\n",
       "      <th>13</th>\n",
       "      <td>2023-01-14</td>\n",
       "      <td>62</td>\n",
       "      <td>28</td>\n",
       "    </tr>\n",
       "    <tr>\n",
       "      <th>14</th>\n",
       "      <td>2023-01-15</td>\n",
       "      <td>11</td>\n",
       "      <td>58</td>\n",
       "    </tr>\n",
       "    <tr>\n",
       "      <th>15</th>\n",
       "      <td>2023-01-16</td>\n",
       "      <td>97</td>\n",
       "      <td>37</td>\n",
       "    </tr>\n",
       "    <tr>\n",
       "      <th>16</th>\n",
       "      <td>2023-01-17</td>\n",
       "      <td>39</td>\n",
       "      <td>23</td>\n",
       "    </tr>\n",
       "    <tr>\n",
       "      <th>17</th>\n",
       "      <td>2023-01-18</td>\n",
       "      <td>47</td>\n",
       "      <td>44</td>\n",
       "    </tr>\n",
       "    <tr>\n",
       "      <th>18</th>\n",
       "      <td>2023-01-19</td>\n",
       "      <td>11</td>\n",
       "      <td>79</td>\n",
       "    </tr>\n",
       "    <tr>\n",
       "      <th>19</th>\n",
       "      <td>2023-01-20</td>\n",
       "      <td>73</td>\n",
       "      <td>33</td>\n",
       "    </tr>\n",
       "    <tr>\n",
       "      <th>20</th>\n",
       "      <td>2023-01-21</td>\n",
       "      <td>69</td>\n",
       "      <td>69</td>\n",
       "    </tr>\n",
       "    <tr>\n",
       "      <th>21</th>\n",
       "      <td>2023-01-22</td>\n",
       "      <td>30</td>\n",
       "      <td>77</td>\n",
       "    </tr>\n",
       "    <tr>\n",
       "      <th>22</th>\n",
       "      <td>2023-01-23</td>\n",
       "      <td>42</td>\n",
       "      <td>28</td>\n",
       "    </tr>\n",
       "    <tr>\n",
       "      <th>23</th>\n",
       "      <td>2023-01-24</td>\n",
       "      <td>85</td>\n",
       "      <td>45</td>\n",
       "    </tr>\n",
       "    <tr>\n",
       "      <th>24</th>\n",
       "      <td>2023-01-25</td>\n",
       "      <td>67</td>\n",
       "      <td>72</td>\n",
       "    </tr>\n",
       "    <tr>\n",
       "      <th>25</th>\n",
       "      <td>2023-01-26</td>\n",
       "      <td>31</td>\n",
       "      <td>21</td>\n",
       "    </tr>\n",
       "    <tr>\n",
       "      <th>26</th>\n",
       "      <td>2023-01-27</td>\n",
       "      <td>98</td>\n",
       "      <td>39</td>\n",
       "    </tr>\n",
       "    <tr>\n",
       "      <th>27</th>\n",
       "      <td>2023-01-28</td>\n",
       "      <td>58</td>\n",
       "      <td>47</td>\n",
       "    </tr>\n",
       "    <tr>\n",
       "      <th>28</th>\n",
       "      <td>2023-01-29</td>\n",
       "      <td>68</td>\n",
       "      <td>66</td>\n",
       "    </tr>\n",
       "    <tr>\n",
       "      <th>29</th>\n",
       "      <td>2023-01-30</td>\n",
       "      <td>51</td>\n",
       "      <td>79</td>\n",
       "    </tr>\n",
       "    <tr>\n",
       "      <th>30</th>\n",
       "      <td>2023-01-31</td>\n",
       "      <td>69</td>\n",
       "      <td>26</td>\n",
       "    </tr>\n",
       "  </tbody>\n",
       "</table>\n",
       "</div>"
      ],
      "text/plain": [
       "        Fecha  Producto_A  Producto_B\n",
       "0  2023-01-01          61          35\n",
       "1  2023-01-02          24          34\n",
       "2  2023-01-03          81          66\n",
       "3  2023-01-04          70          70\n",
       "4  2023-01-05          30          63\n",
       "5  2023-01-06          92          74\n",
       "6  2023-01-07          96          71\n",
       "7  2023-01-08          84          76\n",
       "8  2023-01-09          84          22\n",
       "9  2023-01-10          97          56\n",
       "10 2023-01-11          33          70\n",
       "11 2023-01-12          12          26\n",
       "12 2023-01-13          31          40\n",
       "13 2023-01-14          62          28\n",
       "14 2023-01-15          11          58\n",
       "15 2023-01-16          97          37\n",
       "16 2023-01-17          39          23\n",
       "17 2023-01-18          47          44\n",
       "18 2023-01-19          11          79\n",
       "19 2023-01-20          73          33\n",
       "20 2023-01-21          69          69\n",
       "21 2023-01-22          30          77\n",
       "22 2023-01-23          42          28\n",
       "23 2023-01-24          85          45\n",
       "24 2023-01-25          67          72\n",
       "25 2023-01-26          31          21\n",
       "26 2023-01-27          98          39\n",
       "27 2023-01-28          58          47\n",
       "28 2023-01-29          68          66\n",
       "29 2023-01-30          51          79\n",
       "30 2023-01-31          69          26"
      ]
     },
     "execution_count": 13,
     "metadata": {},
     "output_type": "execute_result"
    }
   ],
   "source": [
    "import pandas as pd\n",
    "import numpy as np\n",
    "from datetime import datetime, timedelta\n",
    "\n",
    "# Crear DataFrame de ventas diarias\n",
    "np.random.seed(42)\n",
    "data = {'Fecha': pd.date_range(start='2023-01-01', end='2023-01-31'),\n",
    "        'Producto_A': np.random.randint(10, 100, 31),\n",
    "        'Producto_B': np.random.randint(20, 80, 31)}\n",
    "\n",
    "df = pd.DataFrame(data)\n",
    "df"
   ]
  },
  {
   "cell_type": "code",
   "execution_count": 14,
   "id": "cf1ecfda",
   "metadata": {},
   "outputs": [
    {
     "name": "stdout",
     "output_type": "stream",
     "text": [
      "        Fecha  Producto_A  Producto_B  Media_Movil_A  Media_Movil_B\n",
      "0  2023-01-01          61          35            NaN            NaN\n",
      "1  2023-01-02          24          34            NaN            NaN\n",
      "2  2023-01-03          81          66            NaN            NaN\n",
      "3  2023-01-04          70          70            NaN            NaN\n",
      "4  2023-01-05          30          63            NaN            NaN\n",
      "5  2023-01-06          92          74            NaN            NaN\n",
      "6  2023-01-07          96          71      64.857143      59.000000\n",
      "7  2023-01-08          84          76      68.142857      64.857143\n",
      "8  2023-01-09          84          22      76.714286      63.142857\n",
      "9  2023-01-10          97          56      79.000000      61.714286\n",
      "10 2023-01-11          33          70      73.714286      61.714286\n",
      "11 2023-01-12          12          26      71.142857      56.428571\n",
      "12 2023-01-13          31          40      62.428571      51.571429\n",
      "13 2023-01-14          62          28      57.571429      45.428571\n",
      "14 2023-01-15          11          58      47.142857      42.857143\n",
      "15 2023-01-16          97          37      49.000000      45.000000\n",
      "16 2023-01-17          39          23      40.714286      40.285714\n",
      "17 2023-01-18          47          44      42.714286      36.571429\n",
      "18 2023-01-19          11          79      42.571429      44.142857\n",
      "19 2023-01-20          73          33      48.571429      43.142857\n",
      "20 2023-01-21          69          69      49.571429      49.000000\n",
      "21 2023-01-22          30          77      52.285714      51.714286\n",
      "22 2023-01-23          42          28      44.428571      50.428571\n",
      "23 2023-01-24          85          45      51.000000      53.571429\n",
      "24 2023-01-25          67          72      53.857143      57.571429\n",
      "25 2023-01-26          31          21      56.714286      49.285714\n",
      "26 2023-01-27          98          39      60.285714      50.142857\n",
      "27 2023-01-28          58          47      58.714286      47.000000\n",
      "28 2023-01-29          68          66      64.142857      45.428571\n",
      "29 2023-01-30          51          79      65.428571      52.714286\n",
      "30 2023-01-31          69          26      63.142857      50.000000\n"
     ]
    }
   ],
   "source": [
    "# Para calcular la media móvil empleamos la función rolling\n",
    "#  como tamaño de ventana (Window) tomamos 7 días\n",
    "#  como estadístico para las ventanas, la función media\n",
    "\n",
    "df['Media_Movil_A'] = df['Producto_A'].rolling(window=7).mean()\n",
    "df['Media_Movil_B'] = df['Producto_B'].rolling(window=7).mean()\n",
    "\n",
    "print(df)"
   ]
  },
  {
   "cell_type": "markdown",
   "id": "1ced2d18",
   "metadata": {},
   "source": [
    "## Ejercicio 9\n",
    "\n",
    "En esta ocasión, vamos a trabajar con datos sobre texto.\n",
    "\n",
    "Crea un DataFrame con columnas que contengan texto. Luego, utiliza la función apply para aplicar una función que cuente la cantidad de palabras en cada celda de texto\n",
    "\n",
    "PISTA: Se recomienda investigar además de la función `apply` funciones anónimas lambda para realizar el split de la columna que contenga texto para ahorrarnos emplear bucles https://sparkbyexamples.com/pandas/pandas-apply-function-usage-examples/\n",
    "\n",
    "Puedes tomar este df de ejemplo.\n",
    "\n",
    "```python\n",
    "data = {'Texto': ['Este es un ejemplo', \n",
    "                  'Pandas es genial', \n",
    "                  'Análisis de datos con Python']\n",
    "       }\n",
    "\n",
    "df = pd.DataFrame(data)\n",
    "```\n",
    "\n",
    "### Solución"
   ]
  },
  {
   "cell_type": "code",
   "execution_count": 15,
   "id": "c3a375ce",
   "metadata": {},
   "outputs": [
    {
     "data": {
      "text/html": [
       "<div>\n",
       "<style scoped>\n",
       "    .dataframe tbody tr th:only-of-type {\n",
       "        vertical-align: middle;\n",
       "    }\n",
       "\n",
       "    .dataframe tbody tr th {\n",
       "        vertical-align: top;\n",
       "    }\n",
       "\n",
       "    .dataframe thead th {\n",
       "        text-align: right;\n",
       "    }\n",
       "</style>\n",
       "<table border=\"1\" class=\"dataframe\">\n",
       "  <thead>\n",
       "    <tr style=\"text-align: right;\">\n",
       "      <th></th>\n",
       "      <th>Texto</th>\n",
       "    </tr>\n",
       "  </thead>\n",
       "  <tbody>\n",
       "    <tr>\n",
       "      <th>0</th>\n",
       "      <td>Este es un ejemplo</td>\n",
       "    </tr>\n",
       "    <tr>\n",
       "      <th>1</th>\n",
       "      <td>Pandas es genial</td>\n",
       "    </tr>\n",
       "    <tr>\n",
       "      <th>2</th>\n",
       "      <td>Análisis de datos con Python</td>\n",
       "    </tr>\n",
       "  </tbody>\n",
       "</table>\n",
       "</div>"
      ],
      "text/plain": [
       "                          Texto\n",
       "0            Este es un ejemplo\n",
       "1              Pandas es genial\n",
       "2  Análisis de datos con Python"
      ]
     },
     "execution_count": 15,
     "metadata": {},
     "output_type": "execute_result"
    }
   ],
   "source": [
    "data = {'Texto': ['Este es un ejemplo', \n",
    "                  'Pandas es genial', \n",
    "                  'Análisis de datos con Python']\n",
    "       }\n",
    "\n",
    "df = pd.DataFrame(data)\n",
    "df"
   ]
  },
  {
   "cell_type": "code",
   "execution_count": 16,
   "id": "f1742943",
   "metadata": {},
   "outputs": [
    {
     "name": "stdout",
     "output_type": "stream",
     "text": [
      "                          Texto  Cantidad_Palabras\n",
      "0            Este es un ejemplo                  4\n",
      "1              Pandas es genial                  3\n",
      "2  Análisis de datos con Python                  5\n"
     ]
    }
   ],
   "source": [
    "# Aplicamos una lambda que tome la longitud \n",
    "#  después de aplicar la función split\n",
    "\n",
    "df['Cantidad_Palabras'] = df['Texto'].apply(lambda x: len(x.split()))\n",
    "print(df)"
   ]
  },
  {
   "cell_type": "markdown",
   "id": "eab14088",
   "metadata": {},
   "source": [
    "## Ejercicio 10\n",
    "\n",
    "En esta ocasión vamos a trabajar con funciones de agrupación avanzadas, funciones de agregación https://pandas.pydata.org/docs/reference/api/pandas.DataFrame.aggregate.html\n",
    "\n",
    "Emplea el siguiente dataframe:\n",
    "\n",
    "```python\n",
    "data = {'Mes': ['Enero', 'Enero', 'Febrero', 'Febrero', 'Enero', 'Febrero'],\n",
    "        'Region': ['Norte', 'Sur', 'Norte', 'Sur', 'Norte', 'Sur'],\n",
    "        'Ventas': [100, 120, 150, 130, 80, 110]}\n",
    "\n",
    "df = pd.DataFrame(data)\n",
    "``` \n",
    "\n",
    "Utiliza la función `agg` para calcular estadísticas específicas para cada grupo, las estadísticas que debes obtener son:\n",
    "- Promedio de ventas para cada grupo\n",
    "- Suma de ventas para cada grupo\n",
    "- Máximo nivel de ventas para cada grupo\n",
    "- Número de registros por cada grupo.\n",
    "\n",
    "### Solución"
   ]
  },
  {
   "cell_type": "code",
   "execution_count": 17,
   "id": "712f1d2e",
   "metadata": {},
   "outputs": [
    {
     "data": {
      "text/html": [
       "<div>\n",
       "<style scoped>\n",
       "    .dataframe tbody tr th:only-of-type {\n",
       "        vertical-align: middle;\n",
       "    }\n",
       "\n",
       "    .dataframe tbody tr th {\n",
       "        vertical-align: top;\n",
       "    }\n",
       "\n",
       "    .dataframe thead th {\n",
       "        text-align: right;\n",
       "    }\n",
       "</style>\n",
       "<table border=\"1\" class=\"dataframe\">\n",
       "  <thead>\n",
       "    <tr style=\"text-align: right;\">\n",
       "      <th></th>\n",
       "      <th>Mes</th>\n",
       "      <th>Region</th>\n",
       "      <th>Ventas</th>\n",
       "    </tr>\n",
       "  </thead>\n",
       "  <tbody>\n",
       "    <tr>\n",
       "      <th>0</th>\n",
       "      <td>Enero</td>\n",
       "      <td>Norte</td>\n",
       "      <td>100</td>\n",
       "    </tr>\n",
       "    <tr>\n",
       "      <th>1</th>\n",
       "      <td>Enero</td>\n",
       "      <td>Sur</td>\n",
       "      <td>120</td>\n",
       "    </tr>\n",
       "    <tr>\n",
       "      <th>2</th>\n",
       "      <td>Febrero</td>\n",
       "      <td>Norte</td>\n",
       "      <td>150</td>\n",
       "    </tr>\n",
       "    <tr>\n",
       "      <th>3</th>\n",
       "      <td>Febrero</td>\n",
       "      <td>Sur</td>\n",
       "      <td>130</td>\n",
       "    </tr>\n",
       "    <tr>\n",
       "      <th>4</th>\n",
       "      <td>Enero</td>\n",
       "      <td>Norte</td>\n",
       "      <td>80</td>\n",
       "    </tr>\n",
       "    <tr>\n",
       "      <th>5</th>\n",
       "      <td>Febrero</td>\n",
       "      <td>Sur</td>\n",
       "      <td>110</td>\n",
       "    </tr>\n",
       "  </tbody>\n",
       "</table>\n",
       "</div>"
      ],
      "text/plain": [
       "       Mes Region  Ventas\n",
       "0    Enero  Norte     100\n",
       "1    Enero    Sur     120\n",
       "2  Febrero  Norte     150\n",
       "3  Febrero    Sur     130\n",
       "4    Enero  Norte      80\n",
       "5  Febrero    Sur     110"
      ]
     },
     "execution_count": 17,
     "metadata": {},
     "output_type": "execute_result"
    }
   ],
   "source": [
    "data = {'Mes': ['Enero', 'Enero', 'Febrero', 'Febrero', 'Enero', 'Febrero'],\n",
    "        'Region': ['Norte', 'Sur', 'Norte', 'Sur', 'Norte', 'Sur'],\n",
    "        'Ventas': [100, 120, 150, 130, 80, 110]}\n",
    "\n",
    "df = pd.DataFrame(data)\n",
    "df"
   ]
  },
  {
   "cell_type": "code",
   "execution_count": 18,
   "id": "b69ad8bf",
   "metadata": {},
   "outputs": [
    {
     "name": "stdout",
     "output_type": "stream",
     "text": [
      "               Ventas                  \n",
      "                  sum   mean  max count\n",
      "Mes     Region                         \n",
      "Enero   Norte     180   90.0  100     2\n",
      "        Sur       120  120.0  120     1\n",
      "Febrero Norte     150  150.0  150     1\n",
      "        Sur       240  120.0  130     2\n"
     ]
    }
   ],
   "source": [
    "# Calcular estadísticas por grupo (suma, promedio, máximo y frecuencia)\n",
    "agg_stats = df.groupby(['Mes', 'Region']).agg(\n",
    "    {'Ventas': ['sum', 'mean', 'max', \"count\"]}\n",
    ")\n",
    "\n",
    "print(agg_stats)\n"
   ]
  }
 ],
 "metadata": {
  "kernelspec": {
   "display_name": "Python 3 (ipykernel)",
   "language": "python",
   "name": "python3"
  },
  "language_info": {
   "codemirror_mode": {
    "name": "ipython",
    "version": 3
   },
   "file_extension": ".py",
   "mimetype": "text/x-python",
   "name": "python",
   "nbconvert_exporter": "python",
   "pygments_lexer": "ipython3",
   "version": "3.11.5"
  }
 },
 "nbformat": 4,
 "nbformat_minor": 5
}
