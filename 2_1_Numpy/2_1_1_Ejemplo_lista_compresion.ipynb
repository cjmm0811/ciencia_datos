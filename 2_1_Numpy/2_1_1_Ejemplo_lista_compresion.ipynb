{
 "cells": [
  {
   "cell_type": "markdown",
   "metadata": {},
   "source": [
    "# Bucle for\n",
    "\n",
    "Hacemos un programa sencillo para elevar cada número de la lista al cuadrado"
   ]
  },
  {
   "cell_type": "code",
   "execution_count": null,
   "metadata": {},
   "outputs": [],
   "source": [
    "nums = [0,1,2,3,4,5,6,7,8,9]"
   ]
  },
  {
   "cell_type": "code",
   "execution_count": null,
   "metadata": {},
   "outputs": [],
   "source": [
    "square = []\n",
    "\n",
    "for item in nums:\n",
    "    square.append(item**2)\n",
    "    "
   ]
  },
  {
   "cell_type": "code",
   "execution_count": null,
   "metadata": {},
   "outputs": [],
   "source": [
    "square"
   ]
  },
  {
   "cell_type": "markdown",
   "metadata": {},
   "source": [
    "# Lista Compresión\n",
    "\n",
    "https://www.w3schools.com/python/python_lists_comprehension.asp"
   ]
  },
  {
   "cell_type": "code",
   "execution_count": null,
   "metadata": {},
   "outputs": [],
   "source": [
    "a = [ i**2 for i in nums ]"
   ]
  },
  {
   "cell_type": "code",
   "execution_count": null,
   "metadata": {},
   "outputs": [],
   "source": [
    "a"
   ]
  },
  {
   "cell_type": "code",
   "execution_count": null,
   "metadata": {},
   "outputs": [],
   "source": [
    "# Lo mismo pero elevando al cubo\n",
    "b = [ numero**3 for numero in nums ]"
   ]
  },
  {
   "cell_type": "code",
   "execution_count": null,
   "metadata": {},
   "outputs": [],
   "source": [
    "b"
   ]
  },
  {
   "cell_type": "markdown",
   "metadata": {},
   "source": [
    "# Otros ejemplos\n",
    "\n",
    "Ejemplo 1: Crear una lista de los cuadrados de los números del 0 al 9"
   ]
  },
  {
   "cell_type": "code",
   "execution_count": null,
   "metadata": {},
   "outputs": [],
   "source": [
    "cuadrados = []\n",
    "for x in range(10):\n",
    "    cuadrados.append(x**2)\n",
    "print(cuadrados)\n",
    "# Resultado: [0, 1, 4, 9, 16, 25, 36, 49, 64, 81]"
   ]
  },
  {
   "cell_type": "code",
   "execution_count": null,
   "metadata": {},
   "outputs": [],
   "source": [
    "cuadrados = [x**2 for x in range(10)]\n",
    "print(cuadrados)\n",
    "# Resultado: [0, 1, 4, 9, 16, 25, 36, 49, 64, 81]"
   ]
  },
  {
   "cell_type": "markdown",
   "metadata": {},
   "source": [
    "Ejemplo 2: Filtrar números pares de una lista:"
   ]
  },
  {
   "cell_type": "code",
   "execution_count": null,
   "metadata": {},
   "outputs": [],
   "source": [
    "numeros = [1, 2, 3, 4, 5, 6, 7, 8, 9, 10]\n",
    "pares = []\n",
    "for x in numeros:\n",
    "    if x % 2 == 0:\n",
    "        pares.append(x)\n",
    "print(pares)\n",
    "# Resultado: [2, 4, 6, 8, 10]"
   ]
  },
  {
   "cell_type": "code",
   "execution_count": null,
   "metadata": {},
   "outputs": [],
   "source": [
    "numeros = [1, 2, 3, 4, 5, 6, 7, 8, 9, 10]\n",
    "pares = [x for x in numeros if x % 2 == 0]\n",
    "print(pares)\n",
    "# Resultado: [2, 4, 6, 8, 10]"
   ]
  },
  {
   "cell_type": "markdown",
   "metadata": {},
   "source": [
    "Ejemplo 3: Convertir una lista de temperaturas de Celsius a Fahrenheit:"
   ]
  },
  {
   "cell_type": "code",
   "execution_count": null,
   "metadata": {},
   "outputs": [],
   "source": [
    "temperaturas_celsius = [0, 10, 20, 30, 40]\n",
    "temperaturas_fahrenheit = []\n",
    "for c in temperaturas_celsius:\n",
    "    temperaturas_fahrenheit.append((c * 9/5) + 32)\n",
    "print(temperaturas_fahrenheit)\n",
    "# Resultado: [32.0, 50.0, 68.0, 86.0, 104.0]"
   ]
  },
  {
   "cell_type": "code",
   "execution_count": null,
   "metadata": {},
   "outputs": [],
   "source": [
    "temperaturas_celsius = [0, 10, 20, 30, 40]\n",
    "temperaturas_fahrenheit = [(c * 9/5) + 32 for c in temperaturas_celsius]\n",
    "print(temperaturas_fahrenheit)\n",
    "# Resultado: [32.0, 50.0, 68.0, 86.0, 104.0]"
   ]
  },
  {
   "cell_type": "markdown",
   "metadata": {},
   "source": [
    "Ejemplo 4: Crear una lista de palabras solo con las que tienen más de tres letras:"
   ]
  },
  {
   "cell_type": "code",
   "execution_count": null,
   "metadata": {},
   "outputs": [],
   "source": [
    "palabras = [\"hola\", \"python\", \"es\", \"divertido\"]\n",
    "palabras_mas_tres_letras = []\n",
    "for palabra in palabras:\n",
    "    if len(palabra) > 3:\n",
    "        palabras_mas_tres_letras.append(palabra)\n",
    "print(palabras_mas_tres_letras)\n",
    "# Resultado: ['hola', 'python', 'divertido']"
   ]
  },
  {
   "cell_type": "code",
   "execution_count": null,
   "metadata": {},
   "outputs": [],
   "source": [
    "palabras = [\"hola\", \"python\", \"es\", \"divertido\"]\n",
    "palabras_mas_tres_letras = [palabra for palabra in palabras if len(palabra) > 3]\n",
    "print(palabras_mas_tres_letras)\n",
    "# Resultado: ['hola', 'python', 'divertido']"
   ]
  },
  {
   "cell_type": "markdown",
   "metadata": {},
   "source": [
    "Ejemplo 5: Crear una lista de números clasificados como \"par\" o \"impar\":"
   ]
  },
  {
   "cell_type": "code",
   "execution_count": null,
   "metadata": {},
   "outputs": [],
   "source": [
    "numeros = [1, 2, 3, 4, 5, 6, 7, 8, 9, 10]\n",
    "par_impar = []\n",
    "for x in numeros:\n",
    "    if x % 2 == 0:\n",
    "        par_impar.append(\"par\")\n",
    "    else:\n",
    "        par_impar.append(\"impar\")\n",
    "print(par_impar)\n",
    "# Resultado: ['impar', 'par', 'impar', 'par', 'impar', 'par', 'impar', 'par', 'impar', 'par']"
   ]
  },
  {
   "cell_type": "code",
   "execution_count": null,
   "metadata": {},
   "outputs": [],
   "source": [
    "numeros = [1, 2, 3, 4, 5, 6, 7, 8, 9, 10]\n",
    "par_impar = [\"par\" if x % 2 == 0 else \"impar\" for x in numeros]\n",
    "print(par_impar)\n",
    "# Resultado: ['impar', 'par', 'impar', 'par', 'impar', 'par', 'impar', 'par', 'impar', 'par']"
   ]
  }
 ],
 "metadata": {
  "kernelspec": {
   "display_name": "Python 3 (ipykernel)",
   "language": "python",
   "name": "python3"
  },
  "language_info": {
   "codemirror_mode": {
    "name": "ipython",
    "version": 3
   },
   "file_extension": ".py",
   "mimetype": "text/x-python",
   "name": "python",
   "nbconvert_exporter": "python",
   "pygments_lexer": "ipython3",
   "version": "3.10.9"
  }
 },
 "nbformat": 4,
 "nbformat_minor": 4
}
