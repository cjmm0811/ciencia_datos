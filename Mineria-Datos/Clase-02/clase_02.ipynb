{
 "cells": [
  {
   "cell_type": "code",
   "execution_count": 1,
   "metadata": {},
   "outputs": [],
   "source": [
    "file = open('./lorem.txt', 'r')"
   ]
  },
  {
   "cell_type": "code",
   "execution_count": 3,
   "metadata": {},
   "outputs": [
    {
     "data": {
      "text/plain": [
       "''"
      ]
     },
     "execution_count": 3,
     "metadata": {},
     "output_type": "execute_result"
    }
   ],
   "source": [
    "raw_text = file.read()\n",
    "raw_text.split('\\n')"
   ]
  },
  {
   "cell_type": "code",
   "execution_count": 1,
   "metadata": {},
   "outputs": [],
   "source": [
    "aircraft_raw = open ('./aircrafts.csv', 'r').read()\n",
    "aircraft_raw = aircraft_raw.split('\\n')"
   ]
  },
  {
   "cell_type": "code",
   "execution_count": 7,
   "metadata": {},
   "outputs": [
    {
     "data": {
      "text/plain": [
       "['code;name;manufacturer;pax;type\\nA321;Airbus',\n",
       " 'A321;Airbus;230;Single',\n",
       " 'Aisle\\nB789;Boeing',\n",
       " '787-9;Boeing;350;Double',\n",
       " 'Aisle\\nB77W;Boeing',\n",
       " '777',\n",
       " 'Long',\n",
       " 'Range;Boeing;410;Double',\n",
       " 'Aisle\\nA35X;Airbus',\n",
       " 'A350-1000;Airbus;490;Double',\n",
       " 'Aisle\\n']"
      ]
     },
     "execution_count": 7,
     "metadata": {},
     "output_type": "execute_result"
    }
   ],
   "source": []
  },
  {
   "cell_type": "code",
   "execution_count": 2,
   "metadata": {},
   "outputs": [],
   "source": [
    "def array_2_dict(_data):\n",
    "    result = []\n",
    "    cols = _data[0].split(';')\n",
    "\n",
    "    for row in _data[1:]:\n",
    "        values = row.split(';')\n",
    "\n",
    "        template = {}\n",
    "\n",
    "        if len(values) == len(cols):\n",
    "\n",
    "            for i in range(len(cols)):\n",
    "                \n",
    "                template[cols[i]] = values[i]\n",
    "\n",
    "                result.append(template)\n",
    "\n",
    "    return result"
   ]
  },
  {
   "cell_type": "code",
   "execution_count": 3,
   "metadata": {},
   "outputs": [
    {
     "data": {
      "text/plain": [
       "[{'code': 'A321',\n",
       "  'name': 'Airbus A321',\n",
       "  'manufacturer': 'Airbus',\n",
       "  'pax': '230',\n",
       "  'type': 'Single Aisle'},\n",
       " {'code': 'A321',\n",
       "  'name': 'Airbus A321',\n",
       "  'manufacturer': 'Airbus',\n",
       "  'pax': '230',\n",
       "  'type': 'Single Aisle'},\n",
       " {'code': 'A321',\n",
       "  'name': 'Airbus A321',\n",
       "  'manufacturer': 'Airbus',\n",
       "  'pax': '230',\n",
       "  'type': 'Single Aisle'},\n",
       " {'code': 'A321',\n",
       "  'name': 'Airbus A321',\n",
       "  'manufacturer': 'Airbus',\n",
       "  'pax': '230',\n",
       "  'type': 'Single Aisle'},\n",
       " {'code': 'A321',\n",
       "  'name': 'Airbus A321',\n",
       "  'manufacturer': 'Airbus',\n",
       "  'pax': '230',\n",
       "  'type': 'Single Aisle'},\n",
       " {'code': 'B789',\n",
       "  'name': 'Boeing 787-9',\n",
       "  'manufacturer': 'Boeing',\n",
       "  'pax': '350',\n",
       "  'type': 'Double Aisle'},\n",
       " {'code': 'B789',\n",
       "  'name': 'Boeing 787-9',\n",
       "  'manufacturer': 'Boeing',\n",
       "  'pax': '350',\n",
       "  'type': 'Double Aisle'},\n",
       " {'code': 'B789',\n",
       "  'name': 'Boeing 787-9',\n",
       "  'manufacturer': 'Boeing',\n",
       "  'pax': '350',\n",
       "  'type': 'Double Aisle'},\n",
       " {'code': 'B789',\n",
       "  'name': 'Boeing 787-9',\n",
       "  'manufacturer': 'Boeing',\n",
       "  'pax': '350',\n",
       "  'type': 'Double Aisle'},\n",
       " {'code': 'B789',\n",
       "  'name': 'Boeing 787-9',\n",
       "  'manufacturer': 'Boeing',\n",
       "  'pax': '350',\n",
       "  'type': 'Double Aisle'},\n",
       " {'code': 'B77W',\n",
       "  'name': 'Boeing 777 Long Range',\n",
       "  'manufacturer': 'Boeing',\n",
       "  'pax': '410',\n",
       "  'type': 'Double Aisle'},\n",
       " {'code': 'B77W',\n",
       "  'name': 'Boeing 777 Long Range',\n",
       "  'manufacturer': 'Boeing',\n",
       "  'pax': '410',\n",
       "  'type': 'Double Aisle'},\n",
       " {'code': 'B77W',\n",
       "  'name': 'Boeing 777 Long Range',\n",
       "  'manufacturer': 'Boeing',\n",
       "  'pax': '410',\n",
       "  'type': 'Double Aisle'},\n",
       " {'code': 'B77W',\n",
       "  'name': 'Boeing 777 Long Range',\n",
       "  'manufacturer': 'Boeing',\n",
       "  'pax': '410',\n",
       "  'type': 'Double Aisle'},\n",
       " {'code': 'B77W',\n",
       "  'name': 'Boeing 777 Long Range',\n",
       "  'manufacturer': 'Boeing',\n",
       "  'pax': '410',\n",
       "  'type': 'Double Aisle'},\n",
       " {'code': 'A35X',\n",
       "  'name': 'Airbus A350-1000',\n",
       "  'manufacturer': 'Airbus',\n",
       "  'pax': '490',\n",
       "  'type': 'Double Aisle'},\n",
       " {'code': 'A35X',\n",
       "  'name': 'Airbus A350-1000',\n",
       "  'manufacturer': 'Airbus',\n",
       "  'pax': '490',\n",
       "  'type': 'Double Aisle'},\n",
       " {'code': 'A35X',\n",
       "  'name': 'Airbus A350-1000',\n",
       "  'manufacturer': 'Airbus',\n",
       "  'pax': '490',\n",
       "  'type': 'Double Aisle'},\n",
       " {'code': 'A35X',\n",
       "  'name': 'Airbus A350-1000',\n",
       "  'manufacturer': 'Airbus',\n",
       "  'pax': '490',\n",
       "  'type': 'Double Aisle'},\n",
       " {'code': 'A35X',\n",
       "  'name': 'Airbus A350-1000',\n",
       "  'manufacturer': 'Airbus',\n",
       "  'pax': '490',\n",
       "  'type': 'Double Aisle'}]"
      ]
     },
     "execution_count": 3,
     "metadata": {},
     "output_type": "execute_result"
    }
   ],
   "source": [
    "array_2_dict(aircraft_raw)"
   ]
  },
  {
   "cell_type": "code",
   "execution_count": 4,
   "metadata": {},
   "outputs": [
    {
     "name": "stdout",
     "output_type": "stream",
     "text": [
      "Defaulting to user installation because normal site-packages is not writeable\n",
      "Collecting docx2txt\n",
      "  Downloading docx2txt-0.8.tar.gz (2.8 kB)\n",
      "Using legacy 'setup.py install' for docx2txt, since package 'wheel' is not installed.\n",
      "Installing collected packages: docx2txt\n",
      "    Running setup.py install for docx2txt: started\n",
      "    Running setup.py install for docx2txt: finished with status 'done'\n",
      "Successfully installed docx2txt-0.8\n",
      "Note: you may need to restart the kernel to use updated packages.\n"
     ]
    },
    {
     "name": "stderr",
     "output_type": "stream",
     "text": [
      "WARNING: You are using pip version 21.2.3; however, version 23.3.2 is available.\n",
      "You should consider upgrading via the 'c:\\Program Files\\Python310\\python.exe -m pip install --upgrade pip' command.\n"
     ]
    }
   ],
   "source": [
    "pip install docx2txt"
   ]
  },
  {
   "cell_type": "code",
   "execution_count": 5,
   "metadata": {},
   "outputs": [],
   "source": [
    "import docx2txt"
   ]
  },
  {
   "cell_type": "code",
   "execution_count": 6,
   "metadata": {},
   "outputs": [
    {
     "name": "stdout",
     "output_type": "stream",
     "text": [
      "Lorem ipsum dolor sit amet, consectetur adipiscing elit. Vestibulum euismod ante nibh, vel commodo lectus elementum non. Mauris molestie arcu id mi tempor, nec venenatis enim feugiat. In sit amet nisi at sem semper mollis vel sit amet quam. Phasellus non accumsan felis. Sed pretium ligula sed elit porta, in mollis ligula auctor. Mauris volutpat elit est, sit amet feugiat nunc auctor non. Sed sodales vitae arcu eu aliquam. Proin dictum odio malesuada malesuada gravida. Proin vel urna erat.\n",
      "\n",
      "Curabitur faucibus accumsan est, non efficitur odio aliquet eu. Vestibulum ante ipsum primis in faucibus orci luctus et ultrices posuere cubilia curae; Phasellus lorem erat, malesuada ut eros in, commodo euismod nunc. In feugiat erat in nisl congue viverra. Nunc laoreet sit amet quam id consequat. Nulla interdum, mauris eu finibus dapibus, metus urna finibus risus, eu pharetra eros diam in quam. Nam vitae risus nisl. Donec ornare ut arcu sed suscipit.\n",
      "\n",
      "Pellentesque porta nibh quis dui varius consectetur. Ut accumsan tristique diam, et dignissim nulla malesuada nec. Nullam sagittis iaculis lorem vitae congue. Ut congue finibus sem, eu pellentesque quam sodales id. Proin varius augue et commodo accumsan. Class aptent taciti sociosqu ad litora torquent per conubia nostra, per inceptos himenaeos. Pellentesque fringilla libero sem, ac porta nisi blandit sed.\n",
      "\n",
      "Nullam eu erat felis. Sed id sapien sed lacus feugiat placerat vitae id est. Donec fringilla facilisis nulla quis consequat. Sed felis nulla, placerat in sodales vitae, malesuada eget nulla. Vestibulum euismod convallis justo, ac venenatis nunc cursus vitae. Nam et nisl sit amet ligula ornare eleifend. Sed nibh velit, congue nec ornare id, accumsan ac orci.\n",
      "\n",
      "Curabitur aliquam est sed velit imperdiet, quis luctus metus tincidunt. Sed rutrum sed lacus sed suscipit. Aliquam erat volutpat. Donec nec metus nibh. Class aptent taciti sociosqu ad litora torquent per conubia nostra, per inceptos himenaeos. Nunc a tincidunt enim, eu sodales lacus. Aenean risus est, dictum eu dictum et, molestie vitae neque. Vivamus commodo nunc purus, quis condimentum risus dictum eu.\n"
     ]
    }
   ],
   "source": [
    "print(docx2txt.process('./lorem_ipsum_word.docx'))"
   ]
  },
  {
   "cell_type": "code",
   "execution_count": 10,
   "metadata": {},
   "outputs": [
    {
     "name": "stdout",
     "output_type": "stream",
     "text": [
      "Defaulting to user installation because normal site-packages is not writeableNote: you may need to restart the kernel to use updated packages.\n",
      "\n",
      "Collecting requests\n",
      "  Downloading requests-2.31.0-py3-none-any.whl (62 kB)\n",
      "Collecting charset-normalizer<4,>=2\n",
      "  Downloading charset_normalizer-3.3.2-cp310-cp310-win_amd64.whl (100 kB)\n",
      "Collecting certifi>=2017.4.17\n",
      "  Downloading certifi-2023.11.17-py3-none-any.whl (162 kB)\n",
      "Collecting urllib3<3,>=1.21.1\n",
      "  Downloading urllib3-2.1.0-py3-none-any.whl (104 kB)\n",
      "Collecting idna<4,>=2.5\n",
      "  Downloading idna-3.6-py3-none-any.whl (61 kB)\n",
      "Installing collected packages: urllib3, idna, charset-normalizer, certifi, requests\n",
      "Successfully installed certifi-2023.11.17 charset-normalizer-3.3.2 idna-3.6 requests-2.31.0 urllib3-2.1.0\n"
     ]
    },
    {
     "name": "stderr",
     "output_type": "stream",
     "text": [
      "WARNING: You are using pip version 21.2.3; however, version 23.3.2 is available.\n",
      "You should consider upgrading via the 'c:\\Program Files\\Python310\\python.exe -m pip install --upgrade pip' command.\n"
     ]
    }
   ],
   "source": [
    "pip install requests"
   ]
  },
  {
   "cell_type": "code",
   "execution_count": 11,
   "metadata": {},
   "outputs": [],
   "source": [
    "import requests"
   ]
  },
  {
   "cell_type": "code",
   "execution_count": 13,
   "metadata": {},
   "outputs": [],
   "source": [
    "headers = {\n",
    "    \"Content-Type\": \"application/json\",\n",
    "    \"Accept\": \"application/json\",\n",
    "    \"User-Agent\":\"Mozilla/5.0\"\n",
    "}\n",
    "\n",
    "params = {\n",
    "    'Ciudad': 'Madrid', 'fecha':'2021-05-05'\n",
    "}\n",
    "\n",
    "url = \"https://www.thecocktaildb.com/api/json/v1/1/random.php\"\n",
    "\n",
    "req = requests.get(url, headers= headers)"
   ]
  },
  {
   "cell_type": "code",
   "execution_count": 14,
   "metadata": {},
   "outputs": [
    {
     "data": {
      "text/plain": [
       "{'drinks': [{'idDrink': '14053',\n",
       "   'strDrink': \"Mother's Milk\",\n",
       "   'strDrinkAlternate': None,\n",
       "   'strTags': None,\n",
       "   'strVideo': None,\n",
       "   'strCategory': 'Shot',\n",
       "   'strIBA': None,\n",
       "   'strAlcoholic': 'Alcoholic',\n",
       "   'strGlass': 'Shot glass',\n",
       "   'strInstructions': 'Shake over ice, strain. Serves two.',\n",
       "   'strInstructionsES': None,\n",
       "   'strInstructionsDE': 'Über Eis schütteln, abseihen. Für zwei Personen.',\n",
       "   'strInstructionsFR': None,\n",
       "   'strInstructionsIT': 'Shakerare sul ghiaccio, filtrare.\\r\\nPer due persone.',\n",
       "   'strInstructionsZH-HANS': None,\n",
       "   'strInstructionsZH-HANT': None,\n",
       "   'strDrinkThumb': 'https://www.thecocktaildb.com/images/media/drink/7stuuh1504885399.jpg',\n",
       "   'strIngredient1': 'Goldschlager',\n",
       "   'strIngredient2': 'Butterscotch schnapps',\n",
       "   'strIngredient3': 'Milk',\n",
       "   'strIngredient4': None,\n",
       "   'strIngredient5': None,\n",
       "   'strIngredient6': None,\n",
       "   'strIngredient7': None,\n",
       "   'strIngredient8': None,\n",
       "   'strIngredient9': None,\n",
       "   'strIngredient10': None,\n",
       "   'strIngredient11': None,\n",
       "   'strIngredient12': None,\n",
       "   'strIngredient13': None,\n",
       "   'strIngredient14': None,\n",
       "   'strIngredient15': None,\n",
       "   'strMeasure1': '1 oz ',\n",
       "   'strMeasure2': '1 oz ',\n",
       "   'strMeasure3': '1 oz ',\n",
       "   'strMeasure4': None,\n",
       "   'strMeasure5': None,\n",
       "   'strMeasure6': None,\n",
       "   'strMeasure7': None,\n",
       "   'strMeasure8': None,\n",
       "   'strMeasure9': None,\n",
       "   'strMeasure10': None,\n",
       "   'strMeasure11': None,\n",
       "   'strMeasure12': None,\n",
       "   'strMeasure13': None,\n",
       "   'strMeasure14': None,\n",
       "   'strMeasure15': None,\n",
       "   'strImageSource': None,\n",
       "   'strImageAttribution': None,\n",
       "   'strCreativeCommonsConfirmed': 'No',\n",
       "   'dateModified': '2017-09-08 16:43:19'}]}"
      ]
     },
     "execution_count": 14,
     "metadata": {},
     "output_type": "execute_result"
    }
   ],
   "source": [
    "req.json()"
   ]
  },
  {
   "cell_type": "code",
   "execution_count": 19,
   "metadata": {},
   "outputs": [
    {
     "name": "stdout",
     "output_type": "stream",
     "text": [
      "Defaulting to user installation because normal site-packages is not writeable\n",
      "Collecting pandas\n",
      "  Downloading pandas-2.2.0-cp310-cp310-win_amd64.whl (11.6 MB)\n",
      "Collecting numpy<2,>=1.22.4\n",
      "  Downloading numpy-1.26.3-cp310-cp310-win_amd64.whl (15.8 MB)\n",
      "Collecting tzdata>=2022.7\n",
      "  Downloading tzdata-2023.4-py2.py3-none-any.whl (346 kB)\n",
      "Collecting pytz>=2020.1\n",
      "  Downloading pytz-2023.3.post1-py2.py3-none-any.whl (502 kB)\n",
      "Requirement already satisfied: python-dateutil>=2.8.2 in c:\\users\\cristian mendieta\\appdata\\roaming\\python\\python310\\site-packages (from pandas) (2.8.2)\n",
      "Requirement already satisfied: six>=1.5 in c:\\users\\cristian mendieta\\appdata\\roaming\\python\\python310\\site-packages (from python-dateutil>=2.8.2->pandas) (1.16.0)\n",
      "Installing collected packages: tzdata, pytz, numpy, pandas\n",
      "Successfully installed numpy-1.26.3 pandas-2.2.0 pytz-2023.3.post1 tzdata-2023.4\n",
      "Note: you may need to restart the kernel to use updated packages.\n"
     ]
    },
    {
     "name": "stderr",
     "output_type": "stream",
     "text": [
      "WARNING: You are using pip version 21.2.3; however, version 23.3.2 is available.\n",
      "You should consider upgrading via the 'c:\\Program Files\\Python310\\python.exe -m pip install --upgrade pip' command.\n"
     ]
    }
   ],
   "source": [
    "pip install pandas"
   ]
  },
  {
   "cell_type": "code",
   "execution_count": 20,
   "metadata": {},
   "outputs": [
    {
     "name": "stderr",
     "output_type": "stream",
     "text": [
      "C:\\Users\\Cristian Mendieta\\AppData\\Local\\Temp\\ipykernel_19436\\4080736814.py:1: DeprecationWarning: \n",
      "Pyarrow will become a required dependency of pandas in the next major release of pandas (pandas 3.0),\n",
      "(to allow more performant data types, such as the Arrow string type, and better interoperability with other libraries)\n",
      "but was not found to be installed on your system.\n",
      "If this would cause problems for you,\n",
      "please provide us feedback at https://github.com/pandas-dev/pandas/issues/54466\n",
      "        \n",
      "  import pandas as pd\n"
     ]
    }
   ],
   "source": [
    "import pandas as pd"
   ]
  },
  {
   "cell_type": "code",
   "execution_count": 21,
   "metadata": {},
   "outputs": [],
   "source": [
    "def genera_cocktails(_num):\n",
    "    cocktails = []\n",
    "    url = \"https://www.thecocktaildb.com/api/json/v1/1/random.php\"\n",
    "\n",
    "    for i in range(_num):\n",
    "        req = requests.get(url).json()\n",
    "        data = req['drinks'][0]\n",
    "\n",
    "        template = {\n",
    "            \"id\": data['idDrink'],\n",
    "            \"nombre\": data['strDrink'],\n",
    "            \"categoria\":data['strCategory'],\n",
    "            \"vaso\": data['strGlass'],\n",
    "            \"alcohol\": data['strAlcoholic'],\n",
    "        }\n",
    "\n",
    "        cocktails.append(template)\n",
    "\n",
    "    return pd.DataFrame(cocktails)\n",
    "\n"
   ]
  },
  {
   "cell_type": "code",
   "execution_count": 22,
   "metadata": {},
   "outputs": [
    {
     "data": {
      "text/html": [
       "<div>\n",
       "<style scoped>\n",
       "    .dataframe tbody tr th:only-of-type {\n",
       "        vertical-align: middle;\n",
       "    }\n",
       "\n",
       "    .dataframe tbody tr th {\n",
       "        vertical-align: top;\n",
       "    }\n",
       "\n",
       "    .dataframe thead th {\n",
       "        text-align: right;\n",
       "    }\n",
       "</style>\n",
       "<table border=\"1\" class=\"dataframe\">\n",
       "  <thead>\n",
       "    <tr style=\"text-align: right;\">\n",
       "      <th></th>\n",
       "      <th>id</th>\n",
       "      <th>nombre</th>\n",
       "      <th>categoria</th>\n",
       "      <th>vaso</th>\n",
       "      <th>alcohol</th>\n",
       "    </tr>\n",
       "  </thead>\n",
       "  <tbody>\n",
       "    <tr>\n",
       "      <th>0</th>\n",
       "      <td>17224</td>\n",
       "      <td>Absolutely Fabulous</td>\n",
       "      <td>Cocktail</td>\n",
       "      <td>Champagne flute</td>\n",
       "      <td>Alcoholic</td>\n",
       "    </tr>\n",
       "    <tr>\n",
       "      <th>1</th>\n",
       "      <td>14181</td>\n",
       "      <td>Cafe Savoy</td>\n",
       "      <td>Coffee / Tea</td>\n",
       "      <td>Coffee mug</td>\n",
       "      <td>Alcoholic</td>\n",
       "    </tr>\n",
       "    <tr>\n",
       "      <th>2</th>\n",
       "      <td>12696</td>\n",
       "      <td>Lassi - Sweet</td>\n",
       "      <td>Other / Unknown</td>\n",
       "      <td>Highball glass</td>\n",
       "      <td>Non alcoholic</td>\n",
       "    </tr>\n",
       "    <tr>\n",
       "      <th>3</th>\n",
       "      <td>11369</td>\n",
       "      <td>Flying Scotchman</td>\n",
       "      <td>Ordinary Drink</td>\n",
       "      <td>Cocktail glass</td>\n",
       "      <td>Alcoholic</td>\n",
       "    </tr>\n",
       "    <tr>\n",
       "      <th>4</th>\n",
       "      <td>15841</td>\n",
       "      <td>Mojito Extra</td>\n",
       "      <td>Cocktail</td>\n",
       "      <td>Collins glass</td>\n",
       "      <td>Alcoholic</td>\n",
       "    </tr>\n",
       "    <tr>\n",
       "      <th>5</th>\n",
       "      <td>11004</td>\n",
       "      <td>Whiskey Sour</td>\n",
       "      <td>Ordinary Drink</td>\n",
       "      <td>Old-fashioned glass</td>\n",
       "      <td>Alcoholic</td>\n",
       "    </tr>\n",
       "    <tr>\n",
       "      <th>6</th>\n",
       "      <td>14560</td>\n",
       "      <td>A.D.M. (After Dinner Mint)</td>\n",
       "      <td>Cocktail</td>\n",
       "      <td>Irish coffee cup</td>\n",
       "      <td>Alcoholic</td>\n",
       "    </tr>\n",
       "    <tr>\n",
       "      <th>7</th>\n",
       "      <td>11170</td>\n",
       "      <td>Brandy Sour</td>\n",
       "      <td>Ordinary Drink</td>\n",
       "      <td>Whiskey sour glass</td>\n",
       "      <td>Alcoholic</td>\n",
       "    </tr>\n",
       "    <tr>\n",
       "      <th>8</th>\n",
       "      <td>11528</td>\n",
       "      <td>Irish Spring</td>\n",
       "      <td>Ordinary Drink</td>\n",
       "      <td>Collins glass</td>\n",
       "      <td>Alcoholic</td>\n",
       "    </tr>\n",
       "    <tr>\n",
       "      <th>9</th>\n",
       "      <td>16271</td>\n",
       "      <td>The Evil Blue Thing</td>\n",
       "      <td>Cocktail</td>\n",
       "      <td>Old-fashioned glass</td>\n",
       "      <td>Alcoholic</td>\n",
       "    </tr>\n",
       "  </tbody>\n",
       "</table>\n",
       "</div>"
      ],
      "text/plain": [
       "      id                      nombre        categoria                 vaso  \\\n",
       "0  17224         Absolutely Fabulous         Cocktail      Champagne flute   \n",
       "1  14181                  Cafe Savoy     Coffee / Tea           Coffee mug   \n",
       "2  12696               Lassi - Sweet  Other / Unknown       Highball glass   \n",
       "3  11369            Flying Scotchman   Ordinary Drink       Cocktail glass   \n",
       "4  15841                Mojito Extra         Cocktail        Collins glass   \n",
       "5  11004                Whiskey Sour   Ordinary Drink  Old-fashioned glass   \n",
       "6  14560  A.D.M. (After Dinner Mint)         Cocktail     Irish coffee cup   \n",
       "7  11170                 Brandy Sour   Ordinary Drink   Whiskey sour glass   \n",
       "8  11528                Irish Spring   Ordinary Drink        Collins glass   \n",
       "9  16271         The Evil Blue Thing         Cocktail  Old-fashioned glass   \n",
       "\n",
       "         alcohol  \n",
       "0      Alcoholic  \n",
       "1      Alcoholic  \n",
       "2  Non alcoholic  \n",
       "3      Alcoholic  \n",
       "4      Alcoholic  \n",
       "5      Alcoholic  \n",
       "6      Alcoholic  \n",
       "7      Alcoholic  \n",
       "8      Alcoholic  \n",
       "9      Alcoholic  "
      ]
     },
     "execution_count": 22,
     "metadata": {},
     "output_type": "execute_result"
    }
   ],
   "source": [
    "genera_cocktails(10)"
   ]
  }
 ],
 "metadata": {
  "kernelspec": {
   "display_name": "Python 3",
   "language": "python",
   "name": "python3"
  },
  "language_info": {
   "codemirror_mode": {
    "name": "ipython",
    "version": 3
   },
   "file_extension": ".py",
   "mimetype": "text/x-python",
   "name": "python",
   "nbconvert_exporter": "python",
   "pygments_lexer": "ipython3",
   "version": "3.10.0"
  }
 },
 "nbformat": 4,
 "nbformat_minor": 2
}
