{
 "cells": [
  {
   "cell_type": "markdown",
   "metadata": {},
   "source": [
    "# CONTRASTES DE HIPÓTESIS\n",
    "\n",
    "Máster: Data Science y Business Analytics\n",
    "\n",
    "Módulo: Estadística para Científicos de Datos\n",
    "\n",
    "Profesora: Paloma Fontanillo Rodrigo"
   ]
  },
  {
   "cell_type": "markdown",
   "metadata": {},
   "source": [
    "## Importamos las librerías necesarias"
   ]
  },
  {
   "cell_type": "code",
   "execution_count": 1,
   "metadata": {},
   "outputs": [],
   "source": [
    "import numpy as np\n",
    "import random\n",
    "np.random.seed(5)\n",
    "\n",
    "from scipy.stats import norm\n",
    "from scipy.stats import expon\n",
    "from scipy.stats import uniform\n",
    "\n",
    "from scipy.stats import ttest_1samp\n",
    "\n",
    "from scipy.stats import ttest_ind\n",
    "\n",
    "from scipy.stats import shapiro\n",
    "from scipy.stats import normaltest\n",
    "\n",
    "from scipy.stats import ks_2samp\n",
    "\n",
    "from scipy.stats import kstest\n",
    "\n",
    "from scipy.stats import levene\n",
    "\n",
    "import numpy as np"
   ]
  },
  {
   "cell_type": "markdown",
   "metadata": {},
   "source": [
    "https://docs.scipy.org/doc/scipy/reference/generated/scipy.stats.ttest_ind.html\n",
    "    \n",
    "https://docs.scipy.org/doc/scipy/reference/generated/scipy.stats.ttest_1samp.html    "
   ]
  },
  {
   "cell_type": "markdown",
   "metadata": {},
   "source": [
    "## Test t de student - Media = 0"
   ]
  },
  {
   "cell_type": "code",
   "execution_count": 2,
   "metadata": {},
   "outputs": [],
   "source": [
    "#Datos\n",
    "lizard_data = [6.2, 6.6, 7.1, 7.4, 7.6, 7.9, 8, 8.3, 8.4, 8.5, 8.6, 8.8, 8.8, 9.1, \n",
    "                9.2, 9.4, 9.4, 9.7, 9.9, 10.2, 10.4, 10.8,11.3, 11.9]"
   ]
  },
  {
   "cell_type": "markdown",
   "metadata": {},
   "source": [
    "Empleando el test t de Student con el siguiente comando obtenemos un p-valor muy pequeño. En consecuencia la hipótesis nula de que la media es 0 queda rechazada. \n",
    "\n",
    "El contraste de hipótesis de si la media de los lagartos es 0, se formaliza como:\n",
    "\n",
    "Hipótesis nula: mu=0\n",
    "\n",
    "Hipótesis alternativa: mu!=0"
   ]
  },
  {
   "cell_type": "code",
   "execution_count": 3,
   "metadata": {},
   "outputs": [
    {
     "data": {
      "text/plain": [
       "TtestResult(statistic=30.47688743400245, pvalue=4.242487053129581e-20, df=23)"
      ]
     },
     "execution_count": 3,
     "metadata": {},
     "output_type": "execute_result"
    }
   ],
   "source": [
    "ttest_1samp(lizard_data, popmean=0)\n"
   ]
  },
  {
   "cell_type": "code",
   "execution_count": 4,
   "metadata": {},
   "outputs": [
    {
     "data": {
      "text/plain": [
       "30.47688743400245"
      ]
     },
     "execution_count": 4,
     "metadata": {},
     "output_type": "execute_result"
    }
   ],
   "source": [
    "estadistico=ttest_1samp(lizard_data, popmean=0)[0]\n",
    "estadistico"
   ]
  },
  {
   "cell_type": "code",
   "execution_count": 5,
   "metadata": {},
   "outputs": [
    {
     "data": {
      "text/plain": [
       "4.242487053129581e-20"
      ]
     },
     "execution_count": 5,
     "metadata": {},
     "output_type": "execute_result"
    }
   ],
   "source": [
    "p_valor=ttest_1samp(lizard_data, popmean=0)[1]\n",
    "p_valor"
   ]
  },
  {
   "cell_type": "markdown",
   "metadata": {},
   "source": [
    "p-valor pequeño -> Rechazamos H0 -> Aceptamos H1"
   ]
  },
  {
   "cell_type": "markdown",
   "metadata": {},
   "source": [
    "## Test t de student - Media = valor"
   ]
  },
  {
   "cell_type": "markdown",
   "metadata": {},
   "source": [
    "Hipótesis nula: mu=8.4\n",
    "\n",
    "Hipótesis alternativa: mu!=8.4"
   ]
  },
  {
   "cell_type": "code",
   "execution_count": 6,
   "metadata": {},
   "outputs": [
    {
     "data": {
      "text/plain": [
       "TtestResult(statistic=1.6987117586165308, pvalue=0.10286258347731378, df=23)"
      ]
     },
     "execution_count": 6,
     "metadata": {},
     "output_type": "execute_result"
    }
   ],
   "source": [
    "ttest_1samp(lizard_data, popmean=8.4) #unilateral H1: mu!=8.4\n"
   ]
  },
  {
   "cell_type": "markdown",
   "metadata": {},
   "source": [
    "p-valor pequeño -> Rechazamos H0 -> Aceptamos H1"
   ]
  },
  {
   "cell_type": "markdown",
   "metadata": {},
   "source": [
    "## Test t de student unilaterales- Media < valor"
   ]
  },
  {
   "cell_type": "code",
   "execution_count": 7,
   "metadata": {},
   "outputs": [],
   "source": [
    "#Datos\n",
    "lizard_data = [6.2, 6.6, 7.1, 7.4, 7.6, 7.9, 8, 8.3, 8.4, 8.5, 8.6, 8.8, 8.8, 9.1, \n",
    "                9.2, 9.4, 9.4, 9.7, 9.9, 10.2, 10.4, 10.8,11.3, 11.9]"
   ]
  },
  {
   "cell_type": "markdown",
   "metadata": {},
   "source": [
    "Hipótesis nula: mu=8.4\n",
    "\n",
    "Hipótesis alternativa: mu<8.4"
   ]
  },
  {
   "cell_type": "code",
   "execution_count": 8,
   "metadata": {},
   "outputs": [
    {
     "data": {
      "text/plain": [
       "TtestResult(statistic=1.6987117586165308, pvalue=0.9485687082613431, df=23)"
      ]
     },
     "execution_count": 8,
     "metadata": {},
     "output_type": "execute_result"
    }
   ],
   "source": [
    "ttest_1samp(lizard_data, popmean=8.4,  alternative='less') #unilateral H1: mu<8.4\n"
   ]
  },
  {
   "cell_type": "markdown",
   "metadata": {},
   "source": [
    "p-valor pequeño -> Rechazamos H0 -> Aceptamos H1"
   ]
  },
  {
   "cell_type": "markdown",
   "metadata": {},
   "source": [
    "## Test t de student unilaterales- Media > valor"
   ]
  },
  {
   "cell_type": "markdown",
   "metadata": {},
   "source": [
    "Hipótesis nula: mu=8.4\n",
    "\n",
    "Hipótesis alternativa: mu>8.4"
   ]
  },
  {
   "cell_type": "code",
   "execution_count": 9,
   "metadata": {},
   "outputs": [
    {
     "data": {
      "text/plain": [
       "TtestResult(statistic=1.6987117586165308, pvalue=0.05143129173865689, df=23)"
      ]
     },
     "execution_count": 9,
     "metadata": {},
     "output_type": "execute_result"
    }
   ],
   "source": [
    "ttest_1samp(lizard_data, popmean=8.4,  alternative='greater') #unilateral H1: mu>8.4\n"
   ]
  },
  {
   "cell_type": "markdown",
   "metadata": {},
   "source": [
    "p-valor pequeño -> Rechazamos H0 -> Aceptamos H1"
   ]
  },
  {
   "cell_type": "markdown",
   "metadata": {},
   "source": [
    "## Contraste Diferencia de medias de dos muestras normales"
   ]
  },
  {
   "cell_type": "markdown",
   "metadata": {},
   "source": [
    "#### Distinta varianza"
   ]
  },
  {
   "cell_type": "markdown",
   "metadata": {},
   "source": [
    "En este caso vamos a realizar un contraste sobre las medias de dos muestras normales.\n",
    "\n",
    "H0: mu_x - mu_y >= 0\n",
    "\n",
    "H1: mu_x-mu_y < 0\n",
    "\n",
    "En el primer caso vamos a suponer que las muestras, si bien son normales e independientes, cuentan con una varianza distinta. "
   ]
  },
  {
   "cell_type": "code",
   "execution_count": 10,
   "metadata": {},
   "outputs": [],
   "source": [
    "#Datos\n",
    "x = norm.rvs(loc=3, scale=2, size=200)\n",
    "y = norm.rvs(loc=4, scale=1, size=200)"
   ]
  },
  {
   "cell_type": "code",
   "execution_count": 11,
   "metadata": {},
   "outputs": [
    {
     "data": {
      "text/plain": [
       "TtestResult(statistic=-5.72123662234618, pvalue=1.3042592546516621e-08, df=293.2573673512629)"
      ]
     },
     "execution_count": 11,
     "metadata": {},
     "output_type": "execute_result"
    }
   ],
   "source": [
    "# T Test\n",
    "ttest_ind(x, y, alternative = 'less', equal_var=False )"
   ]
  },
  {
   "cell_type": "markdown",
   "metadata": {},
   "source": [
    "Como el p valor es muy pequeño, aceptamos la hipótesis alternativa H1: mu_x-mu_y < 0"
   ]
  },
  {
   "cell_type": "markdown",
   "metadata": {},
   "source": [
    "p-valor pequeño -> Rechazamos H0 -> Aceptamos H1"
   ]
  },
  {
   "cell_type": "markdown",
   "metadata": {},
   "source": [
    "#### Misma varianza"
   ]
  },
  {
   "cell_type": "markdown",
   "metadata": {},
   "source": [
    "En el segundo caso vamos a suponer muestras normales, independientes y con la misma varianza. Es por ello que podremos utilizar el test de t-Student para dos muestars."
   ]
  },
  {
   "cell_type": "markdown",
   "metadata": {},
   "source": [
    "H0: mu_x - mu_y >= 0\n",
    "\n",
    "H1: mu_x-mu_y < 0"
   ]
  },
  {
   "cell_type": "code",
   "execution_count": 12,
   "metadata": {},
   "outputs": [],
   "source": [
    "#Datos\n",
    "x = norm.rvs(loc=3, scale=2, size=200)\n",
    "y = norm.rvs(loc=2, scale=2, size=200)"
   ]
  },
  {
   "cell_type": "code",
   "execution_count": 13,
   "metadata": {},
   "outputs": [
    {
     "data": {
      "text/plain": [
       "TtestResult(statistic=5.016956708995771, pvalue=0.999999603653558, df=398.0)"
      ]
     },
     "execution_count": 13,
     "metadata": {},
     "output_type": "execute_result"
    }
   ],
   "source": [
    "ttest_ind(x, y, alternative = 'less', equal_var=True )"
   ]
  },
  {
   "cell_type": "markdown",
   "metadata": {},
   "source": [
    "Como el p valor vale 1 y es mayor que alpha, aceptamos la hipótesis nula H0: mu_x - mu_y >= 0"
   ]
  },
  {
   "cell_type": "markdown",
   "metadata": {},
   "source": [
    "p-valor pequeño -> Rechazamos H0 -> Aceptamos H1"
   ]
  },
  {
   "cell_type": "markdown",
   "metadata": {},
   "source": [
    "## Contraste Diferencia de varianzas de dos muestras normales"
   ]
  },
  {
   "cell_type": "markdown",
   "metadata": {},
   "source": [
    "H0: varianzas iguales\n",
    "\n",
    "H1: varianzas diferentes"
   ]
  },
  {
   "cell_type": "code",
   "execution_count": 14,
   "metadata": {},
   "outputs": [],
   "source": [
    "#Datos\n",
    "x = norm.rvs(loc=3, scale=1, size=100)\n",
    "y = norm.rvs(loc=8, scale=1.6, size=100)\n",
    "z = norm.rvs(loc=8, scale=1, size=100)"
   ]
  },
  {
   "cell_type": "code",
   "execution_count": 15,
   "metadata": {},
   "outputs": [
    {
     "data": {
      "text/plain": [
       "LeveneResult(statistic=4.056378430490076, pvalue=0.04535805871069756)"
      ]
     },
     "execution_count": 15,
     "metadata": {},
     "output_type": "execute_result"
    }
   ],
   "source": [
    "levene(y, x)"
   ]
  },
  {
   "cell_type": "code",
   "execution_count": 16,
   "metadata": {},
   "outputs": [
    {
     "data": {
      "text/plain": [
       "LeveneResult(statistic=2.6789941752063164, pvalue=0.10326835767078729)"
      ]
     },
     "execution_count": 16,
     "metadata": {},
     "output_type": "execute_result"
    }
   ],
   "source": [
    "levene(z, x)"
   ]
  },
  {
   "cell_type": "markdown",
   "metadata": {},
   "source": [
    "p-valor pequeño -> Rechazamos H0 -> Aceptamos H1"
   ]
  },
  {
   "cell_type": "markdown",
   "metadata": {},
   "source": [
    "## Contraste Normalidad"
   ]
  },
  {
   "cell_type": "markdown",
   "metadata": {},
   "source": [
    "Para hacer los contrastes de manera rigurosa debemos asegurarnos que la distribución se aproxima por una Normal. Para ello tenemos los siguientes contrastes.\n",
    "\n",
    "En este primer caso generamos datos de una exponencial y observamos mediante el contraste shapiro que el pvalor dictamina que no es normal, a su vez vemos en un qqplot que los puntos no están sobre la línea, esto significa que los cuantiles no están distribuídos como en una normal."
   ]
  },
  {
   "cell_type": "markdown",
   "metadata": {},
   "source": [
    "H0: La muestra es normal\n",
    "\n",
    "H1: La muestra no es normal"
   ]
  },
  {
   "cell_type": "code",
   "execution_count": 17,
   "metadata": {},
   "outputs": [],
   "source": [
    "#Datos\n",
    "muestra = expon.rvs(scale=10, size=500)"
   ]
  },
  {
   "cell_type": "code",
   "execution_count": 18,
   "metadata": {},
   "outputs": [
    {
     "data": {
      "text/plain": [
       "ShapiroResult(statistic=0.838525652885437, pvalue=3.8812198874943865e-22)"
      ]
     },
     "execution_count": 18,
     "metadata": {},
     "output_type": "execute_result"
    }
   ],
   "source": [
    "# Shapiro-Wilk test\n",
    "shapiro_test = shapiro(muestra) #H0 es que la muestra es normal\n",
    "shapiro_test"
   ]
  },
  {
   "cell_type": "markdown",
   "metadata": {},
   "source": [
    "En este segundo caso, considerando una muestra que sigue una distribución normal, observamos un pvalor que indica que es normal y una adecuación a la línea buena:"
   ]
  },
  {
   "cell_type": "markdown",
   "metadata": {},
   "source": [
    "H0: La muestra es normal\n",
    "\n",
    "H1: La muestra no es normal"
   ]
  },
  {
   "cell_type": "code",
   "execution_count": 19,
   "metadata": {},
   "outputs": [],
   "source": [
    "#Datos\n",
    "muestra = norm.rvs(4,2, size=4999)"
   ]
  },
  {
   "cell_type": "code",
   "execution_count": 20,
   "metadata": {},
   "outputs": [
    {
     "data": {
      "text/plain": [
       "ShapiroResult(statistic=0.9996004104614258, pvalue=0.41754618287086487)"
      ]
     },
     "execution_count": 20,
     "metadata": {},
     "output_type": "execute_result"
    }
   ],
   "source": [
    "# Shapiro-Wilk test\n",
    "shapiro_test = shapiro(muestra) #H0 es que la muestra es normal\n",
    "shapiro_test"
   ]
  },
  {
   "cell_type": "markdown",
   "metadata": {},
   "source": [
    "p-valor pequeño -> Rechazamos H0 -> Aceptamos H1"
   ]
  },
  {
   "cell_type": "markdown",
   "metadata": {},
   "source": [
    "## Contraste Igualdad de distribuciones"
   ]
  },
  {
   "cell_type": "markdown",
   "metadata": {},
   "source": [
    "El test de Kolmogorov-Smirnov es un test no paramétrico que sirve para contrastar si dos muestras proceden de una misma distribución. Se resalta que si bien se podría usar para detectar la normalidad de una muestra, se aconseja el uso de test como el Shapiro para dicho fin. Como se comenta en los apuntes, los qqplots también permiten saber si dos muestras distintas proceden de una misma distribución, vemos que no se ajustan:"
   ]
  },
  {
   "cell_type": "markdown",
   "metadata": {},
   "source": [
    "H0: misma distribución\n",
    "\n",
    "H1: distinta distribución"
   ]
  },
  {
   "cell_type": "code",
   "execution_count": 21,
   "metadata": {},
   "outputs": [],
   "source": [
    "#Datos\n",
    "muestra_A = norm.rvs(4,2, size=4999)\n",
    "muestra_B = uniform.rvs(0,200, size=500)"
   ]
  },
  {
   "cell_type": "code",
   "execution_count": 22,
   "metadata": {},
   "outputs": [
    {
     "data": {
      "text/plain": [
       "KstestResult(statistic=0.9501996399279856, pvalue=1.73e-322, statistic_location=9.719816694197146, statistic_sign=1)"
      ]
     },
     "execution_count": 22,
     "metadata": {},
     "output_type": "execute_result"
    }
   ],
   "source": [
    "ks_2samp(muestra_A, muestra_B)"
   ]
  },
  {
   "cell_type": "markdown",
   "metadata": {},
   "source": [
    "p-valor pequeño -> Rechazamos H0 -> Aceptamos H1"
   ]
  },
  {
   "cell_type": "markdown",
   "metadata": {},
   "source": [
    "## Contraste Distribución de referencia"
   ]
  },
  {
   "cell_type": "code",
   "execution_count": 23,
   "metadata": {},
   "outputs": [],
   "source": [
    "muestra_A = norm.rvs(4,2, size=4999)\n",
    "muestra_B = uniform.rvs(0,200, size=500)"
   ]
  },
  {
   "cell_type": "code",
   "execution_count": 24,
   "metadata": {},
   "outputs": [
    {
     "data": {
      "text/plain": [
       "KstestResult(statistic=0.9981996399279855, pvalue=0.0, statistic_location=9.995363727485529, statistic_sign=1)"
      ]
     },
     "execution_count": 24,
     "metadata": {},
     "output_type": "execute_result"
    }
   ],
   "source": [
    "kstest(muestra_A, cdf=expon.cdf, args=[10])"
   ]
  },
  {
   "cell_type": "code",
   "execution_count": 25,
   "metadata": {},
   "outputs": [
    {
     "data": {
      "text/plain": [
       "KstestResult(statistic=0.010676597470660854, pvalue=0.615031446384029, statistic_location=5.158668829493869, statistic_sign=-1)"
      ]
     },
     "execution_count": 25,
     "metadata": {},
     "output_type": "execute_result"
    }
   ],
   "source": [
    "kstest(muestra_A, cdf=norm.cdf, args=[4,2])"
   ]
  },
  {
   "cell_type": "code",
   "execution_count": 26,
   "metadata": {},
   "outputs": [
    {
     "data": {
      "text/plain": [
       "KstestResult(statistic=0.5127775377673596, pvalue=0.0, statistic_location=6.9906479747568255, statistic_sign=1)"
      ]
     },
     "execution_count": 26,
     "metadata": {},
     "output_type": "execute_result"
    }
   ],
   "source": [
    "kstest(muestra_A, cdf=norm.cdf, args=[8,5])"
   ]
  },
  {
   "cell_type": "code",
   "execution_count": 27,
   "metadata": {},
   "outputs": [
    {
     "data": {
      "text/plain": [
       "KstestResult(statistic=0.9436759290035687, pvalue=0.0, statistic_location=9.251317902385248, statistic_sign=-1)"
      ]
     },
     "execution_count": 27,
     "metadata": {},
     "output_type": "execute_result"
    }
   ],
   "source": [
    "kstest(muestra_B, cdf=norm.cdf, args=[4,2])"
   ]
  },
  {
   "cell_type": "code",
   "execution_count": 28,
   "metadata": {},
   "outputs": [
    {
     "data": {
      "text/plain": [
       "KstestResult(statistic=0.04077069282966961, pvalue=0.3669834059485363, statistic_location=155.7541385659339, statistic_sign=-1)"
      ]
     },
     "execution_count": 28,
     "metadata": {},
     "output_type": "execute_result"
    }
   ],
   "source": [
    "kstest(muestra_B, cdf=uniform.cdf, args=[0,200])"
   ]
  },
  {
   "cell_type": "code",
   "execution_count": null,
   "metadata": {},
   "outputs": [],
   "source": []
  },
  {
   "cell_type": "code",
   "execution_count": null,
   "metadata": {},
   "outputs": [],
   "source": []
  },
  {
   "cell_type": "code",
   "execution_count": null,
   "metadata": {},
   "outputs": [],
   "source": []
  },
  {
   "cell_type": "code",
   "execution_count": null,
   "metadata": {},
   "outputs": [],
   "source": []
  }
 ],
 "metadata": {
  "kernelspec": {
   "display_name": "Python 3 (ipykernel)",
   "language": "python",
   "name": "python3"
  },
  "language_info": {
   "codemirror_mode": {
    "name": "ipython",
    "version": 3
   },
   "file_extension": ".py",
   "mimetype": "text/x-python",
   "name": "python",
   "nbconvert_exporter": "python",
   "pygments_lexer": "ipython3",
   "version": "3.11.5"
  },
  "toc": {
   "base_numbering": 1,
   "nav_menu": {},
   "number_sections": true,
   "sideBar": true,
   "skip_h1_title": false,
   "title_cell": "Table of Contents",
   "title_sidebar": "Contents",
   "toc_cell": false,
   "toc_position": {
    "height": "calc(100% - 180px)",
    "left": "10px",
    "top": "150px",
    "width": "341.65px"
   },
   "toc_section_display": true,
   "toc_window_display": true
  }
 },
 "nbformat": 4,
 "nbformat_minor": 4
}
