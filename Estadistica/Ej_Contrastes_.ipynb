{
 "cells": [
  {
   "cell_type": "markdown",
   "metadata": {},
   "source": [
    "# CONTRASTES DE HIPÓTESIS\n",
    "\n",
    "Máster: Data Science y Business Analytics\n",
    "\n",
    "Módulo: Estadística para Científicos de Datos\n",
    "\n",
    "Profesora: Paloma Fontanillo Rodrigo"
   ]
  },
  {
   "cell_type": "markdown",
   "metadata": {},
   "source": [
    "## Importamos las librerías necesarias"
   ]
  },
  {
   "cell_type": "code",
   "execution_count": 2,
   "metadata": {},
   "outputs": [],
   "source": [
    "import numpy as np\n",
    "import random\n",
    "np.random.seed(5)\n",
    "\n",
    "from scipy.stats import norm\n",
    "from scipy.stats import expon\n",
    "from scipy.stats import uniform\n",
    "\n",
    "from scipy.stats import ttest_1samp\n",
    "\n",
    "from scipy.stats import ttest_ind\n",
    "\n",
    "from scipy.stats import shapiro\n",
    "from scipy.stats import normaltest\n",
    "\n",
    "from scipy.stats import kstest\n",
    "from scipy.stats import ks_2samp\n",
    "\n",
    "from scipy.stats import levene\n",
    "\n",
    "import numpy as np"
   ]
  },
  {
   "cell_type": "markdown",
   "metadata": {},
   "source": [
    "## EJERCICIO 1"
   ]
  },
  {
   "cell_type": "markdown",
   "metadata": {},
   "source": [
    "###### ●Genera una muestra de 300 observaciones de una normal con media 27 y desviación típica 4 - Muestra_A"
   ]
  },
  {
   "cell_type": "code",
   "execution_count": 4,
   "metadata": {},
   "outputs": [
    {
     "data": {
      "text/plain": [
       "array([28.70865608, 37.35427834, 29.61157206, 29.02335917, 25.09619668,\n",
       "       31.04363496, 32.43680388, 20.19164013, 21.47867108, 35.40710673,\n",
       "       28.70359667, 27.51680092, 29.25185005, 31.3870589 , 30.2032754 ,\n",
       "       26.10766693, 35.25468266, 27.05049401, 23.50090481, 24.77168248,\n",
       "       26.4707922 , 25.48310006, 26.24882518, 28.2618646 , 13.86433821,\n",
       "       23.88522699, 30.80137883, 29.25200521, 24.27738374, 24.50198644,\n",
       "       31.56198375, 26.00908423, 24.8791789 , 34.42285762, 25.52051149,\n",
       "       29.73698726, 26.81731881, 27.2031466 , 23.21109778, 23.69205033,\n",
       "       32.03229443, 22.44443897, 28.10944047, 22.22221614, 26.03825266,\n",
       "       26.85116694, 20.4812864 , 31.5394535 , 26.26480227, 31.85895091,\n",
       "       23.26288562, 30.64744965, 36.33696038, 27.86612782, 24.41172609,\n",
       "       28.91482422, 27.56330861, 26.1600056 , 26.51797342, 24.68469687,\n",
       "       28.69547037, 25.45067455, 23.57252741, 30.26125557, 26.33673593,\n",
       "       37.58141378, 26.00212049, 24.13064842, 24.80201067, 28.4843478 ,\n",
       "       24.21061678, 21.94679535, 33.55684934, 22.03942146, 33.05458307,\n",
       "       27.56422627, 22.75160816, 33.66552161, 26.18618558, 22.96980989,\n",
       "       27.26163824, 32.14578295, 29.73497327, 30.30497918, 34.0173453 ,\n",
       "       27.85825594, 28.50325914, 26.09606334, 21.18122452, 26.42186136,\n",
       "       33.46791522, 20.07578549, 32.37578454, 28.0461583 , 23.35792258,\n",
       "       27.26187796, 34.10528852, 24.70746725, 30.16237445, 31.52605589,\n",
       "       23.41162401, 29.53084745, 29.14062061, 25.10339036, 29.73994366,\n",
       "       25.55522326, 24.69028026, 22.061082  , 28.54191957, 25.28324003,\n",
       "       24.76429492, 22.40400009, 21.53937689, 23.84304394, 29.91983927,\n",
       "       23.74447253, 32.77943799, 28.63303783, 27.63226058, 22.18703734,\n",
       "       34.81435472, 21.23746601, 29.13630044, 33.77731329, 26.2042111 ,\n",
       "       24.26589728, 26.92400751, 30.66265038, 32.43482892, 29.41775074,\n",
       "       22.7223375 , 24.3032408 , 27.81363221, 21.89533936, 26.03878667,\n",
       "       35.96381428, 22.77015234, 31.64223605, 23.26806226, 25.63710445,\n",
       "       26.71947548, 20.97790739, 26.57968067, 32.18728331, 29.86876999,\n",
       "       29.79108443, 23.78200863, 26.41979288, 27.8092916 , 29.7147982 ,\n",
       "       32.37004752, 23.00267706, 33.79819236, 25.85513507, 25.99345214,\n",
       "       22.16621255, 26.72881966, 26.08725606, 22.06198267, 25.83446506,\n",
       "       27.48542873, 25.35426458, 30.11704141, 22.90126166, 30.55952867,\n",
       "       26.25607013, 28.48907912, 19.61925945, 27.51658349, 26.75239908,\n",
       "       30.74283162, 22.28038732, 32.45616603, 22.66947532, 32.26677675,\n",
       "       29.31278251, 23.98215441, 35.67904637, 22.21750264, 26.31210316,\n",
       "       27.82826822, 29.08713498, 27.90555716, 30.19652111, 28.83698324,\n",
       "       27.13079868, 23.28174831, 25.61985198, 30.60991809, 22.33400277,\n",
       "       27.44396725, 18.80641368, 24.21755622, 20.50735765, 31.97816312,\n",
       "       19.70900322, 26.04157441, 29.91377226, 29.43553708, 30.09273885,\n",
       "       31.24941532, 28.8940201 , 30.33839149, 26.7834349 , 26.89744125,\n",
       "       19.95839742, 27.67482085, 32.06910729, 24.008206  , 22.3210114 ,\n",
       "       27.36493786, 31.53767595, 31.82629734, 20.99813903, 28.80008279,\n",
       "       24.37500263, 28.10988388, 17.96918857, 30.68715084, 25.41763353,\n",
       "       27.8200387 , 26.2813959 , 22.86413615, 29.10215017, 25.07331802,\n",
       "       24.24633547, 29.63677245, 26.66559352, 24.20194691, 30.75715259,\n",
       "       24.63833074, 26.87459605, 29.93689075, 30.77483862, 31.80064096,\n",
       "       33.62697563, 27.17993276, 23.8072946 , 33.59213608, 32.56643053,\n",
       "       25.80255487, 29.80481965, 25.48959376, 20.77079572, 31.15270247,\n",
       "       28.38420746, 27.4895271 , 33.76002415, 32.73084857, 24.4335055 ,\n",
       "       22.56589578, 19.42118695, 27.02488915, 25.45550107, 28.45278861,\n",
       "       27.051395  , 24.37467048, 25.3826012 , 20.76797468, 31.91352015,\n",
       "       24.86979151, 29.44942426, 24.36900678, 27.2834089 , 29.5202672 ,\n",
       "       25.90479314, 23.73911946, 36.30084156, 26.20606072, 29.2730922 ,\n",
       "       26.67623845, 23.90708766, 32.25703716, 28.5646494 , 28.36364868,\n",
       "       17.89738247, 28.14861101, 30.35824716, 28.13197547, 26.4062645 ,\n",
       "       31.77139437, 27.98443172, 29.32240964, 31.14667352, 31.00355936,\n",
       "       21.74304194, 28.34519112, 23.95351212, 18.96886371, 28.14169872,\n",
       "       20.04831564, 25.13407518, 16.96306062, 22.91591056, 25.12076549,\n",
       "       26.96896618, 24.84055844, 23.30224997, 23.39588959, 33.12885195])"
      ]
     },
     "execution_count": 4,
     "metadata": {},
     "output_type": "execute_result"
    }
   ],
   "source": [
    "x = norm.rvs(loc=27, scale=4, size=300)\n",
    "x"
   ]
  },
  {
   "cell_type": "markdown",
   "metadata": {},
   "source": [
    "###### ►Comprueba con un test de hipótesis si la muestra tiene media 0"
   ]
  },
  {
   "cell_type": "code",
   "execution_count": 5,
   "metadata": {},
   "outputs": [
    {
     "data": {
      "text/plain": [
       "TtestResult(statistic=117.0497361541034, pvalue=8.645007222771151e-252, df=299)"
      ]
     },
     "execution_count": 5,
     "metadata": {},
     "output_type": "execute_result"
    }
   ],
   "source": [
    "ttest_1samp(x, popmean=0)\n",
    "#La media es 0"
   ]
  },
  {
   "cell_type": "markdown",
   "metadata": {},
   "source": [
    "###### Escribe cual es la hipótesis nula y cual es la alternativa\n",
    "La hipotésis nula es cuando la media es igual 0 y la hipotésis alternativa es cuando la media es diferente de 0"
   ]
  },
  {
   "cell_type": "markdown",
   "metadata": {},
   "source": [
    "###### Interpreta el p-valor\n",
    "El p valor del presente ejercicio es pequeño porque es mayor a 0,1, entonces H0 se rechaza"
   ]
  },
  {
   "cell_type": "markdown",
   "metadata": {},
   "source": [
    "###### ►Comprueba con un test de hipótesis si la muestra tiene media menor que 0"
   ]
  },
  {
   "cell_type": "code",
   "execution_count": 6,
   "metadata": {},
   "outputs": [
    {
     "data": {
      "text/plain": [
       "TtestResult(statistic=117.0497361541034, pvalue=1.0, df=299)"
      ]
     },
     "execution_count": 6,
     "metadata": {},
     "output_type": "execute_result"
    }
   ],
   "source": [
    "ttest_1samp(x, popmean=0,  alternative='less')\n",
    "#Como es mayor a 0.1 se acepta"
   ]
  },
  {
   "cell_type": "markdown",
   "metadata": {},
   "source": [
    "###### Escribe cual es la hipótesis nula y cual es la alternativa\n",
    "La hipotésis nula es cuando la media es igual 0 y la hipotésis alternativa es cuando la media es diferente de 0"
   ]
  },
  {
   "cell_type": "markdown",
   "metadata": {},
   "source": [
    "###### Interpreta el p-valor\n",
    "El p valor del presente ejercicio de que la media sea menor a 0 es 1.0, por lo tanto se acepta"
   ]
  },
  {
   "cell_type": "markdown",
   "metadata": {},
   "source": [
    "###### ►Comprueba con un test de hipótesis si la muestra tiene media mayor que 0"
   ]
  },
  {
   "cell_type": "code",
   "execution_count": 7,
   "metadata": {},
   "outputs": [
    {
     "data": {
      "text/plain": [
       "TtestResult(statistic=117.0497361541034, pvalue=4.3225036113855757e-252, df=299)"
      ]
     },
     "execution_count": 7,
     "metadata": {},
     "output_type": "execute_result"
    }
   ],
   "source": [
    "ttest_1samp(x, popmean=0,  alternative='greater')"
   ]
  },
  {
   "cell_type": "markdown",
   "metadata": {},
   "source": [
    "###### Escribe cual es la hipótesis nula y cual es la alternativa\n",
    "La hipotésis nula es cuando la media es igual 0 y la hipotésis alternativa es cuando la media es diferente de 0"
   ]
  },
  {
   "cell_type": "markdown",
   "metadata": {},
   "source": [
    "###### Interpreta el p-valor\n",
    "el p valor tiene un valor menor a 0, por lo tanto se rechaza porque este no es mayor a 0"
   ]
  },
  {
   "cell_type": "markdown",
   "metadata": {},
   "source": [
    "###### ►Comprueba con un test de hipótesis si la muestra tiene media 27"
   ]
  },
  {
   "cell_type": "code",
   "execution_count": 8,
   "metadata": {},
   "outputs": [
    {
     "data": {
      "text/plain": [
       "TtestResult(statistic=0.4634157156015352, pvalue=0.6434035608690118, df=299)"
      ]
     },
     "execution_count": 8,
     "metadata": {},
     "output_type": "execute_result"
    }
   ],
   "source": [
    "ttest_1samp(x, popmean=27)"
   ]
  },
  {
   "cell_type": "code",
   "execution_count": null,
   "metadata": {},
   "outputs": [],
   "source": [
    "# En el punto anterior se puede comprobar que la media no puede ser 27, porque el pvalue es mayor a 0.1"
   ]
  },
  {
   "cell_type": "markdown",
   "metadata": {},
   "source": [
    "###### Escribe cual es la hipótesis nula y cual es la alternativa\n",
    "La hipotésis nula es cuando la media es igual 0 y la hipotésis alternativa es cuando la media es diferente de 0"
   ]
  },
  {
   "cell_type": "markdown",
   "metadata": {},
   "source": [
    "###### Interpreta el p-valor\n",
    "En el punto anterior se puede comprobar que la media no puede ser 27, porque el pvalue es mayor a 0.1"
   ]
  },
  {
   "cell_type": "markdown",
   "metadata": {},
   "source": [
    "## EJERCICIO 2"
   ]
  },
  {
   "cell_type": "markdown",
   "metadata": {},
   "source": [
    "###### ●Genera una muestra de 300 observaciones de una normal con media 340 y desviación típica 15 - Muestra_B"
   ]
  },
  {
   "cell_type": "code",
   "execution_count": 10,
   "metadata": {},
   "outputs": [
    {
     "data": {
      "text/plain": [
       "array([315.309828  , 313.09510576, 325.3099204 , 324.84087711,\n",
       "       330.83372946, 324.10306171, 337.95515035, 331.03699322,\n",
       "       343.09725788, 340.05097366, 349.00293188, 325.5885004 ,\n",
       "       326.70145589, 323.3297687 , 341.40815299, 351.00978124,\n",
       "       357.38822466, 342.56287804, 337.96671249, 351.17154188,\n",
       "       339.30735302, 325.02126548, 351.20747778, 333.72917614,\n",
       "       317.82439768, 337.23776013, 327.59093541, 339.42346439,\n",
       "       329.20689198, 335.13069963, 330.88401586, 338.16468208,\n",
       "       348.62505157, 343.65189256, 339.98624341, 355.33655089,\n",
       "       319.5727612 , 342.4979092 , 357.54627303, 348.392203  ,\n",
       "       356.87045491, 326.10603311, 357.18957946, 329.48313045,\n",
       "       356.95257009, 343.81395122, 352.896546  , 328.28871702,\n",
       "       336.77370018, 312.41862329, 345.47362811, 351.24201424,\n",
       "       345.77531572, 357.25001695, 349.53759866, 342.48112875,\n",
       "       348.89707109, 332.45670499, 354.53349432, 344.82522041,\n",
       "       345.74097438, 338.70097783, 332.10238002, 326.56353837,\n",
       "       336.66449469, 351.55938746, 314.39089046, 342.69884306,\n",
       "       394.18477768, 344.43193091, 339.02097993, 347.25540328,\n",
       "       339.48377967, 343.20223028, 344.08653773, 327.00816415,\n",
       "       359.7949077 , 345.10966191, 358.60731119, 344.47826333,\n",
       "       357.91900027, 342.87594358, 387.57235179, 359.34323842,\n",
       "       362.02895293, 341.38448519, 319.35462049, 337.63868857,\n",
       "       350.06190108, 344.44018389, 333.91521436, 331.20903236,\n",
       "       323.97270332, 335.45381227, 351.52483088, 351.99083351,\n",
       "       351.59531243, 339.17716396, 344.75359762, 341.67486359,\n",
       "       348.14153542, 346.01368445, 350.79558198, 339.67592646,\n",
       "       340.36059843, 362.13279584, 360.45170644, 309.90837033,\n",
       "       346.28010987, 346.17041348, 353.27243602, 308.99514821,\n",
       "       315.44287295, 333.89820194, 341.64124741, 323.09667197,\n",
       "       356.55874942, 355.0016747 , 349.43265121, 352.12301347,\n",
       "       322.57569127, 337.49903393, 305.14400279, 354.09121102,\n",
       "       356.58738965, 345.49886274, 324.78220458, 340.13436372,\n",
       "       353.82934208, 321.41216536, 342.97282028, 350.24776348,\n",
       "       328.38000883, 331.41755406, 357.32688353, 351.02249457,\n",
       "       360.84300866, 343.85318953, 325.61596056, 339.21380478,\n",
       "       330.77003483, 336.23670871, 347.19794382, 362.36612766,\n",
       "       342.50999275, 367.84297356, 320.88879907, 337.52963955,\n",
       "       340.80313493, 309.09744158, 316.45341497, 335.48258633,\n",
       "       342.09220901, 346.84300636, 341.63721173, 335.99938349,\n",
       "       320.27768347, 341.14874993, 364.20329383, 347.06212648,\n",
       "       330.28655922, 342.5477406 , 346.85058105, 359.08948632,\n",
       "       332.49063973, 347.97129665, 348.85853918, 336.12448021,\n",
       "       339.15765372, 334.40003459, 341.55787618, 344.51194991,\n",
       "       322.68934605, 338.48765035, 363.12178514, 340.48108223,\n",
       "       313.05648529, 362.09244059, 337.22767526, 343.16413239,\n",
       "       348.51125005, 334.78137492, 325.61112764, 329.87736105,\n",
       "       344.61774265, 340.50381535, 336.45349423, 372.27837814,\n",
       "       344.39677397, 354.95932688, 372.07469033, 342.81142291,\n",
       "       334.90209237, 337.04446127, 342.6677559 , 367.42953975,\n",
       "       356.68076513, 337.87661134, 332.55761768, 352.09528949,\n",
       "       367.80581621, 332.36897706, 364.65937663, 345.86027615,\n",
       "       341.35230493, 337.50157012, 331.23550755, 334.3321434 ,\n",
       "       359.53338035, 320.43333055, 334.77205593, 340.53562885,\n",
       "       324.23690014, 333.95913205, 320.16525878, 350.29185261,\n",
       "       350.53671787, 320.59910894, 361.7492121 , 325.97101462,\n",
       "       312.60859085, 314.49260257, 347.37429217, 305.75809182,\n",
       "       338.97979833, 343.91295642, 354.93184482, 335.38352254,\n",
       "       357.54273823, 334.25129055, 353.84053501, 325.79843117,\n",
       "       344.72202693, 335.59437531, 342.92301332, 373.01524518,\n",
       "       340.26936595, 341.01219901, 342.25523239, 345.2418018 ,\n",
       "       307.64242216, 351.30535103, 320.19402315, 310.41555681,\n",
       "       341.8202203 , 321.88051171, 343.70441876, 356.62883516,\n",
       "       340.5081603 , 325.25586244, 341.70753286, 370.54574942,\n",
       "       341.17748994, 366.51990275, 361.98992211, 322.49587116,\n",
       "       353.57225711, 320.48919356, 348.57313541, 348.59321179,\n",
       "       337.46655211, 316.66320821, 334.71860782, 335.2199554 ,\n",
       "       347.23268751, 339.1212741 , 347.7570746 , 335.38402165,\n",
       "       316.01666195, 339.52838873, 360.94376016, 327.21395812,\n",
       "       324.67197133, 311.15926417, 367.75151081, 324.15289274,\n",
       "       355.88826727, 342.39910871, 338.09291877, 341.14146398,\n",
       "       367.86851079, 365.5450267 , 347.73141354, 333.66220553,\n",
       "       361.93873596, 350.45275567, 341.81035076, 347.82671991,\n",
       "       328.77512708, 351.17130537, 336.10334839, 336.68066004,\n",
       "       322.85485542, 341.6632625 , 346.48017644, 318.12392104,\n",
       "       344.8758223 , 346.76727367, 359.65126914, 357.14193831])"
      ]
     },
     "execution_count": 10,
     "metadata": {},
     "output_type": "execute_result"
    }
   ],
   "source": [
    "y = norm.rvs(loc=340, scale=15, size=300)\n",
    "y"
   ]
  },
  {
   "cell_type": "markdown",
   "metadata": {},
   "source": [
    "###### ●Genera una muestra de 300 observaciones de una normal con media 220 y desviación típica 15 - Muestra_C"
   ]
  },
  {
   "cell_type": "code",
   "execution_count": 12,
   "metadata": {},
   "outputs": [
    {
     "data": {
      "text/plain": [
       "array([210.00203393, 210.23569033, 187.26625129, 216.29263474,\n",
       "       214.23893324, 226.98289017, 209.64574355, 213.48329486,\n",
       "       213.94011296, 211.92831096, 215.23516455, 210.92145266,\n",
       "       237.25250823, 217.32347395, 225.46678217, 224.91687242,\n",
       "       203.9558961 , 189.59751254, 202.18436383, 214.0106812 ,\n",
       "       219.27982184, 198.68644074, 228.67426932, 214.06902116,\n",
       "       231.24268421, 205.17417192, 176.18945574, 227.13327088,\n",
       "       225.85895251, 252.66796984, 220.30318498, 223.60015194,\n",
       "       244.94119629, 177.66651006, 197.24489295, 189.73804904,\n",
       "       223.86180909, 214.91801083, 226.55797393, 194.9090204 ,\n",
       "       207.42129108, 217.64337388, 215.29209845, 213.54995844,\n",
       "       233.61857866, 207.00458575, 210.5803021 , 210.19074765,\n",
       "       227.07808595, 202.23607188, 202.03723134, 203.01850885,\n",
       "       192.81954877, 214.07207099, 207.45529821, 186.1728951 ,\n",
       "       208.72709157, 217.60565185, 240.49385807, 215.38250939,\n",
       "       237.20092943, 219.86031908, 236.83607337, 198.82347972,\n",
       "       196.4976782 , 213.58153036, 212.2728354 , 217.48331901,\n",
       "       223.75722415, 199.58198947, 220.25984463, 208.74961727,\n",
       "       246.58208319, 214.42543854, 210.45226433, 243.78683321,\n",
       "       193.66924591, 242.42262259, 223.13743174, 211.40363946,\n",
       "       211.70822445, 218.31439736, 222.67111591, 207.00114868,\n",
       "       223.54979884, 228.83121177, 218.25490529, 240.97415395,\n",
       "       204.18547254, 219.93744104, 232.82419137, 225.11088721,\n",
       "       240.60900229, 232.7758915 , 202.23201946, 239.86103249,\n",
       "       210.09478568, 235.62176722, 219.59450914, 235.81613274,\n",
       "       183.27628727, 229.96804262, 216.80399258, 242.12897597,\n",
       "       242.86778961, 239.96451811, 217.33602723, 220.38963009,\n",
       "       206.95911519, 218.67121467, 221.35056244, 227.74793194,\n",
       "       240.45974571, 206.78835626, 222.64570337, 229.35465494,\n",
       "       217.57475798, 194.63995653, 212.9447034 , 210.67318382,\n",
       "       202.35035958, 222.50342495, 213.55622998, 215.53934859,\n",
       "       221.05681399, 217.94673418, 227.10476591, 227.07449487,\n",
       "       222.46857448, 225.2298041 , 230.10085063, 213.98232905,\n",
       "       234.7205135 , 238.87947743, 217.33411941, 239.47608243,\n",
       "       227.9237754 , 226.69020903, 246.151869  , 200.18467621,\n",
       "       231.95589652, 209.62175144, 222.33022115, 186.7756957 ,\n",
       "       231.74278102, 236.86555069, 203.86087267, 242.57750913,\n",
       "       210.15853127, 216.54298074, 201.81043698, 224.81150985,\n",
       "       212.2065959 , 214.77719607, 218.60276925, 201.11706554,\n",
       "       224.76252904, 212.6131285 , 236.93263881, 215.72421224,\n",
       "       224.01605429, 222.87829963, 234.53423323, 237.78370116,\n",
       "       217.23395361, 201.64546394, 215.50881207, 210.20265838,\n",
       "       225.61773831, 211.65003532, 220.93391982, 219.04109648,\n",
       "       219.90927773, 201.71827696, 232.18950072, 208.81979175,\n",
       "       191.78810113, 204.55003958, 210.58269154, 209.70491901,\n",
       "       221.57277051, 207.68118187, 219.30228407, 229.7331371 ,\n",
       "       203.46343335, 206.83843934, 238.28015977, 223.84771839,\n",
       "       230.306799  , 215.01551932, 217.21669537, 215.63792176,\n",
       "       205.79183804, 233.95169634, 200.54052927, 207.80702142,\n",
       "       200.55127986, 244.94399651, 204.61009264, 234.96108871,\n",
       "       197.92662497, 247.94408023, 255.07185187, 217.39767221,\n",
       "       240.56581637, 199.10900508, 211.64424028, 237.17753334,\n",
       "       219.65288135, 211.19897722, 219.38394536, 209.91105207,\n",
       "       208.12679799, 232.15857456, 190.07289099, 209.59621182,\n",
       "       218.27642712, 231.8020807 , 220.67412653, 211.90862957,\n",
       "       184.99895654, 261.24515294, 206.86736512, 228.47924096,\n",
       "       199.62762588, 231.89674865, 197.51563721, 209.63204372,\n",
       "       219.66427738, 200.13257749, 230.23502764, 219.23231898,\n",
       "       235.67846371, 231.78376811, 212.91828746, 201.45958601,\n",
       "       213.77639122, 234.83749777, 195.0663481 , 234.92860035,\n",
       "       195.74483212, 227.40388423, 226.32616695, 205.91667177,\n",
       "       197.76704498, 218.57978539, 226.63533447, 200.05843703,\n",
       "       225.57345345, 222.75783715, 200.21620527, 191.11283697,\n",
       "       218.78364765, 213.82216437, 197.28420737, 205.70854633,\n",
       "       250.86923387, 228.59832414, 226.91264551, 207.34346132,\n",
       "       218.9601978 , 235.69565974, 205.23053343, 210.0627215 ,\n",
       "       213.31576279, 211.28006112, 227.41446665, 207.6649854 ,\n",
       "       221.4937735 , 223.26074505, 223.35910307, 222.47740485,\n",
       "       198.29071584, 199.6562565 , 192.25024869, 221.88525153,\n",
       "       227.67789078, 226.64713172, 242.38397324, 215.75017895,\n",
       "       235.84352876, 222.27688174, 232.57835967, 208.97786583,\n",
       "       218.42534934, 207.36666881, 203.11018079, 187.35403818,\n",
       "       234.52503633, 225.16536697, 262.80653143, 220.91484452,\n",
       "       225.84491941, 204.67219894, 236.65563188, 210.36372287,\n",
       "       251.68749649, 256.69111278, 191.14077029, 209.58511824])"
      ]
     },
     "execution_count": 12,
     "metadata": {},
     "output_type": "execute_result"
    }
   ],
   "source": [
    "z = norm.rvs(loc=220, scale=15, size=300)\n",
    "z\n"
   ]
  },
  {
   "cell_type": "markdown",
   "metadata": {},
   "source": [
    "###### ►Comprueba con un test de hipótesis si las dos muestras tienen distinta media"
   ]
  },
  {
   "cell_type": "code",
   "execution_count": null,
   "metadata": {},
   "outputs": [],
   "source": []
  },
  {
   "cell_type": "markdown",
   "metadata": {},
   "source": [
    "###### Escribe cual es la hipótesis nula y cual es la alternativa"
   ]
  },
  {
   "cell_type": "markdown",
   "metadata": {},
   "source": [
    "###### Interpreta el p-valor"
   ]
  },
  {
   "cell_type": "markdown",
   "metadata": {},
   "source": [
    "## EJERCICIO 3"
   ]
  },
  {
   "cell_type": "markdown",
   "metadata": {},
   "source": [
    "###### ●Genera una muestra de 300 observaciones de una normal con media 340 y desviación típica 15 - Muestra_D"
   ]
  },
  {
   "cell_type": "code",
   "execution_count": null,
   "metadata": {},
   "outputs": [],
   "source": []
  },
  {
   "cell_type": "markdown",
   "metadata": {},
   "source": [
    "###### ●Genera una muestra de 300 observaciones de una normal con media 220 y desviación típica 5 - Muestra_E"
   ]
  },
  {
   "cell_type": "code",
   "execution_count": null,
   "metadata": {},
   "outputs": [],
   "source": []
  },
  {
   "cell_type": "markdown",
   "metadata": {},
   "source": [
    "###### ●Genera una muestra de 300 observaciones de una normal con media 340 y desviación típica 5 - Muestra_F"
   ]
  },
  {
   "cell_type": "code",
   "execution_count": null,
   "metadata": {},
   "outputs": [],
   "source": []
  },
  {
   "cell_type": "markdown",
   "metadata": {},
   "source": [
    "###### ►Comprueba con un test de hipótesis si las muestras D y E tienen distinta media"
   ]
  },
  {
   "cell_type": "code",
   "execution_count": null,
   "metadata": {},
   "outputs": [],
   "source": []
  },
  {
   "cell_type": "markdown",
   "metadata": {},
   "source": [
    "###### Escribe cual es la hipótesis nula y cual es la alternativa"
   ]
  },
  {
   "cell_type": "markdown",
   "metadata": {},
   "source": [
    "###### Interpreta el p-valor"
   ]
  },
  {
   "cell_type": "markdown",
   "metadata": {},
   "source": [
    "###### ►Comprueba con un test de hipótesis si las muestras D y F tienen distinta media"
   ]
  },
  {
   "cell_type": "code",
   "execution_count": null,
   "metadata": {},
   "outputs": [],
   "source": []
  },
  {
   "cell_type": "markdown",
   "metadata": {},
   "source": [
    "###### Escribe cual es la hipótesis nula y cual es la alternativa"
   ]
  },
  {
   "cell_type": "markdown",
   "metadata": {},
   "source": [
    "###### Interpreta el p-valor"
   ]
  },
  {
   "cell_type": "markdown",
   "metadata": {},
   "source": [
    "## EJERCICIO 4"
   ]
  },
  {
   "cell_type": "markdown",
   "metadata": {},
   "source": [
    "###### ●Genera una muestra de 4000 observaciones de una normal con media 72 y desviación típica 10 - Muestra_G"
   ]
  },
  {
   "cell_type": "code",
   "execution_count": null,
   "metadata": {},
   "outputs": [],
   "source": []
  },
  {
   "cell_type": "markdown",
   "metadata": {},
   "source": [
    "###### ●Genera una muestra de 4000 observaciones de una exponencial de parámetro 50 - Muestra_H"
   ]
  },
  {
   "cell_type": "code",
   "execution_count": null,
   "metadata": {},
   "outputs": [],
   "source": []
  },
  {
   "cell_type": "markdown",
   "metadata": {},
   "source": [
    "###### ►Comprueba con un test de hipótesis si la muestra_G es normal"
   ]
  },
  {
   "cell_type": "code",
   "execution_count": null,
   "metadata": {},
   "outputs": [],
   "source": []
  },
  {
   "cell_type": "code",
   "execution_count": null,
   "metadata": {},
   "outputs": [],
   "source": []
  },
  {
   "cell_type": "markdown",
   "metadata": {},
   "source": [
    "###### Escribe cual es la hipótesis nula y cual es la alternativa"
   ]
  },
  {
   "cell_type": "markdown",
   "metadata": {},
   "source": [
    "###### Interpreta el p-valor"
   ]
  },
  {
   "cell_type": "markdown",
   "metadata": {},
   "source": [
    "###### ►Comprueba con un test de hipótesis si la muestra_H es normal"
   ]
  },
  {
   "cell_type": "code",
   "execution_count": null,
   "metadata": {},
   "outputs": [],
   "source": []
  },
  {
   "cell_type": "markdown",
   "metadata": {},
   "source": [
    "###### Escribe cual es la hipótesis nula y cual es la alternativa"
   ]
  },
  {
   "cell_type": "markdown",
   "metadata": {},
   "source": [
    "###### Interpreta el p-valor"
   ]
  },
  {
   "cell_type": "markdown",
   "metadata": {},
   "source": [
    "## EJERCICIO 5"
   ]
  },
  {
   "cell_type": "markdown",
   "metadata": {},
   "source": [
    "###### ●Genera una muestra de 3000 observaciones de una normal con media 340 y desviación típica 150 - Muestra_I"
   ]
  },
  {
   "cell_type": "code",
   "execution_count": null,
   "metadata": {},
   "outputs": [],
   "source": []
  },
  {
   "cell_type": "markdown",
   "metadata": {},
   "source": [
    "###### ●Genera una muestra de 3000 observaciones de una normal con media 340 y desviación típica 150 - Muestra_J"
   ]
  },
  {
   "cell_type": "code",
   "execution_count": null,
   "metadata": {},
   "outputs": [],
   "source": []
  },
  {
   "cell_type": "markdown",
   "metadata": {},
   "source": [
    "###### ●Genera una muestra de 3000 observaciones de una uniforme entre 0 y 800 - Muestra_K"
   ]
  },
  {
   "cell_type": "code",
   "execution_count": null,
   "metadata": {},
   "outputs": [],
   "source": []
  },
  {
   "cell_type": "markdown",
   "metadata": {},
   "source": [
    "###### ●Genera una muestra de 3000 observaciones de una uniforme entre 0 y 800 - Muestra_L"
   ]
  },
  {
   "cell_type": "code",
   "execution_count": null,
   "metadata": {},
   "outputs": [],
   "source": []
  },
  {
   "cell_type": "markdown",
   "metadata": {},
   "source": [
    "###### ►Comprueba con un test de hipótesis si las muestras I y J tienen la misma distribución"
   ]
  },
  {
   "cell_type": "code",
   "execution_count": null,
   "metadata": {},
   "outputs": [],
   "source": []
  },
  {
   "cell_type": "markdown",
   "metadata": {},
   "source": [
    "###### Escribe cual es la hipótesis nula y cual es la alternativa"
   ]
  },
  {
   "cell_type": "markdown",
   "metadata": {},
   "source": [
    "###### Interpreta el p-valor"
   ]
  },
  {
   "cell_type": "markdown",
   "metadata": {},
   "source": [
    "###### ►Comprueba con un test de hipótesis si las muestras I y K tienen la misma distribución"
   ]
  },
  {
   "cell_type": "code",
   "execution_count": null,
   "metadata": {},
   "outputs": [],
   "source": []
  },
  {
   "cell_type": "markdown",
   "metadata": {},
   "source": [
    "###### Escribe cual es la hipótesis nula y cual es la alternativa"
   ]
  },
  {
   "cell_type": "markdown",
   "metadata": {},
   "source": [
    "###### Interpreta el p-valor"
   ]
  },
  {
   "cell_type": "markdown",
   "metadata": {},
   "source": [
    "###### ►Comprueba con un test de hipótesis si las muestras K y L tienen la misma distribución"
   ]
  },
  {
   "cell_type": "code",
   "execution_count": null,
   "metadata": {},
   "outputs": [],
   "source": []
  },
  {
   "cell_type": "markdown",
   "metadata": {},
   "source": [
    "###### Escribe cual es la hipótesis nula y cual es la alternativa"
   ]
  },
  {
   "cell_type": "markdown",
   "metadata": {},
   "source": [
    "###### Interpreta el p-valor"
   ]
  },
  {
   "cell_type": "markdown",
   "metadata": {},
   "source": [
    "## EJERCICIO 6"
   ]
  },
  {
   "cell_type": "markdown",
   "metadata": {},
   "source": [
    "###### ●Genera una muestra de 200 observaciones de una normal con media 280 y desviación típica 80 - Muestra_M"
   ]
  },
  {
   "cell_type": "code",
   "execution_count": null,
   "metadata": {},
   "outputs": [],
   "source": []
  },
  {
   "cell_type": "markdown",
   "metadata": {},
   "source": [
    "###### ►Comprueba con un test de hipótesis si la muestra M se distribuye como una normal(280, 80)"
   ]
  },
  {
   "cell_type": "code",
   "execution_count": null,
   "metadata": {},
   "outputs": [],
   "source": []
  },
  {
   "cell_type": "markdown",
   "metadata": {},
   "source": [
    "###### Escribe cual es la hipótesis nula y cual es la alternativa"
   ]
  },
  {
   "cell_type": "markdown",
   "metadata": {},
   "source": [
    "###### Interpreta el p-valor"
   ]
  },
  {
   "cell_type": "markdown",
   "metadata": {},
   "source": [
    "###### ►Comprueba con un test de hipótesis si la muestra M se distribuye como una uniforme(100, 200)"
   ]
  },
  {
   "cell_type": "code",
   "execution_count": null,
   "metadata": {},
   "outputs": [],
   "source": []
  },
  {
   "cell_type": "markdown",
   "metadata": {},
   "source": [
    "###### Escribe cual es la hipótesis nula y cual es la alternativa"
   ]
  },
  {
   "cell_type": "markdown",
   "metadata": {},
   "source": [
    "###### Interpreta el p-valor"
   ]
  },
  {
   "cell_type": "markdown",
   "metadata": {},
   "source": [
    "## EJERCICIO 7"
   ]
  },
  {
   "cell_type": "markdown",
   "metadata": {},
   "source": [
    "###### ●Genera una muestra de 40 observaciones de una uniforme(10,50) - Muestra_N"
   ]
  },
  {
   "cell_type": "code",
   "execution_count": null,
   "metadata": {},
   "outputs": [],
   "source": []
  },
  {
   "cell_type": "markdown",
   "metadata": {},
   "source": [
    "###### ►Comprueba con un test de hipótesis si la muestra N se distribuye como una uniforme(10, 50)"
   ]
  },
  {
   "cell_type": "code",
   "execution_count": null,
   "metadata": {},
   "outputs": [],
   "source": []
  },
  {
   "cell_type": "markdown",
   "metadata": {},
   "source": [
    "###### Escribe cual es la hipótesis nula y cual es la alternativa"
   ]
  },
  {
   "cell_type": "markdown",
   "metadata": {},
   "source": [
    "###### Interpreta el p-valor"
   ]
  },
  {
   "cell_type": "markdown",
   "metadata": {},
   "source": [
    "###### ►Comprueba con un test de hipótesis si la muestra N se distribuye como una normal(20, 4)"
   ]
  },
  {
   "cell_type": "code",
   "execution_count": null,
   "metadata": {},
   "outputs": [],
   "source": []
  },
  {
   "cell_type": "markdown",
   "metadata": {},
   "source": [
    "###### Escribe cual es la hipótesis nula y cual es la alternativa"
   ]
  },
  {
   "cell_type": "markdown",
   "metadata": {},
   "source": [
    "###### Interpreta el p-valor"
   ]
  },
  {
   "cell_type": "markdown",
   "metadata": {},
   "source": [
    "###### ►Comprueba con un test de hipótesis si la muestra N se distribuye como una normal(30, 0)"
   ]
  },
  {
   "cell_type": "code",
   "execution_count": null,
   "metadata": {},
   "outputs": [],
   "source": []
  },
  {
   "cell_type": "markdown",
   "metadata": {},
   "source": [
    "###### Escribe cual es la hipótesis nula y cual es la alternativa"
   ]
  },
  {
   "cell_type": "markdown",
   "metadata": {},
   "source": [
    "###### Interpreta el p-valor"
   ]
  }
 ],
 "metadata": {
  "kernelspec": {
   "display_name": "Python 3 (ipykernel)",
   "language": "python",
   "name": "python3"
  },
  "language_info": {
   "codemirror_mode": {
    "name": "ipython",
    "version": 3
   },
   "file_extension": ".py",
   "mimetype": "text/x-python",
   "name": "python",
   "nbconvert_exporter": "python",
   "pygments_lexer": "ipython3",
   "version": "3.11.5"
  },
  "toc": {
   "base_numbering": 1,
   "nav_menu": {},
   "number_sections": true,
   "sideBar": true,
   "skip_h1_title": false,
   "title_cell": "Table of Contents",
   "title_sidebar": "Contents",
   "toc_cell": false,
   "toc_position": {
    "height": "calc(100% - 180px)",
    "left": "10px",
    "top": "150px",
    "width": "341.65px"
   },
   "toc_section_display": true,
   "toc_window_display": true
  }
 },
 "nbformat": 4,
 "nbformat_minor": 4
}
